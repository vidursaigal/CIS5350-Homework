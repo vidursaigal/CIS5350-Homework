{
 "cells": [
  {
   "cell_type": "markdown",
   "id": "07ad78",
   "metadata": {
    "collapsed": false
   },
   "source": [
    "# Homework Set - II"
   ]
  },
  {
   "cell_type": "markdown",
   "id": "bbc6ee",
   "metadata": {
    "collapsed": false
   },
   "source": [
    "Each Question/subquestion is worth **2 points**, unless indicated otherwise."
   ]
  },
  {
   "cell_type": "markdown",
   "id": "bcf341",
   "metadata": {
    "collapsed": false
   },
   "source": [
    "### Reproducibility"
   ]
  },
  {
   "cell_type": "markdown",
   "id": "0090dd",
   "metadata": {
    "collapsed": false
   },
   "source": [
    "In the following section, imagine you are working on a gene expression dataset. You want to do some analysis with this dataset and publish a paper. To make sure someone else can reproduce your analysis and results, you want to generate a report with the code and the output results. You will do so using a jupyter notebook, using R. \n",
    "\n",
    "You will be doing a basic analysis of the `genes.table` dataset."
   ]
  },
  {
   "cell_type": "markdown",
   "id": "ef01bf",
   "metadata": {
    "collapsed": false
   },
   "source": [
    "**Q1.** **[4 points]** First, created a new notebook analogous to what you did in Module 12.\n",
    "\n",
    "- create it in your HW2 folder, name this `my_hw2_notebook`, and set the kernel to R\n",
    "- Add a new section called \"Homework\", and include an appropriate header describing what is contained in this notebook. \n",
    "- Add your code and answers to the questions below to the Homework section. \n",
    "- Make sure the kernel is set to R (System-wide)."
   ]
  },
  {
   "cell_type": "markdown",
   "id": "db7c3d",
   "metadata": {
    "collapsed": false
   },
   "source": [
    "**Q2.** **[3 points]** Create new cells which contain R code \"chunks\" that perform the following tasks:\n",
    "\n",
    "- First, read in the `genes.table` file and stored into a variable. \n",
    "- Use the `head()` function to print out the first few rows of the table and check if you correctly load the table.\n",
    "- What are the columns? Write your answer in a markdown cell in your new notebook."
   ]
  },
  {
   "cell_type": "code",
   "execution_count": 3,
   "id": "4a9531",
   "metadata": {
    "collapsed": false,
    "vscode": {
     "languageId": "r"
    }
   },
   "outputs": [
    {
     "data": {
      "text/html": [
       "<table class=\"dataframe\">\n",
       "<caption>A data.frame: 6 × 2</caption>\n",
       "<thead>\n",
       "\t<tr><th></th><th scope=col>geneA.geneB.geneC.geneD</th><th scope=col>X</th></tr>\n",
       "\t<tr><th></th><th scope=col>&lt;chr&gt;</th><th scope=col>&lt;lgl&gt;</th></tr>\n",
       "</thead>\n",
       "<tbody>\n",
       "\t<tr><th scope=row>1</th><td>0.0296366100597777 -0.155897744729822 0.777117756428197 0.93888224579024 </td><td>NA</td></tr>\n",
       "\t<tr><th scope=row>2</th><td>-0.559140191029743 0.857408217899044 0.954383868491277 2.1267176357031   </td><td>NA</td></tr>\n",
       "\t<tr><th scope=row>3</th><td>-0.067523485126175 -0.890625198074956 0.98413971439004 1.85739404989292  </td><td>NA</td></tr>\n",
       "\t<tr><th scope=row>4</th><td>-0.285218112603666 0.65227021287505 0.00221116561442614 1.86939427669382 </td><td>NA</td></tr>\n",
       "\t<tr><th scope=row>5</th><td>-1.23289415606197 0.0863166052952267 0.33585471031256 0.750987125589182  </td><td>NA</td></tr>\n",
       "\t<tr><th scope=row>6</th><td>-0.196549322669711 0.0349378251421061 0.0523636580910534 3.68738296200279</td><td>NA</td></tr>\n",
       "</tbody>\n",
       "</table>\n"
      ],
      "text/latex": [
       "A data.frame: 6 × 2\n",
       "\\begin{tabular}{r|ll}\n",
       "  & geneA.geneB.geneC.geneD & X\\\\\n",
       "  & <chr> & <lgl>\\\\\n",
       "\\hline\n",
       "\t1 & 0.0296366100597777 -0.155897744729822 0.777117756428197 0.93888224579024  & NA\\\\\n",
       "\t2 & -0.559140191029743 0.857408217899044 0.954383868491277 2.1267176357031    & NA\\\\\n",
       "\t3 & -0.067523485126175 -0.890625198074956 0.98413971439004 1.85739404989292   & NA\\\\\n",
       "\t4 & -0.285218112603666 0.65227021287505 0.00221116561442614 1.86939427669382  & NA\\\\\n",
       "\t5 & -1.23289415606197 0.0863166052952267 0.33585471031256 0.750987125589182   & NA\\\\\n",
       "\t6 & -0.196549322669711 0.0349378251421061 0.0523636580910534 3.68738296200279 & NA\\\\\n",
       "\\end{tabular}\n"
      ],
      "text/markdown": [
       "\n",
       "A data.frame: 6 × 2\n",
       "\n",
       "| <!--/--> | geneA.geneB.geneC.geneD &lt;chr&gt; | X &lt;lgl&gt; |\n",
       "|---|---|---|\n",
       "| 1 | 0.0296366100597777 -0.155897744729822 0.777117756428197 0.93888224579024  | NA |\n",
       "| 2 | -0.559140191029743 0.857408217899044 0.954383868491277 2.1267176357031    | NA |\n",
       "| 3 | -0.067523485126175 -0.890625198074956 0.98413971439004 1.85739404989292   | NA |\n",
       "| 4 | -0.285218112603666 0.65227021287505 0.00221116561442614 1.86939427669382  | NA |\n",
       "| 5 | -1.23289415606197 0.0863166052952267 0.33585471031256 0.750987125589182   | NA |\n",
       "| 6 | -0.196549322669711 0.0349378251421061 0.0523636580910534 3.68738296200279 | NA |\n",
       "\n"
      ],
      "text/plain": [
       "  geneA.geneB.geneC.geneD                                                   X \n",
       "1 0.0296366100597777 -0.155897744729822 0.777117756428197 0.93888224579024  NA\n",
       "2 -0.559140191029743 0.857408217899044 0.954383868491277 2.1267176357031    NA\n",
       "3 -0.067523485126175 -0.890625198074956 0.98413971439004 1.85739404989292   NA\n",
       "4 -0.285218112603666 0.65227021287505 0.00221116561442614 1.86939427669382  NA\n",
       "5 -1.23289415606197 0.0863166052952267 0.33585471031256 0.750987125589182   NA\n",
       "6 -0.196549322669711 0.0349378251421061 0.0523636580910534 3.68738296200279 NA"
      ]
     },
     "metadata": {},
     "output_type": "display_data"
    },
    {
     "name": "stdout",
     "output_type": "stream",
     "text": [
      "The columns in the genes.table are:\n",
      "- geneA.geneB.geneC.geneD\n",
      "- X"
     ]
    }
   ],
   "source": [
    "# Load the genes.table file into a variable with enhanced error handling\n",
    "genes_data <- read.table(\"genes.table\", header = TRUE, sep = \"\\t\", fill = TRUE)\n",
    "\n",
    "# Print the first few rows of the table using head()\n",
    "head(genes_data)\n",
    "\n",
    "# Create a markdown cell to describe the columns\n",
    "the_columns <- colnames(genes_data)\n",
    "cat(\"The columns in the genes.table are:\")\n",
    "cat(paste0(\"\\n- \", the_columns, collapse = \"\"))\n",
    "\n"
   ]
  },
  {
   "cell_type": "markdown",
   "metadata": {},
   "source": [
    "The columns in the genes.table are:\n",
    "- geneA.geneB.geneC.geneD\n",
    "- X"
   ]
  },
  {
   "cell_type": "markdown",
   "id": "62378b",
   "metadata": {
    "collapsed": false
   },
   "source": [
    "**Q3.** **[3 points]** Next,\n",
    "\n",
    "- Using the `hist()` function, create a new cell and write code to plot the distribution of abundance for each gene. \n",
    "- Outside the code chunk, use comments to interpret what you observe from these plots. For example: do they look normally distributed?) \n",
    "- If you wanted to test for differences in expression between genes, which tests would you use for which comparisons? Why? (Hint: What does the t-test assume? What is an alternative to a t-test?). Write your answers in a markdown cell in your new notebook."
   ]
  },
  {
   "cell_type": "code",
   "execution_count": 24,
   "id": "b2a5e0",
   "metadata": {
    "collapsed": false,
    "vscode": {
     "languageId": "r"
    }
   },
   "outputs": [
    {
     "name": "stdout",
     "output_type": "stream",
     "text": [
      " num [1:500, 1:4] 0.0296 -0.5591 -0.0675 -0.2852 -1.2329 ...\n",
      " - attr(*, \"dimnames\")=List of 2\n",
      "  ..$ : NULL\n",
      "  ..$ : chr [1:4] \"X1\" \"X2\" \"X3\" \"X4\"\n"
     ]
    },
    {
     "data": {
      "image/png": "[encoded data removed]",
      "text/plain": [
       "Plot with title \"Distribution of Gene D Abundance\""
      ]
     },
     "metadata": {
      "image/png": {
       "height": 420,
       "width": 420
      }
     },
     "output_type": "display_data"
    }
   ],
   "source": [
    "# Split the 'geneA.geneB.geneC.geneD' column into separate gene columns\n",
    "genes_data_split <- data.frame(do.call('rbind', strsplit(as.character(genes_data$geneA.geneB.geneC.geneD), ' ')))\n",
    "\n",
    "# Convert the split gene columns to numeric\n",
    "genes_data_split <- apply(genes_data_split, 2, function(x) as.numeric(as.character(x)))\n",
    "\n",
    "# Check the structure of the new data frame\n",
    "str(genes_data_split)\n",
    "\n",
    "# Assign column names (geneA, geneB, geneC, geneD)\n",
    "colnames(genes_data_split) <- c(\"geneA\", \"geneB\", \"geneC\", \"geneD\")\n",
    "\n",
    "# Plot histograms for each gene's abundance\n",
    "par(mfrow = c(2, 2))  # Set up a 2x2 plotting grid\n",
    "hist(genes_data_split[, \"geneA\"], main = \"Distribution of Gene A Abundance\", xlab = \"Abundance\", col = \"lightblue\")\n",
    "hist(genes_data_split[, \"geneB\"], main = \"Distribution of Gene B Abundance\", xlab = \"Abundance\", col = \"lightgreen\")\n",
    "hist(genes_data_split[, \"geneC\"], main = \"Distribution of Gene C Abundance\", xlab = \"Abundance\", col = \"lightcoral\")\n",
    "hist(genes_data_split[, \"geneD\"], main = \"Distribution of Gene D Abundance\", xlab = \"Abundance\", col = \"lightyellow\")\n",
    "\n",
    "# Reset plot layout\n",
    "par(mfrow = c(1, 1))\n"
   ]
  },
  {
   "cell_type": "markdown",
   "metadata": {},
   "source": [
    "To test for differences in expression between genes, the choice of statistical test depends on the distribution of the data and whether the assumptions for certain tests are met.\n",
    "\n",
    "1. t-test (Two-sample t-test):\n",
    "The t-test is used to compare the means between two groups. However, it assumes that:\n",
    "The data are normally distributed (bell-shaped).\n",
    "The variances between groups are equal (homogeneity of variances).\n",
    "The samples are independent.\n",
    "From the histograms:\n",
    "\n",
    "Gene A and Gene B distributions appear approximately normal, which makes them good candidates for a t-test.\n",
    "If we were to compare the mean expression of Gene A and Gene B, a t-test might be appropriate provided we also check for equal variances using an F-test or Levene’s test.\n",
    "2. Non-parametric test (Mann-Whitney U test / Wilcoxon rank-sum test):\n",
    "If the data are not normally distributed, such as in the case of Gene C (which has a uniform-like distribution) and Gene D (which is heavily skewed), a non-parametric test like the Mann-Whitney U test (also called the Wilcoxon rank-sum test) is more appropriate.\n",
    "Non-parametric tests do not assume normality and instead compare the ranks of the data, which makes them suitable for skewed or non-normal distributions like Gene D.\n",
    "3. ANOVA (Analysis of Variance):\n",
    "If we want to compare the means of more than two groups (e.g., comparing all four genes), ANOVA can be used, provided the normality and equal variance assumptions are met.\n",
    "For non-normal distributions like Gene C and Gene D, a Kruskal-Wallis test (a non-parametric version of ANOVA) would be a better option, as it does not assume normality.\n",
    "Conclusion:\n",
    "For genes that are normally distributed (such as Gene A and Gene B), a t-test or ANOVA could be used to compare their means.\n",
    "For genes that are not normally distributed (such as Gene C and Gene D), a Mann-Whitney U test or Kruskal-Wallis test would be more appropriate to compare their medians."
   ]
  },
  {
   "cell_type": "markdown",
   "id": "d87083",
   "metadata": {
    "collapsed": false
   },
   "source": [
    "The genes all look normally distributed, so we can use a t test for comparisons. If they were not normally distributed, we could use a wilcoxon ranked sum test"
   ]
  },
  {
   "cell_type": "markdown",
   "id": "b2e3e2",
   "metadata": {
    "collapsed": false
   },
   "source": [
    "**Q4.** **[4 points]** Now, create a new cell in your notebook and use the approprite statistical test to compare the expression patterns of the following pairs:\n",
    "\n",
    "**a. geneA vs geneB**\n",
    "\n",
    "**b. geneA vs geneC**\n",
    "\n",
    "**c. geneB vs geneC**\n",
    "\n",
    "**d. geneB vs geneD**\n",
    "\n",
    "(Hint: In R, the functions `t.test()` and `wilcox.test()` may be useful to you.)\n",
    "\n",
    "Outside the code chunks, write down what statistical test you use in the analysis and what results you get. \n",
    "\n",
    "Write your answers in a markdown cell in your new notebook."
   ]
  },
  {
   "cell_type": "code",
   "execution_count": 25,
   "id": "331355",
   "metadata": {
    "collapsed": false,
    "vscode": {
     "languageId": "r"
    }
   },
   "outputs": [
    {
     "data": {
      "text/plain": [
       "\n",
       "\tWelch Two Sample t-test\n",
       "\n",
       "data:  genes_data_split[, \"geneA\"] and genes_data_split[, \"geneB\"]\n",
       "t = 0.20203, df = 876.75, p-value = 0.8399\n",
       "alternative hypothesis: true difference in means is not equal to 0\n",
       "95 percent confidence interval:\n",
       " -0.1386207  0.1704329\n",
       "sample estimates:\n",
       "  mean of x   mean of y \n",
       "-0.06278609 -0.07869219 \n"
      ]
     },
     "metadata": {},
     "output_type": "display_data"
    },
    {
     "data": {
      "text/plain": [
       "\n",
       "\tWilcoxon rank sum test with continuity correction\n",
       "\n",
       "data:  genes_data_split[, \"geneA\"] and genes_data_split[, \"geneC\"]\n",
       "W = 73274, p-value < 2.2e-16\n",
       "alternative hypothesis: true location shift is not equal to 0\n"
      ]
     },
     "metadata": {},
     "output_type": "display_data"
    },
    {
     "data": {
      "text/plain": [
       "\n",
       "\tWilcoxon rank sum test with continuity correction\n",
       "\n",
       "data:  genes_data_split[, \"geneB\"] and genes_data_split[, \"geneC\"]\n",
       "W = 85865, p-value < 2.2e-16\n",
       "alternative hypothesis: true location shift is not equal to 0\n"
      ]
     },
     "metadata": {},
     "output_type": "display_data"
    },
    {
     "data": {
      "text/plain": [
       "\n",
       "\tWilcoxon rank sum test with continuity correction\n",
       "\n",
       "data:  genes_data_split[, \"geneB\"] and genes_data_split[, \"geneD\"]\n",
       "W = 36393, p-value < 2.2e-16\n",
       "alternative hypothesis: true location shift is not equal to 0\n"
      ]
     },
     "metadata": {},
     "output_type": "display_data"
    }
   ],
   "source": [
    "# a. geneA vs geneB (Assuming normal distributions based on histograms)\n",
    "t_test_ab <- t.test(genes_data_split[, \"geneA\"], genes_data_split[, \"geneB\"])\n",
    "t_test_ab\n",
    "\n",
    "# b. geneA vs geneC (Gene C is not normally distributed, so using non-parametric test)\n",
    "wilcox_test_ac <- wilcox.test(genes_data_split[, \"geneA\"], genes_data_split[, \"geneC\"])\n",
    "wilcox_test_ac\n",
    "\n",
    "# c. geneB vs geneC (Gene C is not normally distributed, so using non-parametric test)\n",
    "wilcox_test_bc <- wilcox.test(genes_data_split[, \"geneB\"], genes_data_split[, \"geneC\"])\n",
    "wilcox_test_bc\n",
    "\n",
    "# d. geneB vs geneD (Gene D is skewed, so using non-parametric test)\n",
    "wilcox_test_bd <- wilcox.test(genes_data_split[, \"geneB\"], genes_data_split[, \"geneD\"])\n",
    "wilcox_test_bd\n"
   ]
  },
  {
   "cell_type": "markdown",
   "id": "5a0ff7",
   "metadata": {
    "collapsed": false
   },
   "source": [
    "a. geneA vs geneB (Welch Two Sample t-test):\n",
    "I used a Welch Two Sample t-test since both geneA and geneB appear to be normally distributed.\n",
    "Results: The p-value is 0.8399, which is much greater than 0.05. This indicates that we fail to reject the null hypothesis, meaning there is no significant difference in the mean expression levels between geneA and geneB. The 95% confidence interval also contains 0 (-0.1386 to 0.1704), supporting the conclusion that the means are similar.\n",
    "\n",
    "b. geneA vs geneC (Wilcoxon rank-sum test):\n",
    "I used a Wilcoxon rank-sum test because geneC is not normally distributed.\n",
    "Results: The p-value is < 2.2e-16, which is extremely small. This means we reject the null hypothesis and conclude that there is a significant difference in the median expression levels between geneA and geneC.\n",
    "\n",
    "c. geneB vs geneC (Wilcoxon rank-sum test):\n",
    "A Wilcoxon rank-sum test was also used here, as geneC is not normally distributed.\n",
    "Results: The p-value is < 2.2e-16, again indicating that we reject the null hypothesis and conclude that there is a significant difference in the median expression levels between geneB and geneC.\n",
    "\n",
    "d. geneB vs geneD (Wilcoxon rank-sum test):\n",
    "I used a Wilcoxon rank-sum test for this comparison since geneD is skewed.\n",
    "Results: The p-value is < 2.2e-16, which is very small, meaning we reject the null hypothesis. This suggests a significant difference in the median expression levels between geneB and geneD.\n",
    "\n",
    "Summary:\n",
    "There is no significant difference between the mean expression levels of geneA and geneB (p-value = 0.8399).\n",
    "There are significant differences in the median expression levels between geneA and geneC, geneB and geneC, and geneB and geneD (all with p-values < 2.2e-16)."
   ]
  },
  {
   "cell_type": "markdown",
   "id": "06c704",
   "metadata": {
    "collapsed": false
   },
   "source": [
    "**Q5.** **[2 points]** Finally:\n",
    "\n",
    "- Create a new cell, call the `sessionInfo()` command. \n",
    "\n",
    "This command gives you a snapshot of the versions of libraries and various tools that you have installed (and run). \n",
    "Useful for reproducibility!"
   ]
  },
  {
   "cell_type": "code",
   "execution_count": 26,
   "id": "4ee6e7",
   "metadata": {
    "collapsed": false,
    "vscode": {
     "languageId": "r"
    }
   },
   "outputs": [
    {
     "data": {
      "text/plain": [
       "R version 4.4.1 (2024-06-14 ucrt)\n",
       "Platform: x86_64-w64-mingw32/x64\n",
       "Running under: Windows 10 x64 (build 19045)\n",
       "\n",
       "Matrix products: default\n",
       "\n",
       "\n",
       "locale:\n",
       "[1] LC_COLLATE=English_United States.utf8 \n",
       "[2] LC_CTYPE=English_United States.utf8   \n",
       "[3] LC_MONETARY=English_United States.utf8\n",
       "[4] LC_NUMERIC=C                          \n",
       "[5] LC_TIME=English_United States.utf8    \n",
       "\n",
       "time zone: America/New_York\n",
       "tzcode source: internal\n",
       "\n",
       "attached base packages:\n",
       "[1] stats     graphics  grDevices utils     datasets  methods   base     \n",
       "\n",
       "loaded via a namespace (and not attached):\n",
       " [1] digest_0.6.37     IRdisplay_1.1     utf8_1.2.4        base64enc_0.1-3  \n",
       " [5] fastmap_1.2.0     glue_1.7.0        htmltools_0.5.8.1 repr_1.1.7       \n",
       " [9] lifecycle_1.0.4   cli_3.6.3         fansi_1.0.6       vctrs_0.6.5      \n",
       "[13] pbdZMQ_0.3-12     compiler_4.4.1    tools_4.4.1       evaluate_0.24.0  \n",
       "[17] pillar_1.9.0      crayon_1.5.3      rlang_1.1.4       jsonlite_1.8.8   \n",
       "[21] IRkernel_1.3.2    uuid_1.2-1       "
      ]
     },
     "metadata": {},
     "output_type": "display_data"
    }
   ],
   "source": [
    "# Display session information\n",
    "sessionInfo()\n"
   ]
  },
  {
   "cell_type": "markdown",
   "id": "4c9a40",
   "metadata": {
    "collapsed": false
   },
   "source": [
    "**Q6.** **[2 points]** Now:\n",
    "\n",
    "- Make sure you hit the save button on your jupyter notebook!\n",
    "- Download your ipython notebook file as an html file. To accomplish this, go to the \"File\" menu and select \"Download as\", and select HTML.\n",
    "- Copy the HTML back to your homework project directory.\n",
    "\n",
    "Try downloading this onto your own computer! Open in up in a web browser. As you can see, it looks very similar to the code in the jupyter notebook, except that you can not edit it.\n",
    "\n",
    ".html files can be opened by any web browser. Therefore, this html file can be useful for sharing your results with anyone who does not have jupyter installed on their computer. You can also download jupyter notebooks as .pdf files if you have jupyter installed on your own computer. However, the pdf convertor does not always work on CoCalc."
   ]
  },
  {
   "cell_type": "markdown",
   "id": "13be65",
   "metadata": {
    "collapsed": false
   },
   "source": [
    "### Working in the UNIX environment"
   ]
  },
  {
   "cell_type": "markdown",
   "id": "a8a93c",
   "metadata": {
    "collapsed": false
   },
   "source": [
    "In the below questions, write the UNIX command that you used to accomplish the task."
   ]
  },
  {
   "cell_type": "markdown",
   "id": "5d99b8",
   "metadata": {
    "collapsed": false
   },
   "source": [
    "**Q7a.** **[2 points]** Move to the directory called `assignment_move_here`"
   ]
  },
  {
   "cell_type": "raw",
   "id": "333bb4",
   "metadata": {
    "collapsed": false,
    "vscode": {
     "languageId": "raw"
    }
   },
   "source": [
    "cd assignment_move_here"
   ]
  },
  {
   "cell_type": "markdown",
   "id": "fb67e0",
   "metadata": {
    "collapsed": false
   },
   "source": [
    "**Q7b.** **[2 points]** Now list the files in this directory:"
   ]
  },
  {
   "cell_type": "raw",
   "metadata": {
    "vscode": {
     "languageId": "raw"
    }
   },
   "source": [
    "ls\n",
    "Mode                 LastWriteTime         Length Name\n",
    "----                 -------------         ------ ----\n",
    "d-----         10/2/2024   6:42 AM                output\n",
    "-a----         10/2/2024   6:42 AM           3613 orig_151_pokemon.txt"
   ]
  },
  {
   "cell_type": "markdown",
   "id": "d7d96f",
   "metadata": {
    "collapsed": false
   },
   "source": [
    "**Q7c.** **[2 points]** See how there are several Pokémon-related files here, and a directory called `output/`. \n",
    "\n",
    "- Do a listing of this directory to see what is in that directory (if anything)."
   ]
  },
  {
   "cell_type": "raw",
   "id": "9b08b0",
   "metadata": {
    "collapsed": false,
    "vscode": {
     "languageId": "raw"
    }
   },
   "source": [
    "cd output\n",
    "ls\n",
    "Mode                 LastWriteTime         Length Name\n",
    "----                 -------------         ------ ----"
   ]
  },
  {
   "cell_type": "markdown",
   "id": "f14d0c",
   "metadata": {
    "collapsed": false
   },
   "source": [
    "**Q8.** **[2 points]** So we see that nothing is in the output directory, and so our job will be to fill this in ourselves! First, let's get a sense of what the data looks like. The main file is `orig_151_pokemon.txt`, so write a command to take a look at that file "
   ]
  },
  {
   "cell_type": "raw",
   "id": "d357d6",
   "metadata": {
    "collapsed": false,
    "vscode": {
     "languageId": "raw"
    }
   },
   "source": [
    "cat orig_151_pokemon.txt\n",
    "\n",
    "\n",
    "name    type1   type2   number\n",
    "Bulbasaur       Grass   Poison  1\n",
    "Ivysaur Grass   Poison  2\n",
    "Venusaur        Grass   Poison  3\n",
    "Charmander      Fire    None    4\n",
    "Charmeleon      Fire    None    5\n",
    "Charizard       Fire    Flying  6\n",
    "Squirtle        Water   None    7\n",
    "Wartortle       Water   None    8\n",
    "Blastoise       Water   None    9\n",
    "Caterpie        Bug     None    10\n",
    "Metapod Bug     None    11\n",
    "Butterfree      Bug     Flying  12\n",
    "Weedle  Bug     Poison  13\n",
    "Kakuna  Bug     Poison  14\n",
    "Beedrill        Bug     Poison  15\n",
    "Pidgey  Normal  Flying  16\n",
    "Pidgeotto       Normal  Flying  17\n",
    "Pidgeot Normal  Flying  18\n",
    "Rattata Normal  None    19\n",
    "Raticate        Normal  None    20\n",
    "Spearow Normal  Flying  21\n",
    "Fearow  Normal  Flying  22\n",
    "Ekans   Poison  None    23\n",
    "Arbok   Poison  None    24\n",
    "Pikachu Electric        None    25\n",
    "Raichu  Electric        None    26\n",
    "Sandshrew       Ground  None    27\n",
    "Sandslash       Ground  None    28\n",
    "Nidoran Poison  None    29\n",
    "Nidorina        Poison  None    30\n",
    "Nidoqueen       Poison  Ground  31\n",
    "Nidoran Poison  None    32\n",
    "Nidorino        Poison  None    33\n",
    "Nidoking        Poison  Ground  34\n",
    "Clefairy        Fairy   None    35\n",
    "Clefable        Fairy   None    36\n",
    "Vulpix  Fire    None    37\n",
    "Ninetales       Fire    None    38\n",
    "Jigglypuff      Normal  Fairy   39\n",
    "Wigglytuff      Normal  Fairy   40\n",
    "Zubat   Poison  Flying  41\n",
    "Golbat  Poison  Flying  42\n",
    "Oddish  Grass   Poison  43\n",
    "Gloom   Grass   Poison  44\n",
    "Vileplume       Grass   Poison  45\n",
    "Paras   Bug     Grass   46\n",
    "Parasect        Bug     Grass   47\n",
    "Venonat Bug     Poison  48\n",
    "Venomoth        Bug     Poison  49\n",
    "Diglett Ground  None    50\n",
    "Dugtrio Ground  None    51\n",
    "Meowth  Normal  None    52\n",
    "Persian Normal  None    53\n",
    "Psyduck Water   None    54\n",
    "Golduck Water   None    55\n",
    "Mankey  Fighting        None    56\n",
    "Primeape        Fighting        None    57\n",
    "Growlithe       Fire    None    58\n",
    "Arcanine        Fire    None    59\n",
    "Poliwag Water   None    60\n",
    "Poliwhirl       Water   None    61\n",
    "Poliwrath       Water   Fighting        62\n",
    "Abra    Psychic None    63\n",
    "Kadabra Psychic None    64\n",
    "Alakazam        Psychic None    65\n",
    "Machop  Fighting        None    66\n",
    "Machoke Fighting        None    67\n",
    "Machamp Fighting        None    68\n",
    "Bellsprout      Grass   Poison  69\n",
    "Weepinbell      Grass   Poison  70\n",
    "Victreebel      Grass   Poison  71\n",
    "Tentacool       Water   Poison  72\n",
    "Tentacruel      Water   Poison  73\n",
    "Geodude Rock    Ground  74\n",
    "Graveler        Rock    Ground  75\n",
    "Golem   Rock    Ground  76\n",
    "Ponyta  Fire    None    77\n",
    "Rapidash        Fire    None    78\n",
    "Slowpoke        Water   Psychic 79\n",
    "Slowbro Water   Psychic 80\n",
    "Magnemite       Electric        Steel   81\n",
    "Magneton        Electric        Steel   82\n",
    "Farfetch'd      Normal  Flying  83\n",
    "Doduo   Normal  Flying  84\n",
    "Dodrio  Normal  Flying  85\n",
    "Seel    Water   None    86\n",
    "Dewgong Water   Ice     87\n",
    "Grimer  Poison  None    88\n",
    "Muk     Poison  None    89\n",
    "Shellder        Water   None    90\n",
    "Cloyster        Water   Ice     91\n",
    "Gastly  Ghost   Poison  92\n",
    "Haunter Ghost   Poison  93\n",
    "Gengar  Ghost   Poison  94\n",
    "Onix    Rock    Ground  95\n",
    "Drowzee Psychic None    96\n",
    "Hypno   Psychic None    97\n",
    "Krabby  Water   None    98\n",
    "Kingler Water   None    99\n",
    "Voltorb Electric        None    100\n",
    "Electrode       Electric        None    101\n",
    "Exeggcute       Grass   Psychic 102\n",
    "Exeggutor       Grass   Psychic 103\n",
    "Cubone  Ground  None    104\n",
    "Marowak Ground  None    105\n",
    "Hitmonlee       Fighting        None    106\n",
    "Hitmonchan      Fighting        None    107\n",
    "Lickitung       Normal  None    108\n",
    "Koffing Poison  None    109\n",
    "Weezing Poison  None    110\n",
    "Rhyhorn Ground  Rock    111\n",
    "Rhydon  Ground  Rock    112\n",
    "Chansey Normal  None    113\n",
    "Tangela Grass   None    114\n",
    "Kangaskhan      Normal  None    115\n",
    "Horsea  Water   None    116\n",
    "Seadra  Water   None    117\n",
    "Goldeen Water   None    118\n",
    "Seaking Water   None    119\n",
    "Staryu  Water   None    120\n",
    "Starmie Water   Psychic 121\n",
    "Mr. Mime        Psychic Fairy   122\n",
    "Scyther Bug     Flying  123\n",
    "Jynx    Ice     Psychic 124\n",
    "Electabuzz      Electric        None    125\n",
    "Magmar  Fire    None    126\n",
    "Pinsir  Bug     None    127\n",
    "Tauros  Normal  None    128\n",
    "Magikarp        Water   None    129\n",
    "Gyarados        Water   Flying  130\n",
    "Lapras  Water   Ice     131\n",
    "Ditto   Normal  None    132\n",
    "Eevee   Normal  None    133\n",
    "Vaporeon        Water   None    134\n",
    "Jolteon Electric        None    135\n",
    "Flareon Fire    None    136\n",
    "Porygon Normal  None    137\n",
    "Omanyte Rock    Water   138\n",
    "Omastar Rock    Water   139\n",
    "Kabuto  Rock    Water   140\n",
    "Kabutops        Rock    Water   141\n",
    "Aerodactyl      Rock    Flying  142\n",
    "Snorlax Normal  None    143\n",
    "Articuno        Ice     Flying  144\n",
    "Zapdos  Electric        Flying  145\n",
    "Moltres Fire    Flying  146\n",
    "Dratini Dragon  None    147\n",
    "Dragonair       Dragon  None    148\n",
    "Dragonite       Dragon  Flying  149\n",
    "Mewtwo  Psychic None    150\n",
    "Mew     Psychic None    151"
   ]
  },
  {
   "cell_type": "markdown",
   "id": "75c101",
   "metadata": {
    "collapsed": false
   },
   "source": [
    "**Q9.** **[3 points]** Now, write a command to \n",
    "- extract the main type (type 1)\n",
    "- remove the header line\n",
    "- sort the types\n",
    "- count the number of Pokemon with each unique type (remember you can use the man pages if you forget a certain flag). \n",
    "- sort the types in descending order in terms of number of each type\n",
    "- Finally, send the output of this command to a file called `output/type1_counts.txt`"
   ]
  },
  {
   "cell_type": "raw",
   "id": "800fe6",
   "metadata": {
    "collapsed": false,
    "vscode": {
     "languageId": "raw"
    }
   },
   "source": [
    "cut -f2 orig_151_pokemon.txt | tail -n +2 | sort | uniq -c | sort -nr > output/type1_counts.txt"
   ]
  },
  {
   "cell_type": "markdown",
   "id": "523d65",
   "metadata": {
    "collapsed": false
   },
   "source": [
    "**Q10.** **[2 points]** Write a command to print this file."
   ]
  },
  {
   "cell_type": "raw",
   "id": "5391db",
   "metadata": {
    "collapsed": false,
    "vscode": {
     "languageId": "raw"
    }
   },
   "source": [
    "cat output/type1_counts.txt\n",
    "\n",
    "\n",
    "28 Water\n",
    "22 Normal\n",
    "14 Poison\n",
    "12 Grass\n",
    "12 Fire\n",
    "12 Bug\n",
    "9 Rock\n",
    "9 Electric\n",
    "8 Psychic\n",
    "8 Ground\n",
    "7 Fighting\n",
    "3 Dragon\n",
    "3 Ghost\n",
    "2 Fairy\n",
    "2 Ice"
   ]
  },
  {
   "cell_type": "markdown",
   "id": "0b03f5",
   "metadata": {
    "collapsed": false
   },
   "source": [
    "**Q11.** **[2 points]** What's the most second common *main* type for a Pokemon to have? How many Pokemon have this main type?"
   ]
  },
  {
   "cell_type": "markdown",
   "id": "4bdb2a",
   "metadata": {
    "collapsed": false
   },
   "source": [
    "The second most common main type for a Pokémon is Normal, and there are 22 Pokémon with this main type."
   ]
  },
  {
   "cell_type": "markdown",
   "id": "465ba7",
   "metadata": {
    "collapsed": false
   },
   "source": [
    "**Q12.** **[3 points]** Now write a similar command for the secondary types (type 2 of each Pokemon), and send it to `output/type2_counts.txt`."
   ]
  },
  {
   "cell_type": "raw",
   "id": "353cf0",
   "metadata": {
    "collapsed": false,
    "vscode": {
     "languageId": "raw"
    }
   },
   "source": [
    "cut -f3 orig_151_pokemon.txt | tail -n +2 | sort | uniq -c | sort -nr > output/type2_counts.txt\n",
    "cat output/type2_counts.txt\n",
    "84 None\n",
    "19 Flying\n",
    "19 Poison\n",
    "6 Psychic\n",
    "6 Ground\n",
    "4 Water\n",
    "3 Ice\n",
    "3 Fairy\n",
    "2 Rock\n",
    "2 Steel\n",
    "2 Grass\n",
    "1 Fighting"
   ]
  },
  {
   "cell_type": "markdown",
   "id": "3fbff2",
   "metadata": {
    "collapsed": false
   },
   "source": [
    "**Q13.** **[2 points]** How many Pokemon have no secondary type (denoted by 'None' in the type2 column)? "
   ]
  },
  {
   "cell_type": "markdown",
   "id": "6888f9",
   "metadata": {
    "collapsed": false
   },
   "source": [
    "According to the output, 84 Pokémon have no secondary type, as indicated by 'None' in the type2 column.\n"
   ]
  },
  {
   "cell_type": "markdown",
   "id": "107014",
   "metadata": {
    "collapsed": false
   },
   "source": [
    "**Q14.** **[2 points]** What secondary type has the same number of Pokemon as the Psychic Secondary type?"
   ]
  },
  {
   "cell_type": "markdown",
   "id": "b6121a",
   "metadata": {
    "collapsed": false
   },
   "source": [
    "The secondary type that has the same number of Pokémon as the Psychic secondary type (which has 6 Pokémon) is Ground, as both types have 6 Pokémon with that secondary type."
   ]
  },
  {
   "cell_type": "markdown",
   "id": "a57c1f",
   "metadata": {
    "collapsed": false
   },
   "source": [
    "**Q15.** **[3 points]** Now, let's look at combinations of types. Write a command to \n",
    "- extract both type fields from the file\n",
    "- remove the header line\n",
    "- remove Pokemon without a secondary type (i.e. without 'None' as it's secondary type)\n",
    "- sort the extracted combinations\n",
    "- count how many times each unique combination of types appears\n",
    "- and send this to output/combo_type_counts.txt\n",
    "- sort the counts in descending order\n",
    "(hint: you may need to review the manual for grep to accomplish this task)"
   ]
  },
  {
   "cell_type": "raw",
   "id": "03d406",
   "metadata": {
    "collapsed": false,
    "vscode": {
     "languageId": "raw"
    }
   },
   "source": [
    "cut -f2,3 orig_151_pokemon.txt | tail -n +2 | grep -v \"None\" | sort | uniq -c | sort -nr > output/combo_type_counts.txt\n",
    "cat output/combo_type_counts.txt\n",
    "9 Grass Poison\n",
    "8 Normal Flying\n",
    "5 Bug Poison\n",
    "4 Rock Water\n",
    "4 Rock Ground\n",
    "3 Ghost Poison\n",
    "3 Water Psychic\n",
    "3 Water Ice\n",
    "2 Water Poison\n",
    "2 Normal Fairy\n",
    "2 Poison Ground\n",
    "2 Poison Flying\n",
    "2 Bug Flying\n",
    "2 Fire Flying\n",
    "2 Bug Grass\n",
    "2 Grass Psychic\n",
    "2 Electric Steel\n",
    "2 Ground Rock\n",
    "1 Water Flying\n",
    "1 Dragon Flying\n",
    "1 Ice Psychic\n",
    "1 Water Fighting\n",
    "1 Rock Flying\n",
    "1 Psychic Fairy\n",
    "1 Electric Flying\n",
    "1 Ice Flying"
   ]
  },
  {
   "cell_type": "markdown",
   "id": "4110d8",
   "metadata": {
    "collapsed": false
   },
   "source": [
    "**Q16.** **[2 points]** What's the 3rd most common combination of types, where there actually is a secondary type (so ignore entries with 'None' in the second column)? What many Pokemon are of this combination of types?"
   ]
  },
  {
   "cell_type": "markdown",
   "id": "89cb67",
   "metadata": {
    "collapsed": false
   },
   "source": [
    "The 3rd most common combination of types, where there is a secondary type (ignoring 'None'), is Bug Poison, with 5 Pokémon having this combination."
   ]
  },
  {
   "cell_type": "markdown",
   "id": "e64e59",
   "metadata": {
    "collapsed": false
   },
   "source": [
    "For the next part of this assignment, we are going to get some more practice with `grep` and file compression. For this, we will be using a data set from the city of Philadelphia about historic streets. This data set is located at:\n",
    "\n",
    "http://data.phl.opendata.arcgis.com/datasets/9409bce14c4e4768a11a8432e80bfa68_0.csv"
   ]
  },
  {
   "cell_type": "markdown",
   "id": "d41289",
   "metadata": {
    "collapsed": false
   },
   "source": [
    "**Q17.** **[3 points]** Move back into the main directory for this homework, make a folder called `homework_data/`, and move into it."
   ]
  },
  {
   "cell_type": "raw",
   "id": "fc313c",
   "metadata": {
    "collapsed": false,
    "vscode": {
     "languageId": "raw"
    }
   },
   "source": [
    "cd ..\n",
    "mkdir homework_data\n",
    "cd homework_data"
   ]
  },
  {
   "cell_type": "markdown",
   "id": "47b099",
   "metadata": {
    "collapsed": false
   },
   "source": [
    "**Q18.** **[4 points]** Use wget with the `-O` flag, or with curl using the `-L` flag and output redirection to download this file into the current directory (homework_data) and name it `historic_streets.csv`.\n",
    "\n",
    "Print the first 10 lines of this file to see what it looks like."
   ]
  },
  {
   "cell_type": "raw",
   "id": "a9c40c",
   "metadata": {
    "collapsed": false,
    "vscode": {
     "languageId": "raw"
    }
   },
   "source": [
    "wget -O historic_streets.csv http://data.phl.opendata.arcgis.com/datasets/9409bce14c4e4768a11a8432e80bfa68_0.csv\n",
    "head -n 10 historic_streets.csv\n",
    "\n",
    "\n",
    "OBJECTID_12,OBJECTID_1,OBJECTID,GIS_STREET,ON_STREET,FROM_STREE,TO_STREET,ST_CODE,SEG_ID,ONEWAY,CLASS,RESPONSIBL,L_HUNDRED,R_HUNDRED,BLOCKNUMBE,PRIMARYROA,Shape__Length\n",
    "1,,1293,,CHERRY ST,N 23RD ST,DEAD END WEST,22740,422197,B,5,CITY,2300,,43,Granite Block,315.922094215338  \n",
    "2,,1295,,LATIMER ST,S 21ST ST,DEAD END,49280,422968,B,5,CITY,2000,,106,Granite Block,403.70132822223      \n",
    "3,,1303,,CARLTON ST,N 15TH ST,DEAD END EAST,21440,422005,B,5,CITY,1400,,34,Red Brick,215.926689242892     \n",
    "4,,1347,,CUTHBERT ST,N 22ND ST,N 23RD ST,26520,422911,B,5,CITY,2200,,56,Granite Block,329.964668711315    \n",
    "5,,1356,,ST JAMES ST,S 22ND ST,DEAD END EAST,74100,422970,B,12,PRIVATE,2100,,174,Blue Stone Slab,217.391852877224\n",
    "6,,1357,,CHANCELLOR ST,S 21ST ST,S 22ND ST,22300,422972,B,5,CITY,2100,,40.01,Granite Block,165.871022816486\n",
    "7,,1417,,WAVERLY ST,S CARLISLE ST,S 15TH ST,81860,320677,B,5,CITY,1400,,205,Blue Glazed Brick,198.765447287506\n",
    "8,,1426,,DELANCEY ST,S 16TH ST,DEAD END,27980,323004,B,5,CITY,1500,,64,Blue Glazed Brick,188.404769791113 \n",
    "9,,1431,,S CHADWICK ST,CYPRESS ST,PINE ST,22180,320710,B,5,CITY,300,,37,Granite Block,357.589816886496   "
   ]
  },
  {
   "cell_type": "markdown",
   "id": "e78000",
   "metadata": {
    "collapsed": false
   },
   "source": [
    "Notice how this is a comma separated file, containing information about historic streets in Philadelphia. Each row contains information about a given street such as the street name, where it comes from, and where it goes. \n",
    "\n",
    "**Q19.** **[4 points]** Give a command to \n",
    "- cut out the 5th column of this file (remember that you need to specify that it is comma-delimited)\n",
    "- count how many different, unique streets there are in this column (remember you can pipe results to the wc command to get the number of lines)\n",
    "\n",
    "*Hint: Check to see if the file has a header. If so, don't forget to account for this extra line.* "
   ]
  },
  {
   "cell_type": "raw",
   "metadata": {
    "vscode": {
     "languageId": "raw"
    }
   },
   "source": [
    "cut -d, -f5 historic_streets.csv | tail -n +2 | sort | uniq | wc -l\n",
    "\n",
    "Count    : 175\n",
    "Average  :\n",
    "Sum      :\n",
    "Maximum  :\n",
    "Minimum  :\n",
    "Property :\n"
   ]
  },
  {
   "cell_type": "markdown",
   "id": "7fc27a",
   "metadata": {
    "collapsed": false
   },
   "source": [
    "**Q20.** **[4 points]** Now give a command to count how many times each street appears in the 5th column. How many streets are displayed 8 times in the dataset?"
   ]
  },
  {
   "cell_type": "raw",
   "id": "2d129a",
   "metadata": {
    "collapsed": false,
    "vscode": {
     "languageId": "raw"
    }
   },
   "source": [
    "cut -d, -f5 historic_streets.csv | tail -n +2 | sort | uniq -c | awk '$1 == 8' | wc -l\n",
    "\n",
    "Count    : 3\n",
    "Average  :\n",
    "Sum      :\n",
    "Maximum  :\n",
    "Minimum  :\n",
    "Property :"
   ]
  },
  {
   "cell_type": "markdown",
   "id": "7fecfd",
   "metadata": {
    "collapsed": false
   },
   "source": [
    "The three streets with 8 occurrences in the dataset are: E Erie Ave, Wood St, Cypress St"
   ]
  },
  {
   "cell_type": "markdown",
   "id": "5c361e",
   "metadata": {
    "collapsed": false
   },
   "source": [
    "**Q21.** **[2 points]** Now use `grep` to find all the entries that contain 'ERIE AVE', either west or east."
   ]
  },
  {
   "cell_type": "raw",
   "id": "5597c5",
   "metadata": {
    "collapsed": false,
    "vscode": {
     "languageId": "raw"
    }
   },
   "source": [
    "grep 'ERIE AVE' historic_streets.csv\n",
    "\n",
    "\n",
    "historic_streets.csv:16:15,,6371,,E ERIE AVE,D ST,KENSINGTON AVE,31980,641501,B,3,STATE,800,,70.02,Red    \n",
    "Brick,1168.09681215679\n",
    "historic_streets.csv:17:16,,6372,,E ERIE AVE,D ST,KENSINGTON AVE,31980,641495,B,3,STATE,1000,,70.05,Red \n",
    "Brick,192.428534329313\n",
    "historic_streets.csv:18:17,,6373,,E ERIE AVE,D ST,KENSINGTON AVE,31980,641489,B,3,STATE,1100,,70.06,Red   \n",
    "Brick,193.695316071656\n",
    "historic_streets.csv:19:18,,6374,,E ERIE AVE,D ST,KENSINGTON AVE,31980,641485,B,3,STATE,1100,,70.07,Red   \n",
    "Brick,178.082122113213\n",
    "historic_streets.csv:20:19,,6375,,E ERIE AVE,D ST,KENSINGTON AVE,31980,641483,B,3,STATE,1100,,70.08,Red   \n",
    "Brick,193.245168721746\n",
    "historic_streets.csv:21:20,,6383,,E ERIE AVE,D ST,KENSINGTON AVE,31980,641497,B,3,STATE,1000,,70.04,Red   \n",
    "Brick,165.739854402697\n",
    "historic_streets.csv:22:21,,6384,,E ERIE AVE,D ST,KENSINGTON AVE,31980,641499,B,3,STATE,1000,,70.03,Red   \n",
    "Brick,208.43201062613\n",
    "historic_streets.csv:23:22,,6591,,E ERIE AVE,D ST,KENSINGTON AVE,31980,641481,B,3,STATE,1200,,70.09,Red   \n",
    "Brick,579.551003074998\n",
    "historic_streets.csv:24:23,,6594,,E ERIE AVE,D ST,KENSINGTON AVE,31980,641461,B,3,STATE,1400,,70.13,Red   \n",
    "Brick,565.087246598291\n",
    "historic_streets.csv:25:24,,6599,,E ERIE AVE,D ST,KENSINGTON AVE,31980,641477,B,3,STATE,1300,,70.1,Red    \n",
    "Brick,221.115715251183\n",
    "historic_streets.csv:26:25,,6600,,E ERIE AVE,D ST,KENSINGTON AVE,31980,641472,B,3,STATE,1300,,70.11,Red   \n",
    "Brick,184.344652014114\n",
    "historic_streets.csv:27:26,,6601,,E ERIE AVE,D ST,KENSINGTON AVE,31980,641466,B,3,STATE,1300,,70.12,Red   \n",
    "Brick,213.387191003604\n",
    "historic_streets.csv:29:28,,7055,,E ERIE AVE,D ST,KENSINGTON AVE,31980,641455,B,3,STATE,1500,,70.14,Red   \n",
    "Brick,564.956220409393\n",
    "historic_streets.csv:30:29,,7057,,E ERIE AVE,D ST,KENSINGTON AVE,31980,641449,B,3,STATE,1600,,70.15,Red   \n",
    "Brick,192.689650087294\n",
    "historic_streets.csv:110:109,,12787,,W ERIE AVE,N 05TH ST,N 09TH\n",
    "ST,32000,641356,B,3,STATE,800,,71.01,Granite Block,146.089174686698\n",
    "historic_streets.csv:111:110,,12789,,W ERIE AVE,N 05TH ST,N 09TH\n",
    "ST,32000,641361,B,3,STATE,800,,71.02,Granite Block,139.217778388997\n",
    "historic_streets.csv:112:111,,12792,,W ERIE AVE,N 05TH ST,N 09TH\n",
    "ST,32000,641367,B,3,STATE,700,,71.03,Granite Block,181.632140061522\n",
    "historic_streets.csv:113:112,,12815,,W ERIE AVE,N 05TH ST,N 09TH\n",
    "ST,32000,641378,B,3,STATE,600,,71.05,Granite Block,235.113336533868\n",
    "historic_streets.csv:114:113,,12816,,W ERIE AVE,N 05TH ST,N 09TH\n",
    "ST,32000,641376,B,3,STATE,700,,71.04,Granite Block,185.233086194918\n",
    "historic_streets.csv:115:114,,12822,,W ERIE AVE,N 05TH ST,N 09TH\n",
    "ST,32000,641401,B,3,STATE,500,,71.08,Granite Block,281.661300138351\n",
    "historic_streets.csv:116:115,,12825,,W ERIE AVE,N 05TH ST,N 09TH\n",
    "ST,32000,641391,B,3,STATE,500,,71.07,Granite Block,277.992267498979\n",
    "historic_streets.csv:117:116,,12826,,W ERIE AVE,N 05TH ST,N 09TH\n",
    "ST,32000,641387,B,3,STATE,600,,71.06,Granite Block,233.999470298888\n",
    "historic_streets.csv:118:117,,13032,,E ERIE AVE,FRONT ST,B ST,31980,641393,B,3,STATE,100,,69.01,Red       \n",
    "Brick,597.377395833122\n",
    "historic_streets.csv:119:118,,13034,,E ERIE AVE,FRONT ST,B ST,31980,642545,B,3,STATE,100,,69.02,Red       \n",
    "Brick,498.261554629497\n",
    "historic_streets.csv:284:283,,26605,,GERMANTOWN AVE,W ERIE AVE,W HUNTING PARK\n",
    "AVE,36660,620358,B,3,STATE,3800,,86.03,Granite Block,215.713567096873\n",
    "historic_streets.csv:285:284,,26606,,GERMANTOWN AVE,W ERIE AVE,W HUNTING PARK\n",
    "AVE,36660,620363,B,3,STATE,3900,,86.04,Granite Block,217.492052075054\n",
    "historic_streets.csv:286:285,,26607,,GERMANTOWN AVE,W ERIE AVE,W HUNTING PARK\n",
    "AVE,36660,620364,B,3,STATE,3900,,86.05,Granite Block,37.9467358991394\n",
    "historic_streets.csv:349:348,,28148,,GERMANTOWN AVE,W ERIE AVE,W HUNTING PARK\n",
    "AVE,36660,620354,B,3,STATE,3900,,86.06,Granite Block,477.468024861523\n",
    "historic_streets.csv:350:349,,28150,,GERMANTOWN AVE,W ERIE AVE,W HUNTING PARK\n",
    "AVE,36660,620349,B,3,STATE,4000,,86.07,Granite Block,576.901344403299\n",
    "historic_streets.csv:363:362,,33233,,GERMANTOWN AVE,W ERIE AVE,W HUNTING PARK\n",
    "AVE,36660,620359,B,3,STATE,3800,,86.02,Granite Block,415.534187908947\n",
    "historic_streets.csv:364:363,,33237,,GERMANTOWN AVE,W ERIE AVE,W HUNTING PARK\n",
    "AVE,36660,641238,B,3,STATE,3700,,86.01,Granite Block,368.853266310011\n",
    "historic_streets.csv:365:364,,33297,,E ERIE AVE,D ST,KENSINGTON\n",
    "AVE,31980,641460,B,3,STATE,500,,70.01,Red Brick,1652.43637009627"
   ]
  },
  {
   "cell_type": "markdown",
   "id": "5df0c6",
   "metadata": {
    "collapsed": false
   },
   "source": [
    "**Q22.** **[4 points]** Let's look at the very last column, which describes what kind of road each entry is. Give a command to \n",
    "\n",
    "- cut out this column (which is the 16th column)\n",
    "- find all the unique classes\n",
    "- and count how many entries there are for each class\n",
    "- sort by counts in **ASCENDING** order"
   ]
  },
  {
   "cell_type": "raw",
   "id": "c115e6",
   "metadata": {
    "collapsed": false,
    "vscode": {
     "languageId": "raw"
    }
   },
   "source": [
    "cut -d, -f16 historic_streets.csv | tail -n +2 | sort | uniq -c | sort -n\n",
    "\n",
    "1 Blue Stone Slab\n",
    "2 Cobblestone\n",
    "2 Granite Block (White)\n",
    "3 Wood Block\n",
    "4 Red Brick (Molded)\n",
    "7 Orange Brick\n",
    "7 Yellow Brick\n",
    "9 Blue Glazed Brick\n",
    "83 Red Brick\n",
    "369 Granite Block"
   ]
  },
  {
   "cell_type": "markdown",
   "id": "ae9493",
   "metadata": {
    "collapsed": false
   },
   "source": [
    "**Q23.** **[2 points]** Next,\n",
    "\n",
    "- extract all the entries that have Red Brick in this column (including the \"Red Brick (Molded)\" entries) with `grep`\n",
    "- write this to a file called `red_brick_houses.txt`\n",
    "- compress this into a .tar.gz file called `red_brick_houses.tar.gz`\n",
    "\n",
    "Note that you can search the whole entry for Red Brick, not just specifically the last column (i.e. you don't need to use a cut command first)."
   ]
  },
  {
   "cell_type": "raw",
   "id": "4f3e58",
   "metadata": {
    "collapsed": false,
    "vscode": {
     "languageId": "raw"
    }
   },
   "source": [
    "grep 'Red Brick' historic_streets.csv > red_brick_houses.txt\n",
    "tar -czvf red_brick_houses.tar.gz red_brick_houses.txt\n"
   ]
  },
  {
   "cell_type": "markdown",
   "id": "58ceba",
   "metadata": {
    "collapsed": false
   },
   "source": [
    "### Analyzing ChIP-seq Resullts"
   ]
  },
  {
   "cell_type": "markdown",
   "id": "09484f",
   "metadata": {
    "collapsed": false
   },
   "source": [
    "In the following section we ask questions related to the ChIP-seq analysis modules. All the data needed to answer these questions are included in the `chip-seq_data` folder."
   ]
  },
  {
   "cell_type": "markdown",
   "id": "4fa447",
   "metadata": {
    "collapsed": false
   },
   "source": [
    "**Q24.** **[2 points]** From the folder from where you ended the last section, give and run the commands to navigate into the `chip-seq_data` folder and identify how many peaks we have in the file of p53 peaks under DMSO treatment which we used in the first ChIP-Seq module."
   ]
  },
  {
   "cell_type": "code",
   "execution_count": 6,
   "id": "c807fb",
   "metadata": {
    "collapsed": false,
    "vscode": {
     "languageId": "r"
    }
   },
   "outputs": [],
   "source": [
    "# write code below: "
   ]
  },
  {
   "cell_type": "markdown",
   "id": "9b0024",
   "metadata": {
    "collapsed": false
   },
   "source": [
    "**Q25.** **[2 points]** Next, give a command to:\n",
    "1. Pull out the first column of the bed file\n",
    "2. Sort it\n",
    "3. Display how many peaks there are on each chromosome.\n",
    "4. Sort it in descending order"
   ]
  },
  {
   "cell_type": "code",
   "execution_count": 0,
   "id": "118997",
   "metadata": {
    "collapsed": false,
    "vscode": {
     "languageId": "r"
    }
   },
   "outputs": [],
   "source": [
    "# write code below:"
   ]
  },
  {
   "cell_type": "markdown",
   "id": "ced34b",
   "metadata": {
    "collapsed": false
   },
   "source": [
    "**Q26.** **[2 points]** Next, upload this file to the UCSC genome browser (you can use the same uploading approach as the bedGraph file). Then, navigate to the genomic interval  chr1:76204325-76204623   and look at the peak overlap. This peak overlaps with which gene?"
   ]
  },
  {
   "cell_type": "markdown",
   "id": "02ef76",
   "metadata": {
    "collapsed": false
   },
   "source": [
    "Insert answer here: "
   ]
  },
  {
   "cell_type": "markdown",
   "id": "4a0f0b",
   "metadata": {
    "collapsed": false
   },
   "source": [
    "**Q27.** **[2 points]** Now go back to the p53-input.DMSO_peaks.narrowPeak file. Which peak name (in the fourth column) does this locus correspond to?"
   ]
  },
  {
   "cell_type": "markdown",
   "id": "770ed4",
   "metadata": {
    "collapsed": false
   },
   "source": [
    "Insert answer here:"
   ]
  },
  {
   "cell_type": "markdown",
   "id": "ebe3f8",
   "metadata": {
    "collapsed": false
   },
   "source": [
    "**Q28.** **[2 points]** What are the -log10 values of the p- and q-value for this peak?"
   ]
  },
  {
   "cell_type": "markdown",
   "id": "9da19c",
   "metadata": {
    "collapsed": false
   },
   "source": [
    "Insert answer here:"
   ]
  },
  {
   "cell_type": "markdown",
   "id": "dd57d9",
   "metadata": {
    "collapsed": false
   },
   "source": [
    "**Q29.** **[2 points]** Now, we will look at another peak in the region chr15:63,449,045-63,449,917. We have provided a bedgraph file called p53_Nutlin.sub.bedgraph of some of the reads from the p53 condition around this region. Next, upload this file to the genome browser and look at this bedgraph file next to the called peak, making sure you're at the chr15:63,449,045-63,449,917 genomic interval. Do the raw read patterns seem to support the called peak?"
   ]
  },
  {
   "cell_type": "markdown",
   "id": "2b3a18",
   "metadata": {
    "collapsed": false
   },
   "source": [
    "Insert answer here:"
   ]
  },
  {
   "cell_type": "markdown",
   "id": "6b72d9",
   "metadata": {
    "collapsed": false
   },
   "source": [
    "**Q30.** **[2 points]** Short answer: We will continue examining the peak: chr15:63,449,045-63,449,917. Where along the gene does this peak for the p53_Nutlin.sub.bedgraph file seem to fall? Does it seem to differ between isoforms (make sure to look at the UCSC genes)? Given that this data reflects p53 binding, a transcription factor, what might this mean about the relationship between p53 and the gene?"
   ]
  },
  {
   "cell_type": "markdown",
   "id": "5f3700",
   "metadata": {
    "collapsed": false
   },
   "source": [
    "Insert answer here:"
   ]
  },
  {
   "cell_type": "markdown",
   "id": "dcb01e",
   "metadata": {
    "collapsed": false
   },
   "source": [
    "**Q31.** **[2 points]** Short answer:  The UCSC genome browser displays several tracks related to gene regulation. Display the ENCODE regulation panel. Which histone mark overlaps well with the region surrounding the peak identified above? Is this mark typically associated with activation or repression of genes?"
   ]
  },
  {
   "cell_type": "markdown",
   "id": "865ded",
   "metadata": {
    "collapsed": false
   },
   "source": [
    "Insert answer here:"
   ]
  },
  {
   "cell_type": "markdown",
   "id": "bb43bb",
   "metadata": {
    "collapsed": false
   },
   "source": [
    "**Q32.** **[2 points]** Short answer:  Examine the MultiZ vertebrate alignment track in the UCSC genome browser for this region. Which organism among Rhesus, Mouse, Dog, Elephant, Chicken, X. tropicalis, and Zebrafish has the most conservation in region of the ChIP-seq peak?"
   ]
  },
  {
   "cell_type": "markdown",
   "id": "6d0770",
   "metadata": {
    "collapsed": false
   },
   "source": [
    "Insert answer here:"
   ]
  },
  {
   "cell_type": "markdown",
   "id": "306466",
   "metadata": {
    "collapsed": false
   },
   "source": [
    "**Q33.** **[2 points]** Give the bedtools intersect call to find the number of p53 peaks in the Nutlin condition that are present in the DMSO condition:"
   ]
  },
  {
   "cell_type": "code",
   "execution_count": 0,
   "id": "302340",
   "metadata": {
    "collapsed": false,
    "vscode": {
     "languageId": "r"
    }
   },
   "outputs": [],
   "source": [
    "# write code below:"
   ]
  },
  {
   "cell_type": "markdown",
   "id": "68c319",
   "metadata": {
    "collapsed": false
   },
   "source": [
    "**Q34.** **[4 points]** What fraction of Nutlin p53 peaks is present in DMSO?"
   ]
  },
  {
   "cell_type": "code",
   "execution_count": 4,
   "id": "625d42",
   "metadata": {
    "collapsed": false,
    "vscode": {
     "languageId": "r"
    }
   },
   "outputs": [],
   "source": [
    "# write code below:"
   ]
  },
  {
   "cell_type": "markdown",
   "id": "e8387d",
   "metadata": {
    "collapsed": false
   },
   "source": [
    "Insert answer here:"
   ]
  },
  {
   "cell_type": "markdown",
   "id": "f04b7f",
   "metadata": {
    "collapsed": false
   },
   "source": [
    "**Q34.** **[4 points]** hg19 was the previous reference genome for the human genome, but there are newer versions of the human genome now. The most commonly used current reference genome (as of 2024) is hg38, although the recent Telomere to Telomere (T2T) Consortium has create a new reference that covers additional regions in the centromeres and telomeres across the human genome.\n",
    "\n",
    "The bed files are in hg19, but we would like to see where they are located in hg38, since this is the more commonly used reference genome. Using the liftOver function (read instructions here: https://genome.ucsc.edu/cgi-bin/hgLiftOver) in UCSC, please liftover p53-input.DMSO_peaks.narrowPeak from hg19 to hg38.\n",
    "\n",
    "Hints: \n",
    "1. You will notice that the liftover function can take as input the bed file, but it needs a specific format, which is outlined in its specifications.\n",
    "2. The results of the conversion can be obtained by going to the \"Results\" tab and clicking \"View Conversions\" to download a bed file. \n",
    "3. This downloaded bed file can be visualized using Unix commands. \n",
    "\n",
    "With this liftover over bedfile, answer the following question.\n",
    "\n",
    "1. **What is the new location of the region chr1:121484534-121485164 from hg19 in hg38?**"
   ]
  },
  {
   "cell_type": "code",
   "execution_count": 3,
   "id": "656ac6",
   "metadata": {
    "collapsed": false,
    "vscode": {
     "languageId": "r"
    }
   },
   "outputs": [],
   "source": [
    "# write code below:"
   ]
  },
  {
   "cell_type": "markdown",
   "id": "521e92",
   "metadata": {
    "collapsed": false
   },
   "source": [
    "**Q35.** **[4 points]** The liftOver function can liftover from different reference genomes of the same species, but it can also liftover to other species. Try lifting over the same set of the input peaks from p53-input.DMSO_peaks.narrowPeak to the mouse reference genome mm10.\n",
    "\n",
    "Then answer this question:\n",
    "1. **How many of the peaks failed to liftOver**? Provide a reason for why they could have failed to lift over. "
   ]
  },
  {
   "cell_type": "markdown",
   "id": "082c2f",
   "metadata": {
    "collapsed": false
   },
   "source": [
    "Insert answer here:"
   ]
  }
 ],
 "metadata": {
  "kernelspec": {
   "argv": [
    "python3",
    "-E",
    "-m",
    "bash_kernel",
    "-f",
    "{connection_file}"
   ],
   "display_name": "R",
   "env": {
    "PS1": "$"
   },
   "language": "R",
   "name": "ir",
   "resource_dir": "/ext/jupyter/kernels/bash"
  },
  "language_info": {
   "codemirror_mode": "r",
   "file_extension": ".r",
   "mimetype": "text/x-r-source",
   "name": "R",
   "pygments_lexer": "r",
   "version": "4.4.1"
  },
  "name": "Online_database_in_class.ipynb"
 },
 "nbformat": 4,
 "nbformat_minor": 4
}
