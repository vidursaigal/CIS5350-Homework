{
 "cells": [
  {
   "cell_type": "markdown",
   "id": "07ad78",
   "metadata": {
    "collapsed": false
   },
   "source": [
    "# Homework Set - II"
   ]
  },
  {
   "cell_type": "markdown",
   "id": "bbc6ee",
   "metadata": {
    "collapsed": false
   },
   "source": [
    "Each Question/subquestion is worth **2 points**, unless indicated otherwise."
   ]
  },
  {
   "cell_type": "markdown",
   "id": "bcf341",
   "metadata": {
    "collapsed": false
   },
   "source": [
    "### Reproducibility"
   ]
  },
  {
   "cell_type": "markdown",
   "id": "0090dd",
   "metadata": {
    "collapsed": false
   },
   "source": [
    "In the following section, imagine you are working on a gene expression dataset. You want to do some analysis with this dataset and publish a paper. To make sure someone else can reproduce your analysis and results, you want to generate a report with the code and the output results. You will do so using a jupyter notebook, using R. \n",
    "\n",
    "You will be doing a basic analysis of the `genes.table` dataset."
   ]
  },
  {
   "cell_type": "markdown",
   "id": "ef01bf",
   "metadata": {
    "collapsed": false
   },
   "source": [
    "**Q1.** **[4 points]** First, created a new notebook analogous to what you did in Module 12.\n",
    "\n",
    "- create it in your HW2 folder, name this `my_hw2_notebook`, and set the kernel to R\n",
    "- Add a new section called \"Homework\", and include an appropriate header describing what is contained in this notebook. \n",
    "- Add your code and answers to the questions below to the Homework section. \n",
    "- Make sure the kernel is set to R (System-wide)."
   ]
  },
  {
   "cell_type": "markdown",
   "id": "db7c3d",
   "metadata": {
    "collapsed": false
   },
   "source": [
    "**Q2.** **[3 points]** Create new cells which contain R code \"chunks\" that perform the following tasks:\n",
    "\n",
    "- First, read in the `genes.table` file and stored into a variable. \n",
    "- Use the `head()` function to print out the first few rows of the table and check if you correctly load the table.\n",
    "- What are the columns? Write your answer in a markdown cell in your new notebook."
   ]
  },
  {
   "cell_type": "code",
   "execution_count": 0,
   "id": "4a9531",
   "metadata": {
    "collapsed": false
   },
   "outputs": [
   ],
   "source": [
    "# show code below:"
   ]
  },
  {
   "cell_type": "markdown",
   "id": "62378b",
   "metadata": {
    "collapsed": false
   },
   "source": [
    "**Q3.** **[3 points]** Next,\n",
    "\n",
    "- Using the `hist()` function, create a new cell and write code to plot the distribution of abundance for each gene. \n",
    "- Outside the code chunk, use comments to interpret what you observe from these plots. For example: do they look normally distributed?) \n",
    "- If you wanted to test for differences in expression between genes, which tests would you use for which comparisons? Why? (Hint: What does the t-test assume? What is an alternative to a t-test?). Write your answers in a markdown cell in your new notebook."
   ]
  },
  {
   "cell_type": "code",
   "execution_count": 0,
   "id": "b2a5e0",
   "metadata": {
    "collapsed": false
   },
   "outputs": [
   ],
   "source": [
    "# show code below: "
   ]
  },
  {
   "cell_type": "markdown",
   "id": "d87083",
   "metadata": {
    "collapsed": false
   },
   "source": [
    "The genes all look normally distributed, so we can use a t test for comparisons. If they were not normally distributed, we could use a wilcoxon ranked sum test"
   ]
  },
  {
   "cell_type": "markdown",
   "id": "b2e3e2",
   "metadata": {
    "collapsed": false
   },
   "source": [
    "**Q4.** **[4 points]** Now, create a new cell in your notebook and use the approprite statistical test to compare the expression patterns of the following pairs:\n",
    "\n",
    "**a. geneA vs geneB**\n",
    "\n",
    "**b. geneA vs geneC**\n",
    "\n",
    "**c. geneB vs geneC**\n",
    "\n",
    "**d. geneB vs geneD**\n",
    "\n",
    "(Hint: In R, the functions `t.test()` and `wilcox.test()` may be useful to you.)\n",
    "\n",
    "Outside the code chunks, write down what statistical test you use in the analysis and what results you get. \n",
    "\n",
    "Write your answers in a markdown cell in your new notebook."
   ]
  },
  {
   "cell_type": "code",
   "execution_count": 0,
   "id": "331355",
   "metadata": {
    "collapsed": false
   },
   "outputs": [
   ],
   "source": [
    "# show code below: "
   ]
  },
  {
   "cell_type": "markdown",
   "id": "5a0ff7",
   "metadata": {
    "collapsed": false
   },
   "source": [
    "Insert answer here:"
   ]
  },
  {
   "cell_type": "markdown",
   "id": "06c704",
   "metadata": {
    "collapsed": false
   },
   "source": [
    "**Q5.** **[2 points]** Finally:\n",
    "\n",
    "- Create a new cell, call the `sessionInfo()` command. \n",
    "\n",
    "This command gives you a snapshot of the versions of libraries and various tools that you have installed (and run). \n",
    "Useful for reproducibility!"
   ]
  },
  {
   "cell_type": "code",
   "execution_count": 0,
   "id": "4ee6e7",
   "metadata": {
    "collapsed": false
   },
   "outputs": [
   ],
   "source": [
    "# show code below:"
   ]
  },
  {
   "cell_type": "markdown",
   "id": "4c9a40",
   "metadata": {
    "collapsed": false
   },
   "source": [
    "**Q6.** **[2 points]** Now:\n",
    "\n",
    "- Make sure you hit the save button on your jupyter notebook!\n",
    "- Download your ipython notebook file as an html file. To accomplish this, go to the \"File\" menu and select \"Download as\", and select HTML.\n",
    "- Copy the HTML back to your homework project directory.\n",
    "\n",
    "Try downloading this onto your own computer! Open in up in a web browser. As you can see, it looks very similar to the code in the jupyter notebook, except that you can not edit it.\n",
    "\n",
    ".html files can be opened by any web browser. Therefore, this html file can be useful for sharing your results with anyone who does not have jupyter installed on their computer. You can also download jupyter notebooks as .pdf files if you have jupyter installed on your own computer. However, the pdf convertor does not always work on CoCalc."
   ]
  },
  {
   "cell_type": "markdown",
   "id": "13be65",
   "metadata": {
    "collapsed": false
   },
   "source": [
    "### Working in the UNIX environment"
   ]
  },
  {
   "cell_type": "markdown",
   "id": "a8a93c",
   "metadata": {
    "collapsed": false
   },
   "source": [
    "In the below questions, write the UNIX command that you used to accomplish the task."
   ]
  },
  {
   "cell_type": "markdown",
   "id": "5d99b8",
   "metadata": {
    "collapsed": false
   },
   "source": [
    "**Q7a.** **[2 points]** Move to the directory called `assignment_move_here`"
   ]
  },
  {
   "cell_type": "code",
   "execution_count": 5,
   "id": "333bb4",
   "metadata": {
    "collapsed": false
   },
   "outputs": [
   ],
   "source": [
    "# show code below:"
   ]
  },
  {
   "cell_type": "markdown",
   "id": "fb67e0",
   "metadata": {
    "collapsed": false
   },
   "source": [
    "**Q7b.** **[2 points]** Now list the files in this directory:"
   ]
  },
  {
   "cell_type": "code",
   "execution_count": 0,
   "id": "2be758",
   "metadata": {
    "collapsed": false
   },
   "outputs": [
   ],
   "source": [
    "# show code below:"
   ]
  },
  {
   "cell_type": "markdown",
   "id": "d7d96f",
   "metadata": {
    "collapsed": false
   },
   "source": [
    "**Q7c.** **[2 points]** See how there are several Pokémon-related files here, and a directory called `output/`. \n",
    "\n",
    "- Do a listing of this directory to see what is in that directory (if anything)."
   ]
  },
  {
   "cell_type": "code",
   "execution_count": 0,
   "id": "9b08b0",
   "metadata": {
    "collapsed": false
   },
   "outputs": [
   ],
   "source": [
    "# show code below:"
   ]
  },
  {
   "cell_type": "markdown",
   "id": "f14d0c",
   "metadata": {
    "collapsed": false
   },
   "source": [
    "**Q8.** **[2 points]** So we see that nothing is in the output directory, and so our job will be to fill this in ourselves! First, let's get a sense of what the data looks like. The main file is `orig_151_pokemon.txt`, so write a command to take a look at that file "
   ]
  },
  {
   "cell_type": "code",
   "execution_count": 0,
   "id": "d357d6",
   "metadata": {
    "collapsed": false
   },
   "outputs": [
   ],
   "source": [
    "# show code below:"
   ]
  },
  {
   "cell_type": "markdown",
   "id": "75c101",
   "metadata": {
    "collapsed": false
   },
   "source": [
    "**Q9.** **[3 points]** Now, write a command to \n",
    "- extract the main type (type 1)\n",
    "- remove the header line\n",
    "- sort the types\n",
    "- count the number of Pokemon with each unique type (remember you can use the man pages if you forget a certain flag). \n",
    "- sort the types in descending order in terms of number of each type\n",
    "- Finally, send the output of this command to a file called `output/type1_counts.txt`"
   ]
  },
  {
   "cell_type": "code",
   "execution_count": 0,
   "id": "800fe6",
   "metadata": {
    "collapsed": false
   },
   "outputs": [
   ],
   "source": [
    "# show code below:"
   ]
  },
  {
   "cell_type": "markdown",
   "id": "523d65",
   "metadata": {
    "collapsed": false
   },
   "source": [
    "**Q10.** **[2 points]** Write a command to print this file."
   ]
  },
  {
   "cell_type": "code",
   "execution_count": 0,
   "id": "5391db",
   "metadata": {
    "collapsed": false
   },
   "outputs": [
   ],
   "source": [
    "# show code below:"
   ]
  },
  {
   "cell_type": "markdown",
   "id": "0b03f5",
   "metadata": {
    "collapsed": false
   },
   "source": [
    "**Q11.** **[2 points]** What's the most second common *main* type for a Pokemon to have? How many Pokemon have this main type?"
   ]
  },
  {
   "cell_type": "markdown",
   "id": "4bdb2a",
   "metadata": {
    "collapsed": false
   },
   "source": [
    "Insert answer here:"
   ]
  },
  {
   "cell_type": "markdown",
   "id": "465ba7",
   "metadata": {
    "collapsed": false
   },
   "source": [
    "**Q12.** **[3 points]** Now write a similar command for the secondary types (type 2 of each Pokemon), and send it to `output/type2_counts.txt`."
   ]
  },
  {
   "cell_type": "code",
   "execution_count": 0,
   "id": "353cf0",
   "metadata": {
    "collapsed": false
   },
   "outputs": [
   ],
   "source": [
    "# show code below:"
   ]
  },
  {
   "cell_type": "markdown",
   "id": "3fbff2",
   "metadata": {
    "collapsed": false
   },
   "source": [
    "**Q13.** **[2 points]** How many Pokemon have no secondary type (denoted by 'None' in the type2 column)? "
   ]
  },
  {
   "cell_type": "markdown",
   "id": "6888f9",
   "metadata": {
    "collapsed": false
   },
   "source": [
    "Insert answer here:"
   ]
  },
  {
   "cell_type": "markdown",
   "id": "107014",
   "metadata": {
    "collapsed": false
   },
   "source": [
    "**Q14.** **[2 points]** What secondary type has the same number of Pokemon as the Psychic Secondary type?"
   ]
  },
  {
   "cell_type": "markdown",
   "id": "b6121a",
   "metadata": {
    "collapsed": false
   },
   "source": [
    "Insert answer here:"
   ]
  },
  {
   "cell_type": "markdown",
   "id": "a57c1f",
   "metadata": {
    "collapsed": false
   },
   "source": [
    "**Q15.** **[3 points]** Now, let's look at combinations of types. Write a command to \n",
    "- extract both type fields from the file\n",
    "- remove the header line\n",
    "- remove Pokemon without a secondary type (i.e. without 'None' as it's secondary type)\n",
    "- sort the extracted combinations\n",
    "- count how many times each unique combination of types appears\n",
    "- and send this to output/combo_type_counts.txt\n",
    "- sort the counts in descending order\n",
    "(hint: you may need to review the manual for grep to accomplish this task)"
   ]
  },
  {
   "cell_type": "code",
   "execution_count": 0,
   "id": "03d406",
   "metadata": {
    "collapsed": false
   },
   "outputs": [
   ],
   "source": [
    "# write code below: "
   ]
  },
  {
   "cell_type": "markdown",
   "id": "4110d8",
   "metadata": {
    "collapsed": false
   },
   "source": [
    "**Q16.** **[2 points]** What's the 3rd most common combination of types, where there actually is a secondary type (so ignore entries with 'None' in the second column)? What many Pokemon are of this combination of types?"
   ]
  },
  {
   "cell_type": "markdown",
   "id": "89cb67",
   "metadata": {
    "collapsed": false
   },
   "source": [
    "Insert answer here:"
   ]
  },
  {
   "cell_type": "markdown",
   "id": "e64e59",
   "metadata": {
    "collapsed": false
   },
   "source": [
    "For the next part of this assignment, we are going to get some more practice with `grep` and file compression. For this, we will be using a data set from the city of Philadelphia about historic streets. This data set is located at:\n",
    "\n",
    "http://data.phl.opendata.arcgis.com/datasets/9409bce14c4e4768a11a8432e80bfa68_0.csv"
   ]
  },
  {
   "cell_type": "markdown",
   "id": "d41289",
   "metadata": {
    "collapsed": false
   },
   "source": [
    "**Q17.** **[3 points]** Move back into the main directory for this homework, make a folder called `homework_data/`, and move into it."
   ]
  },
  {
   "cell_type": "code",
   "execution_count": 0,
   "id": "fc313c",
   "metadata": {
    "collapsed": false
   },
   "outputs": [
   ],
   "source": [
    "# write code below:"
   ]
  },
  {
   "cell_type": "markdown",
   "id": "47b099",
   "metadata": {
    "collapsed": false
   },
   "source": [
    "**Q18.** **[4 points]** Use wget with the `-O` flag, or with curl using the `-L` flag and output redirection to download this file into the current directory (homework_data) and name it `historic_streets.csv`.\n",
    "\n",
    "Print the first 10 lines of this file to see what it looks like."
   ]
  },
  {
   "cell_type": "code",
   "execution_count": 0,
   "id": "a9c40c",
   "metadata": {
    "collapsed": false
   },
   "outputs": [
   ],
   "source": [
    "# write code below:"
   ]
  },
  {
   "cell_type": "markdown",
   "id": "e78000",
   "metadata": {
    "collapsed": false
   },
   "source": [
    "Notice how this is a comma separated file, containing information about historic streets in Philadelphia. Each row contains information about a given street such as the street name, where it comes from, and where it goes. \n",
    "\n",
    "**Q19.** **[4 points]** Give a command to \n",
    "- cut out the 5th column of this file (remember that you need to specify that it is comma-delimited)\n",
    "- count how many different, unique streets there are in this column (remember you can pipe results to the wc command to get the number of lines)\n",
    "\n",
    "*Hint: Check to see if the file has a header. If so, don't forget to account for this extra line.* "
   ]
  },
  {
   "cell_type": "markdown",
   "id": "7fc27a",
   "metadata": {
    "collapsed": false
   },
   "source": [
    "**Q20.** **[4 points]** Now give a command to count how many times each street appears in the 5th column. How many streets are displayed 8 times in the dataset?"
   ]
  },
  {
   "cell_type": "code",
   "execution_count": 0,
   "id": "2d129a",
   "metadata": {
    "collapsed": false
   },
   "outputs": [
   ],
   "source": [
    "# write code below: "
   ]
  },
  {
   "cell_type": "markdown",
   "id": "7fecfd",
   "metadata": {
    "collapsed": false
   },
   "source": [
    "The three streets with 8 occurrences in the dataset are: E Erie Ave, Wood St, Cypress St"
   ]
  },
  {
   "cell_type": "markdown",
   "id": "5c361e",
   "metadata": {
    "collapsed": false
   },
   "source": [
    "**Q21.** **[2 points]** Now use `grep` to find all the entries that contain 'ERIE AVE', either west or east."
   ]
  },
  {
   "cell_type": "code",
   "execution_count": 0,
   "id": "5597c5",
   "metadata": {
    "collapsed": false
   },
   "outputs": [
   ],
   "source": [
    "# write code below:"
   ]
  },
  {
   "cell_type": "markdown",
   "id": "5df0c6",
   "metadata": {
    "collapsed": false
   },
   "source": [
    "**Q22.** **[4 points]** Let's look at the very last column, which describes what kind of road each entry is. Give a command to \n",
    "\n",
    "- cut out this column (which is the 16th column)\n",
    "- find all the unique classes\n",
    "- and count how many entries there are for each class\n",
    "- sort by counts in **ASCENDING** order"
   ]
  },
  {
   "cell_type": "code",
   "execution_count": 0,
   "id": "c115e6",
   "metadata": {
    "collapsed": false
   },
   "outputs": [
   ],
   "source": [
    "# write code below: "
   ]
  },
  {
   "cell_type": "markdown",
   "id": "ae9493",
   "metadata": {
    "collapsed": false
   },
   "source": [
    "**Q23.** **[2 points]** Next,\n",
    "\n",
    "- extract all the entries that have Red Brick in this column (including the \"Red Brick (Molded)\" entries) with `grep`\n",
    "- write this to a file called `red_brick_houses.txt`\n",
    "- compress this into a .tar.gz file called `red_brick_houses.tar.gz`\n",
    "\n",
    "Note that you can search the whole entry for Red Brick, not just specifically the last column (i.e. you don't need to use a cut command first)."
   ]
  },
  {
   "cell_type": "code",
   "execution_count": 0,
   "id": "4f3e58",
   "metadata": {
    "collapsed": false
   },
   "outputs": [
   ],
   "source": [
    "# write code below:"
   ]
  },
  {
   "cell_type": "markdown",
   "id": "58ceba",
   "metadata": {
    "collapsed": false
   },
   "source": [
    "### Analyzing ChIP-seq Resullts"
   ]
  },
  {
   "cell_type": "markdown",
   "id": "09484f",
   "metadata": {
    "collapsed": false
   },
   "source": [
    "In the following section we ask questions related to the ChIP-seq analysis modules. All the data needed to answer these questions are included in the `chip-seq_data` folder."
   ]
  },
  {
   "cell_type": "markdown",
   "id": "4fa447",
   "metadata": {
    "collapsed": false
   },
   "source": [
    "**Q24.** **[2 points]** From the folder from where you ended the last section, give and run the commands to navigate into the `chip-seq_data` folder and identify how many peaks we have in the file of p53 peaks under DMSO treatment which we used in the first ChIP-Seq module."
   ]
  },
  {
   "cell_type": "code",
   "execution_count": 6,
   "id": "c807fb",
   "metadata": {
    "collapsed": false
   },
   "outputs": [
   ],
   "source": [
    "# write code below: "
   ]
  },
  {
   "cell_type": "markdown",
   "id": "9b0024",
   "metadata": {
    "collapsed": false
   },
   "source": [
    "**Q25.** **[2 points]** Next, give a command to:\n",
    "1. Pull out the first column of the bed file\n",
    "2. Sort it\n",
    "3. Display how many peaks there are on each chromosome.\n",
    "4. Sort it in descending order"
   ]
  },
  {
   "cell_type": "code",
   "execution_count": 0,
   "id": "118997",
   "metadata": {
    "collapsed": false
   },
   "outputs": [
   ],
   "source": [
    "# write code below:"
   ]
  },
  {
   "cell_type": "markdown",
   "id": "ced34b",
   "metadata": {
    "collapsed": false
   },
   "source": [
    "**Q26.** **[2 points]** Next, upload this file to the UCSC genome browser (you can use the same uploading approach as the bedGraph file). Then, navigate to the genomic interval  chr1:76204325-76204623   and look at the peak overlap. This peak overlaps with which gene?"
   ]
  },
  {
   "cell_type": "markdown",
   "id": "02ef76",
   "metadata": {
    "collapsed": false
   },
   "source": [
    "Insert answer here: "
   ]
  },
  {
   "cell_type": "markdown",
   "id": "4a0f0b",
   "metadata": {
    "collapsed": false
   },
   "source": [
    "**Q27.** **[2 points]** Now go back to the p53-input.DMSO_peaks.narrowPeak file. Which peak name (in the fourth column) does this locus correspond to?"
   ]
  },
  {
   "cell_type": "markdown",
   "id": "770ed4",
   "metadata": {
    "collapsed": false
   },
   "source": [
    "Insert answer here:"
   ]
  },
  {
   "cell_type": "markdown",
   "id": "ebe3f8",
   "metadata": {
    "collapsed": false
   },
   "source": [
    "**Q28.** **[2 points]** What are the -log10 values of the p- and q-value for this peak?"
   ]
  },
  {
   "cell_type": "markdown",
   "id": "9da19c",
   "metadata": {
    "collapsed": false
   },
   "source": [
    "Insert answer here:"
   ]
  },
  {
   "cell_type": "markdown",
   "id": "dd57d9",
   "metadata": {
    "collapsed": false
   },
   "source": [
    "**Q29.** **[2 points]** Now, we will look at another peak in the region chr15:63,449,045-63,449,917. We have provided a bedgraph file called p53_Nutlin.sub.bedgraph of some of the reads from the p53 condition around this region. Next, upload this file to the genome browser and look at this bedgraph file next to the called peak, making sure you're at the chr15:63,449,045-63,449,917 genomic interval. Do the raw read patterns seem to support the called peak?"
   ]
  },
  {
   "cell_type": "markdown",
   "id": "2b3a18",
   "metadata": {
    "collapsed": false
   },
   "source": [
    "Insert answer here:"
   ]
  },
  {
   "cell_type": "markdown",
   "id": "6b72d9",
   "metadata": {
    "collapsed": false
   },
   "source": [
    "**Q30.** **[2 points]** Short answer: We will continue examining the peak: chr15:63,449,045-63,449,917. Where along the gene does this peak for the p53_Nutlin.sub.bedgraph file seem to fall? Does it seem to differ between isoforms (make sure to look at the UCSC genes)? Given that this data reflects p53 binding, a transcription factor, what might this mean about the relationship between p53 and the gene?"
   ]
  },
  {
   "cell_type": "markdown",
   "id": "5f3700",
   "metadata": {
    "collapsed": false
   },
   "source": [
    "Insert answer here:"
   ]
  },
  {
   "cell_type": "markdown",
   "id": "dcb01e",
   "metadata": {
    "collapsed": false
   },
   "source": [
    "**Q31.** **[2 points]** Short answer:  The UCSC genome browser displays several tracks related to gene regulation. Display the ENCODE regulation panel. Which histone mark overlaps well with the region surrounding the peak identified above? Is this mark typically associated with activation or repression of genes?"
   ]
  },
  {
   "cell_type": "markdown",
   "id": "865ded",
   "metadata": {
    "collapsed": false
   },
   "source": [
    "Insert answer here:"
   ]
  },
  {
   "cell_type": "markdown",
   "id": "bb43bb",
   "metadata": {
    "collapsed": false
   },
   "source": [
    "**Q32.** **[2 points]** Short answer:  Examine the MultiZ vertebrate alignment track in the UCSC genome browser for this region. Which organism among Rhesus, Mouse, Dog, Elephant, Chicken, X. tropicalis, and Zebrafish has the most conservation in region of the ChIP-seq peak?"
   ]
  },
  {
   "cell_type": "markdown",
   "id": "6d0770",
   "metadata": {
    "collapsed": false
   },
   "source": [
    "Insert answer here:"
   ]
  },
  {
   "cell_type": "markdown",
   "id": "306466",
   "metadata": {
    "collapsed": false
   },
   "source": [
    "**Q33.** **[2 points]** Give the bedtools intersect call to find the number of p53 peaks in the Nutlin condition that are present in the DMSO condition:"
   ]
  },
  {
   "cell_type": "code",
   "execution_count": 0,
   "id": "302340",
   "metadata": {
    "collapsed": false
   },
   "outputs": [
   ],
   "source": [
    "# write code below:"
   ]
  },
  {
   "cell_type": "markdown",
   "id": "68c319",
   "metadata": {
    "collapsed": false
   },
   "source": [
    "**Q34.** **[4 points]** What fraction of Nutlin p53 peaks is present in DMSO?"
   ]
  },
  {
   "cell_type": "code",
   "execution_count": 4,
   "id": "625d42",
   "metadata": {
    "collapsed": false
   },
   "outputs": [
   ],
   "source": [
    "# write code below:"
   ]
  },
  {
   "cell_type": "markdown",
   "id": "e8387d",
   "metadata": {
    "collapsed": false
   },
   "source": [
    "Insert answer here:"
   ]
  },
  {
   "cell_type": "markdown",
   "id": "f04b7f",
   "metadata": {
    "collapsed": false
   },
   "source": [
    "**Q34.** **[4 points]** hg19 was the previous reference genome for the human genome, but there are newer versions of the human genome now. The most commonly used current reference genome (as of 2024) is hg38, although the recent Telomere to Telomere (T2T) Consortium has create a new reference that covers additional regions in the centromeres and telomeres across the human genome.\n",
    "\n",
    "The bed files are in hg19, but we would like to see where they are located in hg38, since this is the more commonly used reference genome. Using the liftOver function (read instructions here: https://genome.ucsc.edu/cgi-bin/hgLiftOver) in UCSC, please liftover p53-input.DMSO_peaks.narrowPeak from hg19 to hg38.\n",
    "\n",
    "Hints: \n",
    "1. You will notice that the liftover function can take as input the bed file, but it needs a specific format, which is outlined in its specifications.\n",
    "2. The results of the conversion can be obtained by going to the \"Results\" tab and clicking \"View Conversions\" to download a bed file. \n",
    "3. This downloaded bed file can be visualized using Unix commands. \n",
    "\n",
    "With this liftover over bedfile, answer the following question.\n",
    "\n",
    "1. **What is the new location of the region chr1:121484534-121485164 from hg19 in hg38?**"
   ]
  },
  {
   "cell_type": "code",
   "execution_count": 3,
   "id": "656ac6",
   "metadata": {
    "collapsed": false
   },
   "outputs": [
   ],
   "source": [
    "# write code below:"
   ]
  },
  {
   "cell_type": "markdown",
   "id": "521e92",
   "metadata": {
    "collapsed": false
   },
   "source": [
    "**Q35.** **[4 points]** The liftOver function can liftover from different reference genomes of the same species, but it can also liftover to other species. Try lifting over the same set of the input peaks from p53-input.DMSO_peaks.narrowPeak to the mouse reference genome mm10.\n",
    "\n",
    "Then answer this question:\n",
    "1. **How many of the peaks failed to liftOver**? Provide a reason for why they could have failed to lift over. "
   ]
  },
  {
   "cell_type": "markdown",
   "id": "082c2f",
   "metadata": {
    "collapsed": false
   },
   "source": [
    "Insert answer here:"
   ]
  }
 ],
 "metadata": {
  "kernelspec": {
   "argv": [
    "python3",
    "-E",
    "-m",
    "bash_kernel",
    "-f",
    "{connection_file}"
   ],
   "display_name": "Bash (Linux)",
   "env": {
    "PS1": "$"
   },
   "language": "bash",
   "metadata": {
    "cocalc": {
     "description": "Bash Linux Terminal",
     "priority": 1,
     "url": "https://github.com/takluyver/bash_kernel"
    }
   },
   "name": "bash",
   "resource_dir": "/ext/jupyter/kernels/bash"
  },
  "language_info": {
   "codemirror_mode": "shell",
   "file_extension": ".sh",
   "mimetype": "text/x-sh",
   "name": "bash"
  },
  "name": "Online_database_in_class.ipynb"
 },
 "nbformat": 4,
 "nbformat_minor": 4
}