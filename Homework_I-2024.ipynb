{
 "cells": [
  {
   "cell_type": "markdown",
   "id": "c1dd32",
   "metadata": {
    "collapsed": false
   },
   "source": [
    "# Homework Set - I"
   ]
  },
  {
   "cell_type": "markdown",
   "id": "7be9ba",
   "metadata": {
    "collapsed": false
   },
   "source": [
    "### Section One. Finding Genomic information Online"
   ]
  },
  {
   "cell_type": "markdown",
   "id": "445204",
   "metadata": {
    "collapsed": false
   },
   "source": [
    "Your colleague, Sarah, has just finished an extensive karyotyping study across samples from many different types of human cancers. She specifically looked for regions of the genome that have a statistically significant rate of chromosomal aberrations (including inversions, deletions, and translocations). She has asked you to help her analyze her results, starting with a region she identified on chromosome 10, ranging from base pairs 87,800,000 to 87,980,000 using NCBI build 38 (hg38). Use UCSC Genome Browser and/or other public databases to view information about known genes in this region. Please exclude pseudogenes. [Hint: you can click the gene region and check the basic information of the genes to determine if a gene is a pseudogene]. "
   ]
  },
  {
   "cell_type": "markdown",
   "id": "20f488",
   "metadata": {
    "collapsed": false
   },
   "source": [
    "**Q1.** What are the RefSeq genes in this region?"
   ]
  },
  {
   "cell_type": "code",
   "execution_count": 5,
   "id": "115466",
   "metadata": {
    "collapsed": false,
    "vscode": {
     "languageId": "r"
    }
   },
   "outputs": [
    {
     "ename": "ERROR",
     "evalue": "Error in parse(text = x, srcfile = src): <text>:1:15: unexpected symbol\n1: ATAD1 (ATPase family\n                  ^\n",
     "output_type": "error",
     "traceback": [
      "Error in parse(text = x, srcfile = src): <text>:1:15: unexpected symbol\n1: ATAD1 (ATPase family\n                  ^\nTraceback:\n"
     ]
    }
   ],
   "source": [
    "ATAD1 (ATPase family AAA domain-containing protein 1)\n",
    "KLLN (Killin, p53-regulated DNA replication inhibitor)\n",
    "PTEN (Phosphatase and tensin homolog)"
   ]
  },
  {
   "cell_type": "markdown",
   "id": "90e272",
   "metadata": {
    "collapsed": false
   },
   "source": [
    "**Q2.1.** Sarah collected additional evidence which suggests the gene of interest to be an enzyme. With this added information, hypothesize which gene you think is the most likely candidate to be related to human cancers, and provide evidence from at least 2 different public databases. Be sure to include the URL to each database entry on which you base your answer.\n",
    "[Hint: There is Phenotype and Disease Associations category on UCSC genome browser.]\n"
   ]
  },
  {
   "cell_type": "raw",
   "id": "650bad",
   "metadata": {
    "collapsed": false,
    "vscode": {
     "languageId": "raw"
    }
   },
   "source": [
    "The most likely candidate gene in the specified region that encodes an enzyme and is related to human cancers is PTEN (Phosphatase and Tensin Homolog).\n",
    "https://www.uniprot.org/uniprotkb/P60484/entry\n",
    "https://www.ncbi.nlm.nih.gov/gene/5728\n",
    "https://genome.ucsc.edu/cgi-bin/hgc?hgsid=2348377847_d9d5sPWB2ZdfaGEfhgcHAYE6g4GO&db=hg38&c=chr10&l=87799999&r=87980000&o=87863624&t=87971930&g=ncbiRefSeqCurated&i=NM_001304718.2"
   ]
  },
  {
   "cell_type": "markdown",
   "id": "5a46e6",
   "metadata": {
    "collapsed": false
   },
   "source": [
    "**Q2.2.** Sarah want to conduct a knockout experiment to further study the gene. Instead of knocking out the whole gene, she wants to knock out *a relevant structural domain* of the protein that is important to its function. You remember that UniProt may contain relevant information for protein strctures. Based on the information from the database, which structural domain of the protein is relevant to its function in supressing tumors? [Hint: You should search the gene symbol in the database, then go to the \"Family & domains\" section of the protein.]"
   ]
  },
  {
   "cell_type": "code",
   "execution_count": null,
   "id": "c3eb4b",
   "metadata": {
    "collapsed": false,
    "vscode": {
     "languageId": "r"
    }
   },
   "outputs": [],
   "source": []
  },
  {
   "cell_type": "markdown",
   "id": "1b66b0",
   "metadata": {
    "collapsed": false
   },
   "source": [
    "### Section Two: Base R"
   ]
  },
  {
   "cell_type": "markdown",
   "id": "38b3ec",
   "metadata": {
    "collapsed": false
   },
   "source": [
    "**For the following questions, write your code or the text answer in the cells indicated. Do not use tidyverse or ggplot for any of the questions in this section.**"
   ]
  },
  {
   "cell_type": "markdown",
   "id": "d0bd2d",
   "metadata": {
    "collapsed": false
   },
   "source": [
    "**Q3.** Create a vector with elements 5, 6, 7, 8, 9, 10, ..., 99, 100 and assign it to a variable `vec1`. Create another vector with elements 5, 6, 7, 8, 9, 10 and assign it to a variable `vec2`."
   ]
  },
  {
   "cell_type": "code",
   "execution_count": 1,
   "id": "622d27",
   "metadata": {
    "collapsed": false,
    "vscode": {
     "languageId": "r"
    }
   },
   "outputs": [],
   "source": [
    "# Create vec1 with elements from 5 to 100\n",
    "vec1 <- 5:100\n",
    "\n",
    "# Create vec2 with elements from 5 to 10\n",
    "vec2 <- 5:10\n"
   ]
  },
  {
   "cell_type": "markdown",
   "id": "7c40ec",
   "metadata": {
    "collapsed": false
   },
   "source": [
    "**Q4.** Multiply the contents of **all elements** of `vec2` by 10, and assign the updated values to `vec3`. Print the third element of the updated vector."
   ]
  },
  {
   "cell_type": "code",
   "execution_count": 2,
   "id": "bf9678",
   "metadata": {
    "collapsed": false,
    "vscode": {
     "languageId": "r"
    }
   },
   "outputs": [
    {
     "name": "stdout",
     "output_type": "stream",
     "text": [
      "[1] 70\n"
     ]
    }
   ],
   "source": [
    "# Multiply all elements of vec2 by 10 and assign to vec3\n",
    "vec3 <- vec2 * 10\n",
    "\n",
    "# Print the third element of vec3\n",
    "print(vec3[3])"
   ]
  },
  {
   "cell_type": "markdown",
   "id": "8e06bd",
   "metadata": {
    "collapsed": false
   },
   "source": [
    "You can see that each element in `vec2` is multipled by 10 with this command. Vectorized calculation is a very useful feature of R. With this feature, we don't need to write a \"for\" loop to do the same calculation, which can take longer to complete."
   ]
  },
  {
   "cell_type": "markdown",
   "id": "6618f4",
   "metadata": {
    "collapsed": false
   },
   "source": [
    "A robust version of the mean is trimmed mean. That is, trim (remove) some small values and large values from the vector before calculating the mean. \n",
    "\n",
    "In R, the trimmed mean can be calculated with the `trim` parameter. "
   ]
  },
  {
   "cell_type": "markdown",
   "id": "28084a",
   "metadata": {
    "collapsed": false
   },
   "source": [
    "**Q5.** Using the help page of `mean()`, caculate the mean value of `vec3` with `trim=0.1`, and save the trimmed mean in a new variable named `trim_mean`."
   ]
  },
  {
   "cell_type": "code",
   "execution_count": 3,
   "id": "09b217",
   "metadata": {
    "collapsed": false,
    "vscode": {
     "languageId": "r"
    }
   },
   "outputs": [
    {
     "name": "stdout",
     "output_type": "stream",
     "text": [
      "[1] 75\n"
     ]
    }
   ],
   "source": [
    "# Calculate the trimmed mean of vec3 with trim = 0.1\n",
    "trim_mean <- mean(vec3, trim = 0.1)\n",
    "\n",
    "# Print the trimmed mean\n",
    "print(trim_mean)\n"
   ]
  },
  {
   "cell_type": "markdown",
   "id": "563ac9",
   "metadata": {
    "collapsed": false
   },
   "source": [
    "**Q6.1.** Next, we will use a recently publised single cell RNA-Seq dataset. Load `single_cell_rnaseq_hw1.txt` into a variable named `scdata`, using the function `read.table`. \n",
    "Note: \n",
    "1. we have provided you this file in your problem set folder; \n",
    "2. this file has the first line as the header; "
   ]
  },
  {
   "cell_type": "code",
   "execution_count": 6,
   "id": "67169b",
   "metadata": {
    "collapsed": false,
    "vscode": {
     "languageId": "r"
    }
   },
   "outputs": [
    {
     "data": {
      "text/html": [
       "<table>\n",
       "<thead><tr><th scope=col>Sub1</th><th scope=col>Scg2</th><th scope=col>Aldoa</th></tr></thead>\n",
       "<tbody>\n",
       "\t<tr><td>29</td><td> 0</td><td>62</td></tr>\n",
       "\t<tr><td>11</td><td> 1</td><td>33</td></tr>\n",
       "\t<tr><td>14</td><td> 1</td><td>20</td></tr>\n",
       "\t<tr><td>19</td><td> 4</td><td>51</td></tr>\n",
       "\t<tr><td>17</td><td> 3</td><td>27</td></tr>\n",
       "\t<tr><td>34</td><td>13</td><td>31</td></tr>\n",
       "</tbody>\n",
       "</table>\n"
      ],
      "text/latex": [
       "\\begin{tabular}{r|lll}\n",
       " Sub1 & Scg2 & Aldoa\\\\\n",
       "\\hline\n",
       "\t 29 &  0 & 62\\\\\n",
       "\t 11 &  1 & 33\\\\\n",
       "\t 14 &  1 & 20\\\\\n",
       "\t 19 &  4 & 51\\\\\n",
       "\t 17 &  3 & 27\\\\\n",
       "\t 34 & 13 & 31\\\\\n",
       "\\end{tabular}\n"
      ],
      "text/markdown": [
       "\n",
       "| Sub1 | Scg2 | Aldoa |\n",
       "|---|---|---|\n",
       "| 29 |  0 | 62 |\n",
       "| 11 |  1 | 33 |\n",
       "| 14 |  1 | 20 |\n",
       "| 19 |  4 | 51 |\n",
       "| 17 |  3 | 27 |\n",
       "| 34 | 13 | 31 |\n",
       "\n"
      ],
      "text/plain": [
       "  Sub1 Scg2 Aldoa\n",
       "1 29    0   62   \n",
       "2 11    1   33   \n",
       "3 14    1   20   \n",
       "4 19    4   51   \n",
       "5 17    3   27   \n",
       "6 34   13   31   "
      ]
     },
     "metadata": {},
     "output_type": "display_data"
    }
   ],
   "source": [
    "# Load the single cell RNA-Seq dataset into scdata\n",
    "scdata <- read.table(\"single_cell_rnaseq_hw1.txt\", header = TRUE)\n",
    "\n",
    "# View the first few rows of the dataset to confirm it loaded correctly\n",
    "head(scdata)"
   ]
  },
  {
   "cell_type": "markdown",
   "id": "3ae176",
   "metadata": {
    "collapsed": false
   },
   "source": [
    "**Q6.2.** Write code to check the data type or class of `scdata`, is it a `data.frame` or a `matrix`? Write the code to check data type in the fix box and the answer in the second box. "
   ]
  },
  {
   "cell_type": "code",
   "execution_count": 9,
   "id": "480f05",
   "metadata": {
    "collapsed": false,
    "vscode": {
     "languageId": "r"
    }
   },
   "outputs": [
    {
     "data": {
      "text/html": [
       "'data.frame'"
      ],
      "text/latex": [
       "'data.frame'"
      ],
      "text/markdown": [
       "'data.frame'"
      ],
      "text/plain": [
       "[1] \"data.frame\""
      ]
     },
     "metadata": {},
     "output_type": "display_data"
    }
   ],
   "source": [
    "# Check the data type or class of scdata\n",
    "class(scdata)"
   ]
  },
  {
   "cell_type": "raw",
   "id": "cee896",
   "metadata": {
    "collapsed": false,
    "vscode": {
     "languageId": "raw"
    }
   },
   "source": [
    "The data type is: data.frame"
   ]
  },
  {
   "cell_type": "markdown",
   "id": "bffa49",
   "metadata": {
    "collapsed": false
   },
   "source": [
    "**Q7.** Use `[]` to output the first 5 rows and all columns of `scdata`. Note that the columns are genes and the rows are samples.\n"
   ]
  },
  {
   "cell_type": "code",
   "execution_count": 10,
   "id": "43f3eb",
   "metadata": {
    "collapsed": false,
    "vscode": {
     "languageId": "r"
    }
   },
   "outputs": [
    {
     "data": {
      "text/html": [
       "<table>\n",
       "<thead><tr><th scope=col>Sub1</th><th scope=col>Scg2</th><th scope=col>Aldoa</th></tr></thead>\n",
       "<tbody>\n",
       "\t<tr><td>29</td><td>0 </td><td>62</td></tr>\n",
       "\t<tr><td>11</td><td>1 </td><td>33</td></tr>\n",
       "\t<tr><td>14</td><td>1 </td><td>20</td></tr>\n",
       "\t<tr><td>19</td><td>4 </td><td>51</td></tr>\n",
       "\t<tr><td>17</td><td>3 </td><td>27</td></tr>\n",
       "</tbody>\n",
       "</table>\n"
      ],
      "text/latex": [
       "\\begin{tabular}{r|lll}\n",
       " Sub1 & Scg2 & Aldoa\\\\\n",
       "\\hline\n",
       "\t 29 & 0  & 62\\\\\n",
       "\t 11 & 1  & 33\\\\\n",
       "\t 14 & 1  & 20\\\\\n",
       "\t 19 & 4  & 51\\\\\n",
       "\t 17 & 3  & 27\\\\\n",
       "\\end{tabular}\n"
      ],
      "text/markdown": [
       "\n",
       "| Sub1 | Scg2 | Aldoa |\n",
       "|---|---|---|\n",
       "| 29 | 0  | 62 |\n",
       "| 11 | 1  | 33 |\n",
       "| 14 | 1  | 20 |\n",
       "| 19 | 4  | 51 |\n",
       "| 17 | 3  | 27 |\n",
       "\n"
      ],
      "text/plain": [
       "  Sub1 Scg2 Aldoa\n",
       "1 29   0    62   \n",
       "2 11   1    33   \n",
       "3 14   1    20   \n",
       "4 19   4    51   \n",
       "5 17   3    27   "
      ]
     },
     "metadata": {},
     "output_type": "display_data"
    }
   ],
   "source": [
    "# Output the first 5 rows and all columns of scdata\n",
    "scdata[1:5, ]"
   ]
  },
  {
   "cell_type": "markdown",
   "id": "998a2c",
   "metadata": {
    "collapsed": false
   },
   "source": [
    "**Q7.2.** To access columns in a `matrix` or a `data.frame`, we can use the position index \\(i.e., `2` represents the second column\\), or the name index, if the column name exists. For a `data.frame`, we can also use dollar sign to access a named column. Please provide three ways to show the first five rows of the `Aldoa` gene. Make sure you get the same results. In your opinion, which approach is not ideal because of poor readability? \n"
   ]
  },
  {
   "cell_type": "code",
   "execution_count": 11,
   "id": "b9cd29",
   "metadata": {
    "collapsed": false,
    "vscode": {
     "languageId": "r"
    }
   },
   "outputs": [
    {
     "data": {
      "text/html": [
       "<ol class=list-inline>\n",
       "\t<li>0</li>\n",
       "\t<li>1</li>\n",
       "\t<li>1</li>\n",
       "\t<li>4</li>\n",
       "\t<li>3</li>\n",
       "</ol>\n"
      ],
      "text/latex": [
       "\\begin{enumerate*}\n",
       "\\item 0\n",
       "\\item 1\n",
       "\\item 1\n",
       "\\item 4\n",
       "\\item 3\n",
       "\\end{enumerate*}\n"
      ],
      "text/markdown": [
       "1. 0\n",
       "2. 1\n",
       "3. 1\n",
       "4. 4\n",
       "5. 3\n",
       "\n",
       "\n"
      ],
      "text/plain": [
       "[1] 0 1 1 4 3"
      ]
     },
     "metadata": {},
     "output_type": "display_data"
    },
    {
     "data": {
      "text/html": [
       "<ol class=list-inline>\n",
       "\t<li>62</li>\n",
       "\t<li>33</li>\n",
       "\t<li>20</li>\n",
       "\t<li>51</li>\n",
       "\t<li>27</li>\n",
       "</ol>\n"
      ],
      "text/latex": [
       "\\begin{enumerate*}\n",
       "\\item 62\n",
       "\\item 33\n",
       "\\item 20\n",
       "\\item 51\n",
       "\\item 27\n",
       "\\end{enumerate*}\n"
      ],
      "text/markdown": [
       "1. 62\n",
       "2. 33\n",
       "3. 20\n",
       "4. 51\n",
       "5. 27\n",
       "\n",
       "\n"
      ],
      "text/plain": [
       "[1] 62 33 20 51 27"
      ]
     },
     "metadata": {},
     "output_type": "display_data"
    },
    {
     "data": {
      "text/html": [
       "<ol class=list-inline>\n",
       "\t<li>62</li>\n",
       "\t<li>33</li>\n",
       "\t<li>20</li>\n",
       "\t<li>51</li>\n",
       "\t<li>27</li>\n",
       "</ol>\n"
      ],
      "text/latex": [
       "\\begin{enumerate*}\n",
       "\\item 62\n",
       "\\item 33\n",
       "\\item 20\n",
       "\\item 51\n",
       "\\item 27\n",
       "\\end{enumerate*}\n"
      ],
      "text/markdown": [
       "1. 62\n",
       "2. 33\n",
       "3. 20\n",
       "4. 51\n",
       "5. 27\n",
       "\n",
       "\n"
      ],
      "text/plain": [
       "[1] 62 33 20 51 27"
      ]
     },
     "metadata": {},
     "output_type": "display_data"
    }
   ],
   "source": [
    "# First five rows of the second column (assuming 'Aldoa' is the second column)\n",
    "scdata[1:5, 2]\n",
    "# First five rows of the 'Aldoa' column using the column name\n",
    "scdata[1:5, \"Aldoa\"]\n",
    "# First five rows of the 'Aldoa' column using the dollar sign\n",
    "scdata$Aldoa[1:5]"
   ]
  },
  {
   "cell_type": "code",
   "execution_count": 13,
   "metadata": {
    "vscode": {
     "languageId": "r"
    }
   },
   "outputs": [
    {
     "ename": "ERROR",
     "evalue": "Error in parse(text = x, srcfile = src): <text>:1:5: unexpected symbol\n1: The approach\n        ^\n",
     "output_type": "error",
     "traceback": [
      "Error in parse(text = x, srcfile = src): <text>:1:5: unexpected symbol\n1: The approach\n        ^\nTraceback:\n"
     ]
    }
   ],
   "source": [
    "The approach using the position index (scdata[1:5, 2]) is not ideal for readability. It relies on knowing the exact position of the column, which can change if the dataset is modified or updated. The name index (scdata[1:5, \"Aldoa\"]) and dollar sign (scdata$Aldoa[1:5]) are more readable because they use the actual column name, making the code easier to understand and maintain."
   ]
  },
  {
   "cell_type": "markdown",
   "id": "62f3b8",
   "metadata": {
    "collapsed": false
   },
   "source": [
    "**Q8.** Use `[]` and `<-` to change the value of the object in the second row, second column in scdata to 333. Use `[]` to output the first 5 rows and all columns again."
   ]
  },
  {
   "cell_type": "code",
   "execution_count": 14,
   "id": "003c92",
   "metadata": {
    "collapsed": false,
    "vscode": {
     "languageId": "r"
    }
   },
   "outputs": [
    {
     "data": {
      "text/html": [
       "<table>\n",
       "<thead><tr><th scope=col>Sub1</th><th scope=col>Scg2</th><th scope=col>Aldoa</th></tr></thead>\n",
       "<tbody>\n",
       "\t<tr><td>29 </td><td>  0</td><td>62 </td></tr>\n",
       "\t<tr><td>11 </td><td>333</td><td>33 </td></tr>\n",
       "\t<tr><td>14 </td><td>  1</td><td>20 </td></tr>\n",
       "\t<tr><td>19 </td><td>  4</td><td>51 </td></tr>\n",
       "\t<tr><td>17 </td><td>  3</td><td>27 </td></tr>\n",
       "</tbody>\n",
       "</table>\n"
      ],
      "text/latex": [
       "\\begin{tabular}{r|lll}\n",
       " Sub1 & Scg2 & Aldoa\\\\\n",
       "\\hline\n",
       "\t 29  &   0 & 62 \\\\\n",
       "\t 11  & 333 & 33 \\\\\n",
       "\t 14  &   1 & 20 \\\\\n",
       "\t 19  &   4 & 51 \\\\\n",
       "\t 17  &   3 & 27 \\\\\n",
       "\\end{tabular}\n"
      ],
      "text/markdown": [
       "\n",
       "| Sub1 | Scg2 | Aldoa |\n",
       "|---|---|---|\n",
       "| 29  |   0 | 62  |\n",
       "| 11  | 333 | 33  |\n",
       "| 14  |   1 | 20  |\n",
       "| 19  |   4 | 51  |\n",
       "| 17  |   3 | 27  |\n",
       "\n"
      ],
      "text/plain": [
       "  Sub1 Scg2 Aldoa\n",
       "1 29     0  62   \n",
       "2 11   333  33   \n",
       "3 14     1  20   \n",
       "4 19     4  51   \n",
       "5 17     3  27   "
      ]
     },
     "metadata": {},
     "output_type": "display_data"
    }
   ],
   "source": [
    "# Change the value in the second row, second column to 333\n",
    "scdata[2, 2] <- 333\n",
    "\n",
    "# Output the first 5 rows and all columns\n",
    "scdata[1:5, ]\n"
   ]
  },
  {
   "cell_type": "markdown",
   "id": "96312a",
   "metadata": {
    "collapsed": false
   },
   "source": [
    "**Q9.** Note the above action is dangerous! We cannot retrieve the original values after changing the object \\(and save it under the same object\\). Fortunately, we have not modified the raw file itself. So we will reload the data. Reload the file `single_cell_rnaseq_hw1.txt` into the `scdata` variable and output the first 5 rows for a second time. Is the value in the second row, second column 333, or the original value? Why? Write your code in the first cell and answer in the second cell.\n"
   ]
  },
  {
   "cell_type": "code",
   "execution_count": 15,
   "id": "213d77",
   "metadata": {
    "collapsed": false,
    "vscode": {
     "languageId": "r"
    }
   },
   "outputs": [
    {
     "data": {
      "text/html": [
       "<table>\n",
       "<thead><tr><th scope=col>Sub1</th><th scope=col>Scg2</th><th scope=col>Aldoa</th></tr></thead>\n",
       "<tbody>\n",
       "\t<tr><td>29</td><td>0 </td><td>62</td></tr>\n",
       "\t<tr><td>11</td><td>1 </td><td>33</td></tr>\n",
       "\t<tr><td>14</td><td>1 </td><td>20</td></tr>\n",
       "\t<tr><td>19</td><td>4 </td><td>51</td></tr>\n",
       "\t<tr><td>17</td><td>3 </td><td>27</td></tr>\n",
       "</tbody>\n",
       "</table>\n"
      ],
      "text/latex": [
       "\\begin{tabular}{r|lll}\n",
       " Sub1 & Scg2 & Aldoa\\\\\n",
       "\\hline\n",
       "\t 29 & 0  & 62\\\\\n",
       "\t 11 & 1  & 33\\\\\n",
       "\t 14 & 1  & 20\\\\\n",
       "\t 19 & 4  & 51\\\\\n",
       "\t 17 & 3  & 27\\\\\n",
       "\\end{tabular}\n"
      ],
      "text/markdown": [
       "\n",
       "| Sub1 | Scg2 | Aldoa |\n",
       "|---|---|---|\n",
       "| 29 | 0  | 62 |\n",
       "| 11 | 1  | 33 |\n",
       "| 14 | 1  | 20 |\n",
       "| 19 | 4  | 51 |\n",
       "| 17 | 3  | 27 |\n",
       "\n"
      ],
      "text/plain": [
       "  Sub1 Scg2 Aldoa\n",
       "1 29   0    62   \n",
       "2 11   1    33   \n",
       "3 14   1    20   \n",
       "4 19   4    51   \n",
       "5 17   3    27   "
      ]
     },
     "metadata": {},
     "output_type": "display_data"
    }
   ],
   "source": [
    "# Reload the single cell RNA-Seq dataset into scdata\n",
    "scdata <- read.table(\"single_cell_rnaseq_hw1.txt\", header = TRUE)\n",
    "\n",
    "# Output the first 5 rows\n",
    "scdata[1:5, ]\n"
   ]
  },
  {
   "cell_type": "raw",
   "id": "cd4536",
   "metadata": {
    "collapsed": false,
    "vscode": {
     "languageId": "raw"
    }
   },
   "source": [
    "After reloading the data, the value in the second row, second column will not be 333; it will be the original value from the file. This is because when you modified the value previously, the change was made in the scdata object in memory, not in the actual file on disk. By reloading the file, you are resetting the scdata object to its original state, as the changes were not saved to the file itself."
   ]
  },
  {
   "cell_type": "markdown",
   "id": "41b7ff",
   "metadata": {
    "collapsed": false
   },
   "source": [
    "**Q10.** Calculate the summary statistics for each gene. What are the mean values for gene `Sub1` and `Aldoa` from the summary statistics? Write down the code in the first cell and your answers in the second cell."
   ]
  },
  {
   "cell_type": "code",
   "execution_count": 16,
   "id": "132b41",
   "metadata": {
    "collapsed": false,
    "vscode": {
     "languageId": "r"
    }
   },
   "outputs": [
    {
     "name": "stdout",
     "output_type": "stream",
     "text": [
      "      Sub1            Scg2          Aldoa      \n",
      " Min.   : 7.00   Min.   : 0.0   Min.   : 4.00  \n",
      " 1st Qu.:15.00   1st Qu.: 2.0   1st Qu.:20.00  \n",
      " Median :28.50   Median : 3.5   Median :31.00  \n",
      " Mean   :26.52   Mean   : 6.3   Mean   :32.33  \n",
      " 3rd Qu.:35.25   3rd Qu.: 8.0   3rd Qu.:45.00  \n",
      " Max.   :52.00   Max.   :32.0   Max.   :82.00  \n"
     ]
    },
    {
     "data": {
      "text/html": [
       "26.525"
      ],
      "text/latex": [
       "26.525"
      ],
      "text/markdown": [
       "26.525"
      ],
      "text/plain": [
       "[1] 26.525"
      ]
     },
     "metadata": {},
     "output_type": "display_data"
    },
    {
     "data": {
      "text/html": [
       "32.325"
      ],
      "text/latex": [
       "32.325"
      ],
      "text/markdown": [
       "32.325"
      ],
      "text/plain": [
       "[1] 32.325"
      ]
     },
     "metadata": {},
     "output_type": "display_data"
    }
   ],
   "source": [
    "# Calculate summary statistics for each gene\n",
    "summary_stats <- summary(scdata)\n",
    "\n",
    "# Display the summary statistics\n",
    "print(summary_stats)\n",
    "\n",
    "# Extract mean values for Sub1 and Aldoa\n",
    "mean_Sub1 <- mean(scdata$Sub1)\n",
    "mean_Aldoa <- mean(scdata$Aldoa)\n",
    "\n",
    "# Print the mean values\n",
    "mean_Sub1\n",
    "mean_Aldoa\n"
   ]
  },
  {
   "cell_type": "raw",
   "id": "105e1f",
   "metadata": {
    "collapsed": false,
    "vscode": {
     "languageId": "raw"
    }
   },
   "source": [
    "Mean value for gene Sub1: 26.525\n",
    "Mean value for gene Aldoa: 32.325"
   ]
  },
  {
   "cell_type": "markdown",
   "id": "c7b530",
   "metadata": {
    "collapsed": false
   },
   "source": [
    "**Q11.1.** If we want to use t-test to test the statistical difference of `Sub1` and `Scg2`, what is the null hypothesis and alternative hypothesis in this case? Write your answer in the following cell."
   ]
  },
  {
   "cell_type": "raw",
   "id": "f08e01",
   "metadata": {
    "collapsed": false,
    "vscode": {
     "languageId": "raw"
    }
   },
   "source": [
    "Null Hypothesis (H₀):\n",
    "There is no significant difference between the mean expression levels of the genes Sub1 and Scg2. In other words, the mean expression of Sub1 is equal to the mean expression of Scg2.\n",
    "\n",
    "Alternative Hypothesis (H₁):\n",
    "There is a significant difference between the mean expression levels of the genes Sub1 and Scg2. In other words, the mean expression of Sub1 is not equal to the mean expression of Scg2."
   ]
  },
  {
   "cell_type": "markdown",
   "id": "c75876",
   "metadata": {
    "collapsed": false
   },
   "source": [
    "**Q11.2.** Perform the t-test to compare the mean values of `Sub1` and `Scg2`. Save the output to a variable called `t_result`  "
   ]
  },
  {
   "cell_type": "code",
   "execution_count": 17,
   "id": "ccf4b1",
   "metadata": {
    "collapsed": false,
    "vscode": {
     "languageId": "r"
    }
   },
   "outputs": [
    {
     "name": "stdout",
     "output_type": "stream",
     "text": [
      "\n",
      "\tWelch Two Sample t-test\n",
      "\n",
      "data:  scdata$Sub1 and scdata$Scg2\n",
      "t = 9.4614, df = 66.716, p-value = 5.987e-14\n",
      "alternative hypothesis: true difference in means is not equal to 0\n",
      "95 percent confidence interval:\n",
      " 15.95793 24.49207\n",
      "sample estimates:\n",
      "mean of x mean of y \n",
      "   26.525     6.300 \n",
      "\n"
     ]
    }
   ],
   "source": [
    "# Perform the t-test to compare the mean values of Sub1 and Scg2\n",
    "t_result <- t.test(scdata$Sub1, scdata$Scg2)\n",
    "\n",
    "# Print the t-test result\n",
    "print(t_result)"
   ]
  },
  {
   "cell_type": "markdown",
   "id": "b01241",
   "metadata": {
    "collapsed": false
   },
   "source": [
    "**Q11.3.** Ouput the t-statistic and p-value from the above test. What is your conclusion?"
   ]
  },
  {
   "cell_type": "code",
   "execution_count": null,
   "id": "32cb41",
   "metadata": {
    "collapsed": false,
    "vscode": {
     "languageId": "r"
    }
   },
   "outputs": [],
   "source": [
    "T-statistic: 9.4614\n",
    "P-value: 5.987e-14"
   ]
  },
  {
   "cell_type": "raw",
   "id": "406e2a",
   "metadata": {
    "collapsed": false,
    "vscode": {
     "languageId": "raw"
    }
   },
   "source": [
    "Since the p-value (5.987e-14) is extremely small and far below a typical significance level (e.g., 0.05), we reject the null hypothesis. This means that there is a statistically significant difference between the mean expression levels of the genes Sub1 and Scg2."
   ]
  },
  {
   "cell_type": "markdown",
   "id": "6c04bf",
   "metadata": {
    "collapsed": false
   },
   "source": [
    "**Q12.** Plot the expression level of `Sub1` and `Scg2` using a scatter plot (put `Sub1` on y-axis and `Scg2` on x-axis), using the `plot()` function in base R. \n",
    "Note: please use base R functions for questions **Q12** to **Q15**."
   ]
  },
  {
   "cell_type": "code",
   "execution_count": 19,
   "id": "c292e0",
   "metadata": {
    "collapsed": false,
    "vscode": {
     "languageId": "r"
    }
   },
   "outputs": [
    {
     "data": {
      "image/png": "[encoded data removed]",
      "text/plain": [
       "Plot with title \"Scatter Plot of Sub1 vs Scg2\""
      ]
     },
     "metadata": {},
     "output_type": "display_data"
    }
   ],
   "source": [
    "# Set plotting options for size\n",
    "options(repr.plot.width=6, repr.plot.height=6)\n",
    "\n",
    "# Scatter plot with Sub1 on the y-axis and Scg2 on the x-axis\n",
    "plot(scdata$Scg2, scdata$Sub1, \n",
    "     xlab = \"Scg2 Expression\", \n",
    "     ylab = \"Sub1 Expression\", \n",
    "     main = \"Scatter Plot of Sub1 vs Scg2\", \n",
    "     pch = 16, # Use filled circles for points\n",
    "     col = \"blue\") # Set point color to blue"
   ]
  },
  {
   "cell_type": "markdown",
   "id": "cc67e6",
   "metadata": {
    "collapsed": false
   },
   "source": [
    "**Q13.1.** Perform a simple linear regression between `Sub1` and `Scg2`; consider `Sub1` as the response variable and `Scg2` as the explanatory variable. Save the linear regression results into a variable named `linear_regression_result`"
   ]
  },
  {
   "cell_type": "code",
   "execution_count": 20,
   "id": "947d6a",
   "metadata": {
    "collapsed": false,
    "vscode": {
     "languageId": "r"
    }
   },
   "outputs": [
    {
     "data": {
      "text/plain": [
       "\n",
       "Call:\n",
       "lm(formula = Sub1 ~ Scg2, data = scdata)\n",
       "\n",
       "Residuals:\n",
       "     Min       1Q   Median       3Q      Max \n",
       "-20.1753  -9.9389   0.3247   7.3699  26.3548 \n",
       "\n",
       "Coefficients:\n",
       "            Estimate Std. Error t value Pr(>|t|)    \n",
       "(Intercept)  24.1151     2.3362  10.322  1.4e-12 ***\n",
       "Scg2          0.3825     0.2434   1.572    0.124    \n",
       "---\n",
       "Signif. codes:  0 '***' 0.001 '**' 0.01 '*' 0.05 '.' 0.1 ' ' 1\n",
       "\n",
       "Residual standard error: 11.15 on 38 degrees of freedom\n",
       "Multiple R-squared:  0.06105,\tAdjusted R-squared:  0.03634 \n",
       "F-statistic: 2.471 on 1 and 38 DF,  p-value: 0.1243\n"
      ]
     },
     "metadata": {},
     "output_type": "display_data"
    }
   ],
   "source": [
    "# Perform linear regression with Sub1 as the response and Scg2 as the explanatory variable\n",
    "linear_regression_result <- lm(Sub1 ~ Scg2, data = scdata)\n",
    "\n",
    "# Print the linear regression result\n",
    "summary(linear_regression_result)\n"
   ]
  },
  {
   "cell_type": "markdown",
   "id": "90d85d",
   "metadata": {
    "collapsed": false
   },
   "source": [
    "**Q13.2.** Plot the regression line on the previous scatter plot."
   ]
  },
  {
   "cell_type": "code",
   "execution_count": 21,
   "id": "f398a3",
   "metadata": {
    "collapsed": false,
    "vscode": {
     "languageId": "r"
    }
   },
   "outputs": [
    {
     "data": {
      "image/png": "[encoded data removed]",
      "text/plain": [
       "Plot with title \"Scatter Plot of Sub1 vs Scg2 with Regression Line\""
      ]
     },
     "metadata": {},
     "output_type": "display_data"
    }
   ],
   "source": [
    "# Set plotting options for size\n",
    "options(repr.plot.width=6, repr.plot.height=6)\n",
    "\n",
    "# Scatter plot with Sub1 on the y-axis and Scg2 on the x-axis\n",
    "plot(scdata$Scg2, scdata$Sub1, \n",
    "     xlab = \"Scg2 Expression\", \n",
    "     ylab = \"Sub1 Expression\", \n",
    "     main = \"Scatter Plot of Sub1 vs Scg2 with Regression Line\", \n",
    "     pch = 16, # Use filled circles for points\n",
    "     col = \"blue\") # Set point color to blue\n",
    "\n",
    "# Add the regression line to the scatter plot\n",
    "abline(linear_regression_result, col = \"red\", lwd = 2)"
   ]
  },
  {
   "cell_type": "markdown",
   "id": "44891a",
   "metadata": {
    "collapsed": false
   },
   "source": [
    "**Q13.3.** From the regression results, ouput:\n",
    "\n",
    "- The p-value \n",
    "- The R-squared value\n",
    "\n",
    "[Hint: you may find the `summary()` function useful.]"
   ]
  },
  {
   "cell_type": "code",
   "execution_count": null,
   "id": "b4ee85",
   "metadata": {
    "collapsed": false,
    "vscode": {
     "languageId": "r"
    }
   },
   "outputs": [],
   "source": []
  },
  {
   "cell_type": "markdown",
   "id": "6c72e4",
   "metadata": {
    "collapsed": false
   },
   "source": [
    "**Q13.4.** Given the results from the regression, interpret the correlation between `Sub1` and `Scg2` providing a justification of that interpretation with the data."
   ]
  },
  {
   "cell_type": "raw",
   "id": "de8a09",
   "metadata": {
    "collapsed": false,
    "vscode": {
     "languageId": "r"
    }
   },
   "source": []
  },
  {
   "cell_type": "markdown",
   "id": "cf389c",
   "metadata": {
    "collapsed": false
   },
   "source": [
    "**Q14.1.** Use a boxplot to plot the expression levels of `Sub1` and `Scg2`."
   ]
  },
  {
   "cell_type": "code",
   "execution_count": null,
   "id": "c09c6c",
   "metadata": {
    "collapsed": false,
    "vscode": {
     "languageId": "r"
    }
   },
   "outputs": [],
   "source": []
  },
  {
   "cell_type": "markdown",
   "id": "72fbcf",
   "metadata": {
    "collapsed": false
   },
   "source": [
    "**Q14.2.** Which gene has larger median?"
   ]
  },
  {
   "cell_type": "raw",
   "id": "2d7111",
   "metadata": {
    "collapsed": false
   },
   "source": []
  },
  {
   "cell_type": "markdown",
   "id": "a6805d",
   "metadata": {
    "collapsed": false
   },
   "source": [
    "**Q15.1.** Plot the distributions of gene `Sub1` and `Scg2` with histograms."
   ]
  },
  {
   "cell_type": "code",
   "execution_count": null,
   "id": "0d97e4",
   "metadata": {
    "collapsed": false,
    "vscode": {
     "languageId": "r"
    }
   },
   "outputs": [],
   "source": []
  },
  {
   "cell_type": "markdown",
   "id": "304f20",
   "metadata": {
    "collapsed": false
   },
   "source": [
    "**Q15.2.** Do these genes look normally distributed? Why or why not? If the data is not normal, which distribution would be better to use to model this count-based expression data?"
   ]
  },
  {
   "cell_type": "raw",
   "id": "4e19d7",
   "metadata": {
    "collapsed": false
   },
   "source": []
  },
  {
   "cell_type": "markdown",
   "id": "b27d41",
   "metadata": {
    "collapsed": false
   },
   "source": [
    "### Section Three: ggplot2"
   ]
  },
  {
   "cell_type": "markdown",
   "id": "1e261b",
   "metadata": {
    "collapsed": false
   },
   "source": [
    "**Q16.1.** Remake the scatterplot from **Q13.2** using ggplot. "
   ]
  },
  {
   "cell_type": "code",
   "execution_count": null,
   "id": "35bf3e",
   "metadata": {
    "collapsed": false,
    "vscode": {
     "languageId": "r"
    }
   },
   "outputs": [],
   "source": []
  },
  {
   "cell_type": "markdown",
   "id": "5406e9",
   "metadata": {
    "collapsed": false
   },
   "source": [
    "**Q16.2.** Remake the boxplot from **Q14.1** with ggplot. For scientific pulications, the `theme_minimal()` or `theme_classic()` are usually preferred. Please set the plot theme by the `theme_minimal()` or `theme_classic()` function. Also, give different fill colors for each gene, and specify the colors manually to `#ff6361` and `darkblue`. "
   ]
  },
  {
   "cell_type": "code",
   "execution_count": null,
   "id": "bb8e9c",
   "metadata": {
    "collapsed": false,
    "vscode": {
     "languageId": "r"
    }
   },
   "outputs": [],
   "source": []
  },
  {
   "cell_type": "markdown",
   "id": "e318d0",
   "metadata": {
    "collapsed": false
   },
   "source": [
    "**Q17.1.** For the histograms in **Q15.1**, combine the histograms into a single plot using ggplot. To do this, you'll need to use the \n",
    "\n",
    "* Use the `geom_histogram()` function in ggplot, providing the argument `binwidth=3` \n",
    "* Color Scg2 and Sub1 different colors but otherwise leave the default settings of geom_histogram in place. \n",
    "* Color the bars themselves and not the bar outlines [Hint: there are different aesthetic parameters used for each of these two things!]"
   ]
  },
  {
   "cell_type": "code",
   "execution_count": null,
   "id": "62550f",
   "metadata": {
    "collapsed": false,
    "vscode": {
     "languageId": "r"
    }
   },
   "outputs": [],
   "source": []
  },
  {
   "cell_type": "markdown",
   "id": "70ef99",
   "metadata": {
    "collapsed": false
   },
   "source": [
    "**Q17.2.** Compare the plot you just made to the histograms from **Q15.1**. What do you notice about the style (plotting type) of how the expression data for the two genes are plotted?"
   ]
  },
  {
   "cell_type": "raw",
   "id": "06e19b",
   "metadata": {
    "collapsed": false,
    "vscode": {
     "languageId": "r"
    }
   },
   "source": []
  },
  {
   "cell_type": "markdown",
   "id": "b09257",
   "metadata": {
    "collapsed": false
   },
   "source": [
    "**Q17.3.** In a new plot, modify geom_histogram() function call from your previous plot and:\n",
    "\n",
    "* include the arguments `alpha=0.6` and `position=\"identity\"`\n",
    "\n",
    "Describe in your own words what changes each of these separate arguments have done to the plot."
   ]
  },
  {
   "cell_type": "code",
   "execution_count": null,
   "id": "c32d2d",
   "metadata": {
    "collapsed": false,
    "vscode": {
     "languageId": "r"
    }
   },
   "outputs": [],
   "source": []
  },
  {
   "cell_type": "code",
   "execution_count": null,
   "id": "741711",
   "metadata": {
    "collapsed": false,
    "vscode": {
     "languageId": "r"
    }
   },
   "outputs": [],
   "source": []
  },
  {
   "cell_type": "markdown",
   "id": "3386eb",
   "metadata": {
    "collapsed": false
   },
   "source": [
    "The ggplot2 package is known for its great flexibility in generating publication-level figures. There are mutliple useful resources online for you to use the package, for example, the ggplot2 cheat sheet (https://rstudio.github.io/cheatsheets/html/data-visualization.html). Go to the website and download the cheatsheet, and answer the question below. \n",
    "\n",
    "**Q17.4.** You have conducted a set of experiments to determine the mouse weight in treatment and control group. In each group, you have five replicates. In reporting your results, you want to add error bars to the plot to show the variation within each group. Which ggplot function can help you plot errorbars in this setting?"
   ]
  },
  {
   "cell_type": "raw",
   "id": "2a5f39",
   "metadata": {
    "collapsed": false
   },
   "source": []
  },
  {
   "cell_type": "markdown",
   "id": "af85fd",
   "metadata": {
    "collapsed": false
   },
   "source": [
    "### Section Four: Tidyverse"
   ]
  },
  {
   "cell_type": "markdown",
   "id": "fb27d9",
   "metadata": {
    "collapsed": false
   },
   "source": [
    "**Q18.1.** Load (read) data into R is a critical first step. The data may of different structure, thus requiring different function settings for loading the data. Please take a look at the file `Iditarod.txt`, which is The 2017 Iditarod Trail race data. Does it have a header (column names)? What is the separator? Given this knowledge, load the data into your notebook, and then, load the `tidyverse()` library. \n",
    "\n",
    "You may want to use `head()` or `tail()` on the dataframe to view the first/last few rows, to make sure the data structure loaded is desired."
   ]
  },
  {
   "cell_type": "code",
   "execution_count": null,
   "id": "8f871e",
   "metadata": {
    "collapsed": false,
    "vscode": {
     "languageId": "r"
    }
   },
   "outputs": [],
   "source": []
  },
  {
   "cell_type": "markdown",
   "id": "7d7bb6",
   "metadata": {
    "collapsed": false
   },
   "source": [
    "**Q18.2.** Use pipes (`%>%`) to print all dogs with speed > 11, and then use the `head()` function to print the first few instances."
   ]
  },
  {
   "cell_type": "code",
   "execution_count": null,
   "id": "bc10d9",
   "metadata": {
    "collapsed": false,
    "vscode": {
     "languageId": "r"
    }
   },
   "outputs": [],
   "source": []
  },
  {
   "cell_type": "markdown",
   "id": "f484cc",
   "metadata": {
    "collapsed": false
   },
   "source": [
    "**Q18.3.** There are issues in this table. Some dogs with missing data resulted in a `Time` of zero. This may cause issues in our downstream results. Thus, we should clean up the data. Given this information, we should filter out the rows with `Time == 0` and `Speed` is `NA`. You will find the `is.na()` function useful. Please remember to save the filtered data back to the variable, or your change is not saved. "
   ]
  },
  {
   "cell_type": "code",
   "execution_count": 41,
   "id": "a75a44",
   "metadata": {
    "collapsed": false,
    "vscode": {
     "languageId": "r"
    }
   },
   "outputs": [],
   "source": []
  },
  {
   "cell_type": "markdown",
   "id": "15c06d",
   "metadata": {
    "collapsed": false
   },
   "source": [
    "**Q18.4.** Use pipes (`%>%`) to find the average value of `Time` for every country, and then sort the countries by average time (ascending or descending).\n",
    "\n",
    "[HINT: You'll need to use `mean()` with `na.rm = TRUE`, because some dogs have a time of `NA`. ]"
   ]
  },
  {
   "cell_type": "code",
   "execution_count": null,
   "id": "ffe867",
   "metadata": {
    "collapsed": false,
    "vscode": {
     "languageId": "r"
    }
   },
   "outputs": [],
   "source": []
  },
  {
   "cell_type": "markdown",
   "id": "3170f9",
   "metadata": {
    "collapsed": false
   },
   "source": [
    "**Q18.5.** Using these data, create a new plot which uses \n",
    "\n",
    "- Use at least two pipes (`%>%`) and two dplyr commands (`mutate()`, `group_by()`, `summarise()`, `filter()`, `arrange()`, ...) to manipulate the dataset.\n",
    "\n",
    "- Use a different plot type (`geom_line()`, `geom_point()`, `geom_boxplot()`, `geom_bar()`, or more! [This website](http://r-statistics.co/Top50-Ggplot2-Visualizations-MasterList-R-Code.html) describes a large spectrum of plotting types).\n",
    "\n",
    "- Use color, shape, or size as an aesthetic."
   ]
  },
  {
   "cell_type": "raw",
   "id": "1cf8e6",
   "metadata": {
    "collapsed": false,
    "vscode": {
     "languageId": "r"
    }
   },
   "source": []
  },
  {
   "cell_type": "markdown",
   "id": "3cce0e",
   "metadata": {
    "collapsed": false
   },
   "source": [
    "### Section Five: Concepts from RNA-seq  ###"
   ]
  },
  {
   "cell_type": "markdown",
   "id": "ce1e17",
   "metadata": {
    "collapsed": false
   },
   "source": [
    "**Q19.** What issue does PCR amplification prior to sequencing resolve in an RNA-seq experiment? What is the key-drawback of including a PCR-amplication step in an RNA-seq experiment? What types of transcripts suffer most from this shortcoming of PCR amplification?"
   ]
  },
  {
   "cell_type": "raw",
   "id": "261ff0",
   "metadata": {
    "collapsed": false
   },
   "source": []
  },
  {
   "cell_type": "markdown",
   "id": "45b649",
   "metadata": {
    "collapsed": false
   },
   "source": [
    "**Q20.** What are the advantages of using poly-dT primers vs random primers during cDNA formation during RNA-seq? Which types of transcripts will each capture?"
   ]
  },
  {
   "cell_type": "raw",
   "id": "fa533a",
   "metadata": {
    "collapsed": false
   },
   "source": []
  },
  {
   "cell_type": "markdown",
   "id": "22cc4a",
   "metadata": {
    "collapsed": false
   },
   "source": [
    "### Section Six: Multiple Hypothesis Testing"
   ]
  },
  {
   "cell_type": "markdown",
   "id": "3356ef",
   "metadata": {
    "collapsed": false
   },
   "source": [
    "**Q21.** What is the difference between Bonferroni correction and FDR correction?"
   ]
  },
  {
   "cell_type": "raw",
   "id": "99c2ff",
   "metadata": {
    "collapsed": false
   },
   "source": []
  },
  {
   "cell_type": "markdown",
   "id": "abeb36",
   "metadata": {
    "collapsed": false
   },
   "source": [
    "**Q22.** What is an example of an analysis where Bonferroni correction would be appropriate, but FDR correction is not? Why?"
   ]
  },
  {
   "cell_type": "raw",
   "id": "42aa0c",
   "metadata": {
    "collapsed": false
   },
   "source": []
  },
  {
   "cell_type": "markdown",
   "id": "fa3d36",
   "metadata": {
    "collapsed": false
   },
   "source": [
    "**Q23.** What is an example of an analysis where FDR correction would be appropriate, but Bonferroni correction might not be recommended? Why?"
   ]
  },
  {
   "cell_type": "raw",
   "id": "e98b46",
   "metadata": {
    "collapsed": false
   },
   "source": []
  },
  {
   "cell_type": "markdown",
   "id": "c32dfb",
   "metadata": {
    "collapsed": false
   },
   "source": [
    "**Q24.** Determine if the following statements are true or false. If a statement is false, correct it so that it is true.\n",
    "\n",
    "1. A p-value is the probability that a result is true under the assumption of random sampling.\n",
    "2. In an analysis where 1,000 tests are conducted, approximately 50 tests are expected to be significant at a significance level of 0.01, even if the null hypothesis is true.\n",
    "3. In order to reduce multiple testing correction, biologists should first visually examine data, but without testing, in order to decide which hypothesis tests are most likely to be significant."
   ]
  },
  {
   "cell_type": "code",
   "execution_count": null,
   "id": "563982",
   "metadata": {
    "collapsed": false,
    "vscode": {
     "languageId": "r"
    }
   },
   "outputs": [],
   "source": []
  }
 ],
 "metadata": {
  "kernelspec": {
   "display_name": "R",
   "language": "R",
   "name": "ir"
  },
  "language_info": {
   "codemirror_mode": "r",
   "file_extension": ".r",
   "mimetype": "text/x-r-source",
   "name": "R",
   "pygments_lexer": "r",
   "version": "3.6.1"
  },
  "name": "Online_database_in_class.ipynb"
 },
 "nbformat": 4,
 "nbformat_minor": 4
}
