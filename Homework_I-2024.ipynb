{
 "cells": [
  {
   "cell_type": "markdown",
   "id": "c1dd32",
   "metadata": {
    "collapsed": false
   },
   "source": [
    "# Homework Set - I"
   ]
  },
  {
   "cell_type": "markdown",
   "id": "7be9ba",
   "metadata": {
    "collapsed": false
   },
   "source": [
    "### Section One. Finding Genomic information Online"
   ]
  },
  {
   "cell_type": "markdown",
   "id": "445204",
   "metadata": {
    "collapsed": false
   },
   "source": [
    "Your colleague, Sarah, has just finished an extensive karyotyping study across samples from many different types of human cancers. She specifically looked for regions of the genome that have a statistically significant rate of chromosomal aberrations (including inversions, deletions, and translocations). She has asked you to help her analyze her results, starting with a region she identified on chromosome 10, ranging from base pairs 87,800,000 to 87,980,000 using NCBI build 38 (hg38). Use UCSC Genome Browser and/or other public databases to view information about known genes in this region. Please exclude pseudogenes. [Hint: you can click the gene region and check the basic information of the genes to determine if a gene is a pseudogene]. "
   ]
  },
  {
   "cell_type": "markdown",
   "id": "20f488",
   "metadata": {
    "collapsed": false
   },
   "source": [
    "**Q1.** What are the RefSeq genes in this region?"
   ]
  },
  {
   "cell_type": "code",
   "execution_count": 35,
   "id": "115466",
   "metadata": {
    "collapsed": false,
    "vscode": {
     "languageId": "r"
    }
   },
   "outputs": [
    {
     "ename": "ERROR",
     "evalue": "Error in parse(text = x, srcfile = src): <text>:1:15: unexpected symbol\n1: ATAD1 (ATPase family\n                  ^\n",
     "output_type": "error",
     "traceback": [
      "Error in parse(text = x, srcfile = src): <text>:1:15: unexpected symbol\n1: ATAD1 (ATPase family\n                  ^\nTraceback:\n"
     ]
    }
   ],
   "source": [
    "ATAD1 (ATPase family AAA domain-containing protein 1)\n",
    "KLLN (Killin, p53-regulated DNA replication inhibitor)\n",
    "PTEN (Phosphatase and tensin homolog)"
   ]
  },
  {
   "cell_type": "markdown",
   "id": "90e272",
   "metadata": {
    "collapsed": false
   },
   "source": [
    "**Q2.1.** Sarah collected additional evidence which suggests the gene of interest to be an enzyme. With this added information, hypothesize which gene you think is the most likely candidate to be related to human cancers, and provide evidence from at least 2 different public databases. Be sure to include the URL to each database entry on which you base your answer.\n",
    "[Hint: There is Phenotype and Disease Associations category on UCSC genome browser.]\n"
   ]
  },
  {
   "cell_type": "raw",
   "id": "650bad",
   "metadata": {
    "collapsed": false,
    "vscode": {
     "languageId": "raw"
    }
   },
   "source": [
    "The most likely candidate gene in the specified region that encodes an enzyme and is related to human cancers is PTEN (Phosphatase and Tensin Homolog).\n",
    "https://www.uniprot.org/uniprotkb/P60484/entry\n",
    "https://www.ncbi.nlm.nih.gov/gene/5728\n",
    "https://genome.ucsc.edu/cgi-bin/hgc?hgsid=2348377847_d9d5sPWB2ZdfaGEfhgcHAYE6g4GO&db=hg38&c=chr10&l=87799999&r=87980000&o=87863624&t=87971930&g=ncbiRefSeqCurated&i=NM_001304718.2"
   ]
  },
  {
   "cell_type": "markdown",
   "id": "5a46e6",
   "metadata": {
    "collapsed": false
   },
   "source": [
    "**Q2.2.** Sarah want to conduct a knockout experiment to further study the gene. Instead of knocking out the whole gene, she wants to knock out *a relevant structural domain* of the protein that is important to its function. You remember that UniProt may contain relevant information for protein strctures. Based on the information from the database, which structural domain of the protein is relevant to its function in supressing tumors? [Hint: You should search the gene symbol in the database, then go to the \"Family & domains\" section of the protein.]"
   ]
  },
  {
   "cell_type": "code",
   "execution_count": null,
   "id": "c3eb4b",
   "metadata": {
    "collapsed": false,
    "vscode": {
     "languageId": "r"
    }
   },
   "outputs": [],
   "source": []
  },
  {
   "cell_type": "markdown",
   "id": "1b66b0",
   "metadata": {
    "collapsed": false
   },
   "source": [
    "### Section Two: Base R"
   ]
  },
  {
   "cell_type": "markdown",
   "id": "38b3ec",
   "metadata": {
    "collapsed": false
   },
   "source": [
    "**For the following questions, write your code or the text answer in the cells indicated. Do not use tidyverse or ggplot for any of the questions in this section.**"
   ]
  },
  {
   "cell_type": "markdown",
   "id": "d0bd2d",
   "metadata": {
    "collapsed": false
   },
   "source": [
    "**Q3.** Create a vector with elements 5, 6, 7, 8, 9, 10, ..., 99, 100 and assign it to a variable `vec1`. Create another vector with elements 5, 6, 7, 8, 9, 10 and assign it to a variable `vec2`."
   ]
  },
  {
   "cell_type": "code",
   "execution_count": 44,
   "id": "622d27",
   "metadata": {
    "collapsed": false,
    "vscode": {
     "languageId": "r"
    }
   },
   "outputs": [],
   "source": [
    "# Create vec1 with elements from 5 to 100\n",
    "vec1 <- 5:100\n",
    "\n",
    "# Create vec2 with elements from 5 to 10\n",
    "vec2 <- 5:10\n"
   ]
  },
  {
   "cell_type": "markdown",
   "id": "7c40ec",
   "metadata": {
    "collapsed": false
   },
   "source": [
    "**Q4.** Multiply the contents of **all elements** of `vec2` by 10, and assign the updated values to `vec3`. Print the third element of the updated vector."
   ]
  },
  {
   "cell_type": "code",
   "execution_count": 45,
   "id": "bf9678",
   "metadata": {
    "collapsed": false,
    "vscode": {
     "languageId": "r"
    }
   },
   "outputs": [
    {
     "name": "stdout",
     "output_type": "stream",
     "text": [
      "[1] 70\n"
     ]
    }
   ],
   "source": [
    "# Multiply all elements of vec2 by 10 and assign to vec3\n",
    "vec3 <- vec2 * 10\n",
    "\n",
    "# Print the third element of vec3\n",
    "print(vec3[3])"
   ]
  },
  {
   "cell_type": "markdown",
   "id": "8e06bd",
   "metadata": {
    "collapsed": false
   },
   "source": [
    "You can see that each element in `vec2` is multipled by 10 with this command. Vectorized calculation is a very useful feature of R. With this feature, we don't need to write a \"for\" loop to do the same calculation, which can take longer to complete."
   ]
  },
  {
   "cell_type": "markdown",
   "id": "6618f4",
   "metadata": {
    "collapsed": false
   },
   "source": [
    "A robust version of the mean is trimmed mean. That is, trim (remove) some small values and large values from the vector before calculating the mean. \n",
    "\n",
    "In R, the trimmed mean can be calculated with the `trim` parameter. "
   ]
  },
  {
   "cell_type": "markdown",
   "id": "28084a",
   "metadata": {
    "collapsed": false
   },
   "source": [
    "**Q5.** Using the help page of `mean()`, caculate the mean value of `vec3` with `trim=0.1`, and save the trimmed mean in a new variable named `trim_mean`."
   ]
  },
  {
   "cell_type": "code",
   "execution_count": 3,
   "id": "09b217",
   "metadata": {
    "collapsed": false,
    "vscode": {
     "languageId": "r"
    }
   },
   "outputs": [
    {
     "name": "stdout",
     "output_type": "stream",
     "text": [
      "[1] 75\n"
     ]
    }
   ],
   "source": [
    "# Calculate the trimmed mean of vec3 with trim = 0.1\n",
    "trim_mean <- mean(vec3, trim = 0.1)\n",
    "\n",
    "# Print the trimmed mean\n",
    "print(trim_mean)\n"
   ]
  },
  {
   "cell_type": "markdown",
   "id": "563ac9",
   "metadata": {
    "collapsed": false
   },
   "source": [
    "**Q6.1.** Next, we will use a recently publised single cell RNA-Seq dataset. Load `single_cell_rnaseq_hw1.txt` into a variable named `scdata`, using the function `read.table`. \n",
    "Note: \n",
    "1. we have provided you this file in your problem set folder; \n",
    "2. this file has the first line as the header; "
   ]
  },
  {
   "cell_type": "code",
   "execution_count": 6,
   "id": "67169b",
   "metadata": {
    "collapsed": false,
    "vscode": {
     "languageId": "r"
    }
   },
   "outputs": [
    {
     "data": {
      "text/html": [
       "<table>\n",
       "<thead><tr><th scope=col>Sub1</th><th scope=col>Scg2</th><th scope=col>Aldoa</th></tr></thead>\n",
       "<tbody>\n",
       "\t<tr><td>29</td><td> 0</td><td>62</td></tr>\n",
       "\t<tr><td>11</td><td> 1</td><td>33</td></tr>\n",
       "\t<tr><td>14</td><td> 1</td><td>20</td></tr>\n",
       "\t<tr><td>19</td><td> 4</td><td>51</td></tr>\n",
       "\t<tr><td>17</td><td> 3</td><td>27</td></tr>\n",
       "\t<tr><td>34</td><td>13</td><td>31</td></tr>\n",
       "</tbody>\n",
       "</table>\n"
      ],
      "text/latex": [
       "\\begin{tabular}{r|lll}\n",
       " Sub1 & Scg2 & Aldoa\\\\\n",
       "\\hline\n",
       "\t 29 &  0 & 62\\\\\n",
       "\t 11 &  1 & 33\\\\\n",
       "\t 14 &  1 & 20\\\\\n",
       "\t 19 &  4 & 51\\\\\n",
       "\t 17 &  3 & 27\\\\\n",
       "\t 34 & 13 & 31\\\\\n",
       "\\end{tabular}\n"
      ],
      "text/markdown": [
       "\n",
       "| Sub1 | Scg2 | Aldoa |\n",
       "|---|---|---|\n",
       "| 29 |  0 | 62 |\n",
       "| 11 |  1 | 33 |\n",
       "| 14 |  1 | 20 |\n",
       "| 19 |  4 | 51 |\n",
       "| 17 |  3 | 27 |\n",
       "| 34 | 13 | 31 |\n",
       "\n"
      ],
      "text/plain": [
       "  Sub1 Scg2 Aldoa\n",
       "1 29    0   62   \n",
       "2 11    1   33   \n",
       "3 14    1   20   \n",
       "4 19    4   51   \n",
       "5 17    3   27   \n",
       "6 34   13   31   "
      ]
     },
     "metadata": {},
     "output_type": "display_data"
    }
   ],
   "source": [
    "# Load the single cell RNA-Seq dataset into scdata\n",
    "scdata <- read.table(\"single_cell_rnaseq_hw1.txt\", header = TRUE)\n",
    "\n",
    "# View the first few rows of the dataset to confirm it loaded correctly\n",
    "head(scdata)"
   ]
  },
  {
   "cell_type": "markdown",
   "id": "3ae176",
   "metadata": {
    "collapsed": false
   },
   "source": [
    "**Q6.2.** Write code to check the data type or class of `scdata`, is it a `data.frame` or a `matrix`? Write the code to check data type in the fix box and the answer in the second box. "
   ]
  },
  {
   "cell_type": "code",
   "execution_count": 9,
   "id": "480f05",
   "metadata": {
    "collapsed": false,
    "vscode": {
     "languageId": "r"
    }
   },
   "outputs": [
    {
     "data": {
      "text/html": [
       "'data.frame'"
      ],
      "text/latex": [
       "'data.frame'"
      ],
      "text/markdown": [
       "'data.frame'"
      ],
      "text/plain": [
       "[1] \"data.frame\""
      ]
     },
     "metadata": {},
     "output_type": "display_data"
    }
   ],
   "source": [
    "# Check the data type or class of scdata\n",
    "class(scdata)"
   ]
  },
  {
   "cell_type": "raw",
   "id": "cee896",
   "metadata": {
    "collapsed": false,
    "vscode": {
     "languageId": "raw"
    }
   },
   "source": [
    "The data type is: data.frame"
   ]
  },
  {
   "cell_type": "markdown",
   "id": "bffa49",
   "metadata": {
    "collapsed": false
   },
   "source": [
    "**Q7.** Use `[]` to output the first 5 rows and all columns of `scdata`. Note that the columns are genes and the rows are samples.\n"
   ]
  },
  {
   "cell_type": "code",
   "execution_count": 10,
   "id": "43f3eb",
   "metadata": {
    "collapsed": false,
    "vscode": {
     "languageId": "r"
    }
   },
   "outputs": [
    {
     "data": {
      "text/html": [
       "<table>\n",
       "<thead><tr><th scope=col>Sub1</th><th scope=col>Scg2</th><th scope=col>Aldoa</th></tr></thead>\n",
       "<tbody>\n",
       "\t<tr><td>29</td><td>0 </td><td>62</td></tr>\n",
       "\t<tr><td>11</td><td>1 </td><td>33</td></tr>\n",
       "\t<tr><td>14</td><td>1 </td><td>20</td></tr>\n",
       "\t<tr><td>19</td><td>4 </td><td>51</td></tr>\n",
       "\t<tr><td>17</td><td>3 </td><td>27</td></tr>\n",
       "</tbody>\n",
       "</table>\n"
      ],
      "text/latex": [
       "\\begin{tabular}{r|lll}\n",
       " Sub1 & Scg2 & Aldoa\\\\\n",
       "\\hline\n",
       "\t 29 & 0  & 62\\\\\n",
       "\t 11 & 1  & 33\\\\\n",
       "\t 14 & 1  & 20\\\\\n",
       "\t 19 & 4  & 51\\\\\n",
       "\t 17 & 3  & 27\\\\\n",
       "\\end{tabular}\n"
      ],
      "text/markdown": [
       "\n",
       "| Sub1 | Scg2 | Aldoa |\n",
       "|---|---|---|\n",
       "| 29 | 0  | 62 |\n",
       "| 11 | 1  | 33 |\n",
       "| 14 | 1  | 20 |\n",
       "| 19 | 4  | 51 |\n",
       "| 17 | 3  | 27 |\n",
       "\n"
      ],
      "text/plain": [
       "  Sub1 Scg2 Aldoa\n",
       "1 29   0    62   \n",
       "2 11   1    33   \n",
       "3 14   1    20   \n",
       "4 19   4    51   \n",
       "5 17   3    27   "
      ]
     },
     "metadata": {},
     "output_type": "display_data"
    }
   ],
   "source": [
    "# Output the first 5 rows and all columns of scdata\n",
    "scdata[1:5, ]"
   ]
  },
  {
   "cell_type": "markdown",
   "id": "998a2c",
   "metadata": {
    "collapsed": false
   },
   "source": [
    "**Q7.2.** To access columns in a `matrix` or a `data.frame`, we can use the position index \\(i.e., `2` represents the second column\\), or the name index, if the column name exists. For a `data.frame`, we can also use dollar sign to access a named column. Please provide three ways to show the first five rows of the `Aldoa` gene. Make sure you get the same results. In your opinion, which approach is not ideal because of poor readability? \n"
   ]
  },
  {
   "cell_type": "code",
   "execution_count": 43,
   "id": "b9cd29",
   "metadata": {
    "collapsed": false,
    "vscode": {
     "languageId": "r"
    }
   },
   "outputs": [
    {
     "data": {
      "text/html": [
       "<style>\n",
       ".list-inline {list-style: none; margin:0; padding: 0}\n",
       ".list-inline>li {display: inline-block}\n",
       ".list-inline>li:not(:last-child)::after {content: \"\\00b7\"; padding: 0 .5ex}\n",
       "</style>\n",
       "<ol class=list-inline><li>0</li><li>1</li><li>1</li><li>4</li><li>3</li></ol>\n"
      ],
      "text/latex": [
       "\\begin{enumerate*}\n",
       "\\item 0\n",
       "\\item 1\n",
       "\\item 1\n",
       "\\item 4\n",
       "\\item 3\n",
       "\\end{enumerate*}\n"
      ],
      "text/markdown": [
       "1. 0\n",
       "2. 1\n",
       "3. 1\n",
       "4. 4\n",
       "5. 3\n",
       "\n",
       "\n"
      ],
      "text/plain": [
       "[1] 0 1 1 4 3"
      ]
     },
     "metadata": {},
     "output_type": "display_data"
    },
    {
     "data": {
      "text/html": [
       "<style>\n",
       ".list-inline {list-style: none; margin:0; padding: 0}\n",
       ".list-inline>li {display: inline-block}\n",
       ".list-inline>li:not(:last-child)::after {content: \"\\00b7\"; padding: 0 .5ex}\n",
       "</style>\n",
       "<ol class=list-inline><li>62</li><li>33</li><li>20</li><li>51</li><li>27</li></ol>\n"
      ],
      "text/latex": [
       "\\begin{enumerate*}\n",
       "\\item 62\n",
       "\\item 33\n",
       "\\item 20\n",
       "\\item 51\n",
       "\\item 27\n",
       "\\end{enumerate*}\n"
      ],
      "text/markdown": [
       "1. 62\n",
       "2. 33\n",
       "3. 20\n",
       "4. 51\n",
       "5. 27\n",
       "\n",
       "\n"
      ],
      "text/plain": [
       "[1] 62 33 20 51 27"
      ]
     },
     "metadata": {},
     "output_type": "display_data"
    },
    {
     "data": {
      "text/html": [
       "<style>\n",
       ".list-inline {list-style: none; margin:0; padding: 0}\n",
       ".list-inline>li {display: inline-block}\n",
       ".list-inline>li:not(:last-child)::after {content: \"\\00b7\"; padding: 0 .5ex}\n",
       "</style>\n",
       "<ol class=list-inline><li>62</li><li>33</li><li>20</li><li>51</li><li>27</li></ol>\n"
      ],
      "text/latex": [
       "\\begin{enumerate*}\n",
       "\\item 62\n",
       "\\item 33\n",
       "\\item 20\n",
       "\\item 51\n",
       "\\item 27\n",
       "\\end{enumerate*}\n"
      ],
      "text/markdown": [
       "1. 62\n",
       "2. 33\n",
       "3. 20\n",
       "4. 51\n",
       "5. 27\n",
       "\n",
       "\n"
      ],
      "text/plain": [
       "[1] 62 33 20 51 27"
      ]
     },
     "metadata": {},
     "output_type": "display_data"
    }
   ],
   "source": [
    "# First five rows of the second column (assuming 'Aldoa' is the second column)\n",
    "scdata[1:5, 2]\n",
    "# First five rows of the 'Aldoa' column using the column name\n",
    "scdata[1:5, \"Aldoa\"]\n",
    "# First five rows of the 'Aldoa' column using the dollar sign\n",
    "scdata$Aldoa[1:5]"
   ]
  },
  {
   "cell_type": "code",
   "execution_count": 13,
   "metadata": {
    "vscode": {
     "languageId": "r"
    }
   },
   "outputs": [
    {
     "ename": "ERROR",
     "evalue": "Error in parse(text = x, srcfile = src): <text>:1:5: unexpected symbol\n1: The approach\n        ^\n",
     "output_type": "error",
     "traceback": [
      "Error in parse(text = x, srcfile = src): <text>:1:5: unexpected symbol\n1: The approach\n        ^\nTraceback:\n"
     ]
    }
   ],
   "source": [
    "The approach using the position index (scdata[1:5, 2]) is not ideal for readability. It relies on knowing the exact position of the column, which can change if the dataset is modified or updated. The name index (scdata[1:5, \"Aldoa\"]) and dollar sign (scdata$Aldoa[1:5]) are more readable because they use the actual column name, making the code easier to understand and maintain."
   ]
  },
  {
   "cell_type": "markdown",
   "id": "62f3b8",
   "metadata": {
    "collapsed": false
   },
   "source": [
    "**Q8.** Use `[]` and `<-` to change the value of the object in the second row, second column in scdata to 333. Use `[]` to output the first 5 rows and all columns again."
   ]
  },
  {
   "cell_type": "code",
   "execution_count": 14,
   "id": "003c92",
   "metadata": {
    "collapsed": false,
    "vscode": {
     "languageId": "r"
    }
   },
   "outputs": [
    {
     "data": {
      "text/html": [
       "<table>\n",
       "<thead><tr><th scope=col>Sub1</th><th scope=col>Scg2</th><th scope=col>Aldoa</th></tr></thead>\n",
       "<tbody>\n",
       "\t<tr><td>29 </td><td>  0</td><td>62 </td></tr>\n",
       "\t<tr><td>11 </td><td>333</td><td>33 </td></tr>\n",
       "\t<tr><td>14 </td><td>  1</td><td>20 </td></tr>\n",
       "\t<tr><td>19 </td><td>  4</td><td>51 </td></tr>\n",
       "\t<tr><td>17 </td><td>  3</td><td>27 </td></tr>\n",
       "</tbody>\n",
       "</table>\n"
      ],
      "text/latex": [
       "\\begin{tabular}{r|lll}\n",
       " Sub1 & Scg2 & Aldoa\\\\\n",
       "\\hline\n",
       "\t 29  &   0 & 62 \\\\\n",
       "\t 11  & 333 & 33 \\\\\n",
       "\t 14  &   1 & 20 \\\\\n",
       "\t 19  &   4 & 51 \\\\\n",
       "\t 17  &   3 & 27 \\\\\n",
       "\\end{tabular}\n"
      ],
      "text/markdown": [
       "\n",
       "| Sub1 | Scg2 | Aldoa |\n",
       "|---|---|---|\n",
       "| 29  |   0 | 62  |\n",
       "| 11  | 333 | 33  |\n",
       "| 14  |   1 | 20  |\n",
       "| 19  |   4 | 51  |\n",
       "| 17  |   3 | 27  |\n",
       "\n"
      ],
      "text/plain": [
       "  Sub1 Scg2 Aldoa\n",
       "1 29     0  62   \n",
       "2 11   333  33   \n",
       "3 14     1  20   \n",
       "4 19     4  51   \n",
       "5 17     3  27   "
      ]
     },
     "metadata": {},
     "output_type": "display_data"
    }
   ],
   "source": [
    "# Change the value in the second row, second column to 333\n",
    "scdata[2, 2] <- 333\n",
    "\n",
    "# Output the first 5 rows and all columns\n",
    "scdata[1:5, ]\n"
   ]
  },
  {
   "cell_type": "markdown",
   "id": "96312a",
   "metadata": {
    "collapsed": false
   },
   "source": [
    "**Q9.** Note the above action is dangerous! We cannot retrieve the original values after changing the object \\(and save it under the same object\\). Fortunately, we have not modified the raw file itself. So we will reload the data. Reload the file `single_cell_rnaseq_hw1.txt` into the `scdata` variable and output the first 5 rows for a second time. Is the value in the second row, second column 333, or the original value? Why? Write your code in the first cell and answer in the second cell.\n"
   ]
  },
  {
   "cell_type": "code",
   "execution_count": 33,
   "id": "213d77",
   "metadata": {
    "collapsed": false,
    "vscode": {
     "languageId": "r"
    }
   },
   "outputs": [
    {
     "data": {
      "text/html": [
       "<table class=\"dataframe\">\n",
       "<caption>A data.frame: 5 × 3</caption>\n",
       "<thead>\n",
       "\t<tr><th></th><th scope=col>Sub1</th><th scope=col>Scg2</th><th scope=col>Aldoa</th></tr>\n",
       "\t<tr><th></th><th scope=col>&lt;int&gt;</th><th scope=col>&lt;int&gt;</th><th scope=col>&lt;int&gt;</th></tr>\n",
       "</thead>\n",
       "<tbody>\n",
       "\t<tr><th scope=row>1</th><td>29</td><td>0</td><td>62</td></tr>\n",
       "\t<tr><th scope=row>2</th><td>11</td><td>1</td><td>33</td></tr>\n",
       "\t<tr><th scope=row>3</th><td>14</td><td>1</td><td>20</td></tr>\n",
       "\t<tr><th scope=row>4</th><td>19</td><td>4</td><td>51</td></tr>\n",
       "\t<tr><th scope=row>5</th><td>17</td><td>3</td><td>27</td></tr>\n",
       "</tbody>\n",
       "</table>\n"
      ],
      "text/latex": [
       "A data.frame: 5 × 3\n",
       "\\begin{tabular}{r|lll}\n",
       "  & Sub1 & Scg2 & Aldoa\\\\\n",
       "  & <int> & <int> & <int>\\\\\n",
       "\\hline\n",
       "\t1 & 29 & 0 & 62\\\\\n",
       "\t2 & 11 & 1 & 33\\\\\n",
       "\t3 & 14 & 1 & 20\\\\\n",
       "\t4 & 19 & 4 & 51\\\\\n",
       "\t5 & 17 & 3 & 27\\\\\n",
       "\\end{tabular}\n"
      ],
      "text/markdown": [
       "\n",
       "A data.frame: 5 × 3\n",
       "\n",
       "| <!--/--> | Sub1 &lt;int&gt; | Scg2 &lt;int&gt; | Aldoa &lt;int&gt; |\n",
       "|---|---|---|---|\n",
       "| 1 | 29 | 0 | 62 |\n",
       "| 2 | 11 | 1 | 33 |\n",
       "| 3 | 14 | 1 | 20 |\n",
       "| 4 | 19 | 4 | 51 |\n",
       "| 5 | 17 | 3 | 27 |\n",
       "\n"
      ],
      "text/plain": [
       "  Sub1 Scg2 Aldoa\n",
       "1 29   0    62   \n",
       "2 11   1    33   \n",
       "3 14   1    20   \n",
       "4 19   4    51   \n",
       "5 17   3    27   "
      ]
     },
     "metadata": {},
     "output_type": "display_data"
    }
   ],
   "source": [
    "# Reload the single cell RNA-Seq dataset into scdata\n",
    "scdata <- read.table(\"single_cell_rnaseq_hw1.txt\", header = TRUE)\n",
    "\n",
    "# Output the first 5 rows\n",
    "scdata[1:5, ]\n"
   ]
  },
  {
   "cell_type": "raw",
   "id": "cd4536",
   "metadata": {
    "collapsed": false,
    "vscode": {
     "languageId": "raw"
    }
   },
   "source": [
    "After reloading the data, the value in the second row, second column will not be 333; it will be the original value from the file. This is because when you modified the value previously, the change was made in the scdata object in memory, not in the actual file on disk. By reloading the file, you are resetting the scdata object to its original state, as the changes were not saved to the file itself."
   ]
  },
  {
   "cell_type": "markdown",
   "id": "41b7ff",
   "metadata": {
    "collapsed": false
   },
   "source": [
    "**Q10.** Calculate the summary statistics for each gene. What are the mean values for gene `Sub1` and `Aldoa` from the summary statistics? Write down the code in the first cell and your answers in the second cell."
   ]
  },
  {
   "cell_type": "code",
   "execution_count": 34,
   "id": "132b41",
   "metadata": {
    "collapsed": false,
    "vscode": {
     "languageId": "r"
    }
   },
   "outputs": [
    {
     "name": "stdout",
     "output_type": "stream",
     "text": [
      "      Sub1            Scg2          Aldoa      \n",
      " Min.   : 7.00   Min.   : 0.0   Min.   : 4.00  \n",
      " 1st Qu.:15.00   1st Qu.: 2.0   1st Qu.:20.00  \n",
      " Median :28.50   Median : 3.5   Median :31.00  \n",
      " Mean   :26.52   Mean   : 6.3   Mean   :32.33  \n",
      " 3rd Qu.:35.25   3rd Qu.: 8.0   3rd Qu.:45.00  \n",
      " Max.   :52.00   Max.   :32.0   Max.   :82.00  \n"
     ]
    },
    {
     "data": {
      "text/html": [
       "26.525"
      ],
      "text/latex": [
       "26.525"
      ],
      "text/markdown": [
       "26.525"
      ],
      "text/plain": [
       "[1] 26.525"
      ]
     },
     "metadata": {},
     "output_type": "display_data"
    },
    {
     "data": {
      "text/html": [
       "32.325"
      ],
      "text/latex": [
       "32.325"
      ],
      "text/markdown": [
       "32.325"
      ],
      "text/plain": [
       "[1] 32.325"
      ]
     },
     "metadata": {},
     "output_type": "display_data"
    }
   ],
   "source": [
    "# Calculate summary statistics for each gene\n",
    "summary_stats <- summary(scdata)\n",
    "\n",
    "# Display the summary statistics\n",
    "print(summary_stats)\n",
    "\n",
    "# Extract mean values for Sub1 and Aldoa\n",
    "mean_Sub1 <- mean(scdata$Sub1)\n",
    "mean_Aldoa <- mean(scdata$Aldoa)\n",
    "\n",
    "# Print the mean values\n",
    "mean_Sub1\n",
    "mean_Aldoa\n"
   ]
  },
  {
   "cell_type": "raw",
   "id": "105e1f",
   "metadata": {
    "collapsed": false,
    "vscode": {
     "languageId": "raw"
    }
   },
   "source": [
    "Mean value for gene Sub1: 26.525\n",
    "Mean value for gene Aldoa: 32.325"
   ]
  },
  {
   "cell_type": "markdown",
   "id": "c7b530",
   "metadata": {
    "collapsed": false
   },
   "source": [
    "**Q11.1.** If we want to use t-test to test the statistical difference of `Sub1` and `Scg2`, what is the null hypothesis and alternative hypothesis in this case? Write your answer in the following cell."
   ]
  },
  {
   "cell_type": "raw",
   "id": "f08e01",
   "metadata": {
    "collapsed": false,
    "vscode": {
     "languageId": "raw"
    }
   },
   "source": [
    "Null Hypothesis (H₀):\n",
    "There is no significant difference between the mean expression levels of the genes Sub1 and Scg2. In other words, the mean expression of Sub1 is equal to the mean expression of Scg2.\n",
    "\n",
    "Alternative Hypothesis (H₁):\n",
    "There is a significant difference between the mean expression levels of the genes Sub1 and Scg2. In other words, the mean expression of Sub1 is not equal to the mean expression of Scg2."
   ]
  },
  {
   "cell_type": "markdown",
   "id": "c75876",
   "metadata": {
    "collapsed": false
   },
   "source": [
    "**Q11.2.** Perform the t-test to compare the mean values of `Sub1` and `Scg2`. Save the output to a variable called `t_result`  "
   ]
  },
  {
   "cell_type": "code",
   "execution_count": 17,
   "id": "ccf4b1",
   "metadata": {
    "collapsed": false,
    "vscode": {
     "languageId": "r"
    }
   },
   "outputs": [
    {
     "name": "stdout",
     "output_type": "stream",
     "text": [
      "\n",
      "\tWelch Two Sample t-test\n",
      "\n",
      "data:  scdata$Sub1 and scdata$Scg2\n",
      "t = 9.4614, df = 66.716, p-value = 5.987e-14\n",
      "alternative hypothesis: true difference in means is not equal to 0\n",
      "95 percent confidence interval:\n",
      " 15.95793 24.49207\n",
      "sample estimates:\n",
      "mean of x mean of y \n",
      "   26.525     6.300 \n",
      "\n"
     ]
    }
   ],
   "source": [
    "# Perform the t-test to compare the mean values of Sub1 and Scg2\n",
    "t_result <- t.test(scdata$Sub1, scdata$Scg2)\n",
    "\n",
    "# Print the t-test result\n",
    "print(t_result)"
   ]
  },
  {
   "cell_type": "markdown",
   "id": "b01241",
   "metadata": {
    "collapsed": false
   },
   "source": [
    "**Q11.3.** Ouput the t-statistic and p-value from the above test. What is your conclusion?"
   ]
  },
  {
   "cell_type": "code",
   "execution_count": 42,
   "id": "32cb41",
   "metadata": {
    "collapsed": false,
    "vscode": {
     "languageId": "r"
    }
   },
   "outputs": [
    {
     "ename": "ERROR",
     "evalue": "Error in eval(expr, envir, enclos): object 'statistic' not found\n",
     "output_type": "error",
     "traceback": [
      "Error in eval(expr, envir, enclos): object 'statistic' not found\nTraceback:\n"
     ]
    }
   ],
   "source": [
    "T-statistic: 9.4614\n",
    "P-value: 5.987e-14"
   ]
  },
  {
   "cell_type": "raw",
   "id": "406e2a",
   "metadata": {
    "collapsed": false,
    "vscode": {
     "languageId": "raw"
    }
   },
   "source": [
    "Since the p-value (5.987e-14) is extremely small and far below a typical significance level (e.g., 0.05), we reject the null hypothesis. This means that there is a statistically significant difference between the mean expression levels of the genes Sub1 and Scg2."
   ]
  },
  {
   "cell_type": "markdown",
   "id": "6c04bf",
   "metadata": {
    "collapsed": false
   },
   "source": [
    "**Q12.** Plot the expression level of `Sub1` and `Scg2` using a scatter plot (put `Sub1` on y-axis and `Scg2` on x-axis), using the `plot()` function in base R. \n",
    "Note: please use base R functions for questions **Q12** to **Q15**."
   ]
  },
  {
   "cell_type": "code",
   "execution_count": 40,
   "id": "c292e0",
   "metadata": {
    "collapsed": false,
    "vscode": {
     "languageId": "r"
    }
   },
   "outputs": [
    {
     "data": {
      "image/png": "[encoded data removed]",
      "text/plain": [
       "Plot with title \"Scatter Plot of Sub1 vs Scg2\""
      ]
     },
     "metadata": {
      "image/png": {
       "height": 360,
       "width": 360
      }
     },
     "output_type": "display_data"
    }
   ],
   "source": [
    "# Set plotting options for size\n",
    "options(repr.plot.width=6, repr.plot.height=6)\n",
    "\n",
    "# Scatter plot with Sub1 on the y-axis and Scg2 on the x-axis\n",
    "plot(scdata$Scg2, scdata$Sub1, \n",
    "     xlab = \"Scg2 Expression\", \n",
    "     ylab = \"Sub1 Expression\", \n",
    "     main = \"Scatter Plot of Sub1 vs Scg2\", \n",
    "     pch = 16, # Use filled circles for points\n",
    "     col = \"blue\") # Set point color to blue"
   ]
  },
  {
   "cell_type": "markdown",
   "id": "cc67e6",
   "metadata": {
    "collapsed": false
   },
   "source": [
    "**Q13.1.** Perform a simple linear regression between `Sub1` and `Scg2`; consider `Sub1` as the response variable and `Scg2` as the explanatory variable. Save the linear regression results into a variable named `linear_regression_result`"
   ]
  },
  {
   "cell_type": "code",
   "execution_count": 41,
   "id": "947d6a",
   "metadata": {
    "collapsed": false,
    "vscode": {
     "languageId": "r"
    }
   },
   "outputs": [
    {
     "data": {
      "text/plain": [
       "\n",
       "Call:\n",
       "lm(formula = Sub1 ~ Scg2, data = scdata)\n",
       "\n",
       "Residuals:\n",
       "     Min       1Q   Median       3Q      Max \n",
       "-20.1753  -9.9389   0.3247   7.3699  26.3548 \n",
       "\n",
       "Coefficients:\n",
       "            Estimate Std. Error t value Pr(>|t|)    \n",
       "(Intercept)  24.1151     2.3362  10.322  1.4e-12 ***\n",
       "Scg2          0.3825     0.2434   1.572    0.124    \n",
       "---\n",
       "Signif. codes:  0 '***' 0.001 '**' 0.01 '*' 0.05 '.' 0.1 ' ' 1\n",
       "\n",
       "Residual standard error: 11.15 on 38 degrees of freedom\n",
       "Multiple R-squared:  0.06105,\tAdjusted R-squared:  0.03634 \n",
       "F-statistic: 2.471 on 1 and 38 DF,  p-value: 0.1243\n"
      ]
     },
     "metadata": {},
     "output_type": "display_data"
    }
   ],
   "source": [
    "# Perform linear regression with Sub1 as the response and Scg2 as the explanatory variable\n",
    "linear_regression_result <- lm(Sub1 ~ Scg2, data = scdata)\n",
    "\n",
    "# Print the linear regression result\n",
    "summary(linear_regression_result)\n"
   ]
  },
  {
   "cell_type": "markdown",
   "id": "90d85d",
   "metadata": {
    "collapsed": false
   },
   "source": [
    "**Q13.2.** Plot the regression line on the previous scatter plot."
   ]
  },
  {
   "cell_type": "code",
   "execution_count": 21,
   "id": "f398a3",
   "metadata": {
    "collapsed": false,
    "vscode": {
     "languageId": "r"
    }
   },
   "outputs": [
    {
     "data": {
      "image/png": "[encoded data removed]",
      "text/plain": [
       "Plot with title \"Scatter Plot of Sub1 vs Scg2 with Regression Line\""
      ]
     },
     "metadata": {},
     "output_type": "display_data"
    }
   ],
   "source": [
    "# Set plotting options for size\n",
    "options(repr.plot.width=6, repr.plot.height=6)\n",
    "\n",
    "# Scatter plot with Sub1 on the y-axis and Scg2 on the x-axis\n",
    "plot(scdata$Scg2, scdata$Sub1, \n",
    "     xlab = \"Scg2 Expression\", \n",
    "     ylab = \"Sub1 Expression\", \n",
    "     main = \"Scatter Plot of Sub1 vs Scg2 with Regression Line\", \n",
    "     pch = 16, # Use filled circles for points\n",
    "     col = \"blue\") # Set point color to blue\n",
    "\n",
    "# Add the regression line to the scatter plot\n",
    "abline(linear_regression_result, col = \"red\", lwd = 2)"
   ]
  },
  {
   "cell_type": "markdown",
   "id": "44891a",
   "metadata": {
    "collapsed": false
   },
   "source": [
    "**Q13.3.** From the regression results, ouput:\n",
    "\n",
    "- The p-value \n",
    "- The R-squared value\n",
    "\n",
    "[Hint: you may find the `summary()` function useful.]"
   ]
  },
  {
   "cell_type": "markdown",
   "metadata": {},
   "source": [
    "p-value: 0.124288623712222\n",
    "R-squared value: 0.0610453266332083"
   ]
  },
  {
   "cell_type": "code",
   "execution_count": null,
   "metadata": {
    "vscode": {
     "languageId": "r"
    }
   },
   "outputs": [
    {
     "data": {
      "text/html": [
       "0.124288623712222"
      ],
      "text/latex": [
       "0.124288623712222"
      ],
      "text/markdown": [
       "0.124288623712222"
      ],
      "text/plain": [
       "[1] 0.1242886"
      ]
     },
     "metadata": {},
     "output_type": "display_data"
    },
    {
     "data": {
      "text/html": [
       "0.0610453266332083"
      ],
      "text/latex": [
       "0.0610453266332083"
      ],
      "text/markdown": [
       "0.0610453266332083"
      ],
      "text/plain": [
       "[1] 0.06104533"
      ]
     },
     "metadata": {},
     "output_type": "display_data"
    }
   ],
   "source": [
    "# Get the summary of the linear regression result\n",
    "regression_summary <- summary(linear_regression_result)\n",
    "\n",
    "# Extract the p-value\n",
    "p_value <- regression_summary$coefficients[2, 4]\n",
    "\n",
    "# Extract the R-squared value\n",
    "r_squared <- regression_summary$r.squared\n",
    "\n",
    "# Print the p-value and R-squared value\n",
    "p_value\n",
    "r_squared\n"
   ]
  },
  {
   "cell_type": "markdown",
   "id": "6c72e4",
   "metadata": {
    "collapsed": false
   },
   "source": [
    "**Q13.4.** Given the results from the regression, interpret the correlation between `Sub1` and `Scg2` providing a justification of that interpretation with the data."
   ]
  },
  {
   "cell_type": "raw",
   "id": "de8a09",
   "metadata": {
    "collapsed": false,
    "vscode": {
     "languageId": "raw"
    }
   },
   "source": [
    "The p-value of 0.1243 indicates that the relationship between the expression levels of Sub1 and Scg2 is not statistically significant at common significance levels (e.g., 0.05). This suggests that there is no strong evidence to reject the null hypothesis, meaning we cannot confidently say that the expression levels of Sub1 and Scg2 are correlated.\n",
    "\n",
    "The R-squared value of 0.0610 means that only 6.1% of the variability in the Sub1 expression levels can be explained by the Scg2 expression levels. This is a very low value, indicating a weak relationship between the two variables."
   ]
  },
  {
   "cell_type": "markdown",
   "id": "cf389c",
   "metadata": {
    "collapsed": false
   },
   "source": [
    "**Q14.1.** Use a boxplot to plot the expression levels of `Sub1` and `Scg2`."
   ]
  },
  {
   "cell_type": "code",
   "execution_count": 23,
   "id": "c09c6c",
   "metadata": {
    "collapsed": false,
    "vscode": {
     "languageId": "r"
    }
   },
   "outputs": [
    {
     "data": {
      "image/png": "[encoded data removed]",
      "text/plain": [
       "Plot with title \"Boxplot of Expression Levels: Sub1 vs Scg2\""
      ]
     },
     "metadata": {},
     "output_type": "display_data"
    }
   ],
   "source": [
    "# Set plotting options for size\n",
    "options(repr.plot.width=6, repr.plot.height=6)\n",
    "\n",
    "# Create a boxplot for the expression levels of Sub1 and Scg2\n",
    "boxplot(scdata$Sub1, scdata$Scg2,\n",
    "        names = c(\"Sub1\", \"Scg2\"), # Label the boxes\n",
    "        main = \"Boxplot of Expression Levels: Sub1 vs Scg2\",\n",
    "        ylab = \"Expression Levels\",\n",
    "        col = c(\"lightblue\", \"lightgreen\")) # Set colors for boxes\n"
   ]
  },
  {
   "cell_type": "markdown",
   "id": "72fbcf",
   "metadata": {
    "collapsed": false
   },
   "source": [
    "**Q14.2.** Which gene has larger median?"
   ]
  },
  {
   "cell_type": "raw",
   "id": "2d7111",
   "metadata": {
    "collapsed": false,
    "vscode": {
     "languageId": "raw"
    }
   },
   "source": [
    "From the boxplot created in Q14.1, the gene with the larger median is Sub1."
   ]
  },
  {
   "cell_type": "markdown",
   "id": "a6805d",
   "metadata": {
    "collapsed": false
   },
   "source": [
    "**Q15.1.** Plot the distributions of gene `Sub1` and `Scg2` with histograms."
   ]
  },
  {
   "cell_type": "code",
   "execution_count": 24,
   "id": "0d97e4",
   "metadata": {
    "collapsed": false,
    "vscode": {
     "languageId": "r"
    }
   },
   "outputs": [
    {
     "ename": "ERROR",
     "evalue": "Error in eval(expr, envir, enclos): object 'scdata' not found\n",
     "output_type": "error",
     "traceback": [
      "Error in eval(expr, envir, enclos): object 'scdata' not found\nTraceback:\n",
      "1. hist(scdata$Sub1, main = \"Histogram of Sub1 Expression Levels\", \n .     xlab = \"Sub1 Expression\", col = \"lightblue\", border = \"black\")"
     ]
    }
   ],
   "source": [
    "# Set plotting options for size\n",
    "options(repr.plot.width=6, repr.plot.height=6)\n",
    "\n",
    "# Plot the histogram for Sub1 expression levels\n",
    "hist(scdata$Sub1, \n",
    "     main = \"Histogram of Sub1 Expression Levels\", \n",
    "     xlab = \"Sub1 Expression\", \n",
    "     col = \"lightblue\", \n",
    "     border = \"black\")\n",
    "\n",
    "# Plot the histogram for Scg2 expression levels\n",
    "hist(scdata$Scg2, \n",
    "     main = \"Histogram of Scg2 Expression Levels\", \n",
    "     xlab = \"Scg2 Expression\", \n",
    "     col = \"lightgreen\", \n",
    "     border = \"black\")"
   ]
  },
  {
   "cell_type": "markdown",
   "id": "304f20",
   "metadata": {
    "collapsed": false
   },
   "source": [
    "**Q15.2.** Do these genes look normally distributed? Why or why not? If the data is not normal, which distribution would be better to use to model this count-based expression data?"
   ]
  },
  {
   "cell_type": "raw",
   "id": "4e19d7",
   "metadata": {
    "collapsed": false,
    "vscode": {
     "languageId": "raw"
    }
   },
   "source": [
    "The histogram of Sub1 shows a right-skewed distribution. While there are several data points around the lower range, there are also a few data points with higher expression values. This skewness suggests that Sub1 expression levels are not normally distributed, with a longer tail toward the higher expression values.\n",
    "\n",
    "The histogram of Scg2 displays a heavily right-skewed distribution. The majority of the data points are concentrated near the lower end (with many at zero or close to zero expression), while a few data points have higher values, but they are very sparse. This is typical of count data, where most genes have low or no expression in many samples, leading to skewness and zero inflation.\n",
    "\n",
    "Given the characteristics of the data, especially for count-based expression levels, a negative binomial distribution would be more appropriate. This distribution accounts for overdispersion (where the variance is greater than the mean), which is common in RNA-Seq and similar count data.\n"
   ]
  },
  {
   "cell_type": "markdown",
   "id": "b27d41",
   "metadata": {
    "collapsed": false
   },
   "source": [
    "### Section Three: ggplot2"
   ]
  },
  {
   "cell_type": "markdown",
   "id": "1e261b",
   "metadata": {
    "collapsed": false
   },
   "source": [
    "**Q16.1.** Remake the scatterplot from **Q13.2** using ggplot. "
   ]
  },
  {
   "cell_type": "code",
   "execution_count": 36,
   "id": "35bf3e",
   "metadata": {
    "collapsed": false,
    "vscode": {
     "languageId": "r"
    }
   },
   "outputs": [
    {
     "name": "stderr",
     "output_type": "stream",
     "text": [
      "Warning message:\n",
      "\"package 'ggplot2' is in use and will not be installed\"\n"
     ]
    },
    {
     "name": "stderr",
     "output_type": "stream",
     "text": [
      "\u001b[1m\u001b[22m`geom_smooth()` using formula = 'y ~ x'\n"
     ]
    },
    {
     "data": {
      "image/png": "[encoded data removed]",
      "text/plain": [
       "plot without title"
      ]
     },
     "metadata": {
      "image/png": {
       "height": 360,
       "width": 360
      }
     },
     "output_type": "display_data"
    }
   ],
   "source": [
    "# Install ggplot2 if not already installed\n",
    "install.packages(\"ggplot2\")\n",
    "\n",
    "# Load the ggplot2 library\n",
    "library(ggplot2)\n",
    "\n",
    "# Create a scatter plot using ggplot2 with a regression line\n",
    "ggplot(scdata, aes(x = Scg2, y = Sub1)) +\n",
    "  geom_point(color = \"blue\") +                     # Scatter plot with points in blue\n",
    "  geom_smooth(method = \"lm\", color = \"red\") +      # Add regression line in red\n",
    "  labs(title = \"Scatter Plot of Sub1 vs Scg2 with Regression Line\", \n",
    "       x = \"Scg2 Expression\", \n",
    "       y = \"Sub1 Expression\") +                    # Set axis labels and title\n",
    "  theme_minimal()                                  # Use a clean theme\n"
   ]
  },
  {
   "cell_type": "markdown",
   "id": "5406e9",
   "metadata": {
    "collapsed": false
   },
   "source": [
    "**Q16.2.** Remake the boxplot from **Q14.1** with ggplot. For scientific pulications, the `theme_minimal()` or `theme_classic()` are usually preferred. Please set the plot theme by the `theme_minimal()` or `theme_classic()` function. Also, give different fill colors for each gene, and specify the colors manually to `#ff6361` and `darkblue`. "
   ]
  },
  {
   "cell_type": "code",
   "execution_count": 38,
   "id": "bb8e9c",
   "metadata": {
    "collapsed": false,
    "vscode": {
     "languageId": "r"
    }
   },
   "outputs": [
    {
     "data": {
      "image/png": "[encoded data removed]",
      "text/plain": [
       "plot without title"
      ]
     },
     "metadata": {
      "image/png": {
       "height": 360,
       "width": 360
      }
     },
     "output_type": "display_data"
    }
   ],
   "source": [
    "# Load ggplot2 library\n",
    "library(ggplot2)\n",
    "\n",
    "# Create a boxplot using ggplot2 with custom fill colors and theme\n",
    "ggplot(scdata, aes(x = factor(1), y = Sub1)) +\n",
    "  geom_boxplot(aes(fill = \"Sub1\"), width = 0.3) +\n",
    "  geom_boxplot(aes(x = factor(2), y = Scg2, fill = \"Scg2\"), width = 0.3) +\n",
    "  scale_fill_manual(values = c(\"Sub1\" = \"#ff6361\", \"Scg2\" = \"darkblue\")) +\n",
    "  labs(title = \"Boxplot of Sub1 and Scg2 Expression Levels\", \n",
    "       x = \"Genes\", \n",
    "       y = \"Expression Levels\") +\n",
    "  scale_x_discrete(labels = c(\"Sub1\", \"Scg2\")) +  # Set custom labels for x-axis\n",
    "  theme_minimal()  # Use theme_minimal or theme_classic"
   ]
  },
  {
   "cell_type": "markdown",
   "id": "e318d0",
   "metadata": {
    "collapsed": false
   },
   "source": [
    "**Q17.1.** For the histograms in **Q15.1**, combine the histograms into a single plot using ggplot. To do this, you'll need to use the \n",
    "\n",
    "* Use the `geom_histogram()` function in ggplot, providing the argument `binwidth=3` \n",
    "* Color Scg2 and Sub1 different colors but otherwise leave the default settings of geom_histogram in place. \n",
    "* Color the bars themselves and not the bar outlines [Hint: there are different aesthetic parameters used for each of these two things!]"
   ]
  },
  {
   "cell_type": "code",
   "execution_count": 48,
   "id": "62550f",
   "metadata": {
    "collapsed": false,
    "vscode": {
     "languageId": "r"
    }
   },
   "outputs": [
    {
     "data": {
      "image/png": "[encoded data removed]",
      "text/plain": [
       "plot without title"
      ]
     },
     "metadata": {
      "image/png": {
       "height": 360,
       "width": 360
      }
     },
     "output_type": "display_data"
    }
   ],
   "source": [
    "# Load ggplot2 library\n",
    "library(ggplot2)\n",
    "\n",
    "# Reshape the data into long format for ggplot\n",
    "scdata_long <- data.frame(\n",
    "  Gene = rep(c(\"Sub1\", \"Scg2\"), each = nrow(scdata)),\n",
    "  Expression = c(scdata$Sub1, scdata$Scg2)\n",
    ")\n",
    "\n",
    "# Create combined histogram for Sub1 and Scg2 with different colors\n",
    "ggplot(scdata_long, aes(x = Expression, fill = Gene)) +\n",
    "  geom_histogram(binwidth = 3) +  # Overlapping histograms with transparency\n",
    "  scale_fill_manual(values = c(\"Sub1\" = \"#ff6361\", \"Scg2\" = \"darkblue\")) +  # Fill colors for bars\n",
    "  labs(title = \"Combined Histogram of Sub1 and Scg2 Expression Levels\", \n",
    "       x = \"Expression Levels\", \n",
    "       y = \"Count\") +\n",
    "  theme_minimal()  # Use minimal theme\n"
   ]
  },
  {
   "cell_type": "markdown",
   "id": "70ef99",
   "metadata": {
    "collapsed": false
   },
   "source": [
    "**Q17.2.** Compare the plot you just made to the histograms from **Q15.1**. What do you notice about the style (plotting type) of how the expression data for the two genes are plotted?"
   ]
  },
  {
   "cell_type": "raw",
   "id": "06e19b",
   "metadata": {
    "collapsed": false,
    "vscode": {
     "languageId": "raw"
    }
   },
   "source": [
    "Q15.1 (Separate Histograms): Better for isolating and studying each gene’s distribution individually.\n",
    "Q17.1 (Combined Histogram): Better for directly comparing the distributions of both genes, though overlapping bars can make it harder to see details of individual distributions."
   ]
  },
  {
   "cell_type": "markdown",
   "id": "b09257",
   "metadata": {
    "collapsed": false
   },
   "source": [
    "**Q17.3.** In a new plot, modify geom_histogram() function call from your previous plot and:\n",
    "\n",
    "* include the arguments `alpha=0.6` and `position=\"identity\"`\n",
    "\n",
    "Describe in your own words what changes each of these separate arguments have done to the plot."
   ]
  },
  {
   "cell_type": "code",
   "execution_count": 49,
   "id": "c32d2d",
   "metadata": {
    "collapsed": false,
    "vscode": {
     "languageId": "r"
    }
   },
   "outputs": [
    {
     "data": {
      "image/png": "[encoded data removed]",
      "text/plain": [
       "plot without title"
      ]
     },
     "metadata": {
      "image/png": {
       "height": 360,
       "width": 360
      }
     },
     "output_type": "display_data"
    }
   ],
   "source": [
    "# Load ggplot2 library\n",
    "library(ggplot2)\n",
    "\n",
    "# Reshape the data into long format for ggplot\n",
    "scdata_long <- data.frame(\n",
    "  Gene = rep(c(\"Sub1\", \"Scg2\"), each = nrow(scdata)),\n",
    "  Expression = c(scdata$Sub1, scdata$Scg2)\n",
    ")\n",
    "\n",
    "# Create combined histogram for Sub1 and Scg2 with different colors, alpha, and position\n",
    "ggplot(scdata_long, aes(x = Expression, fill = Gene)) +\n",
    "  geom_histogram(binwidth = 3, alpha = 0.6, position = \"identity\") +  # Overlapping histograms with alpha\n",
    "  scale_fill_manual(values = c(\"Sub1\" = \"#ff6361\", \"Scg2\" = \"darkblue\")) +  # Fill colors for bars\n",
    "  labs(title = \"Combined Histogram of Sub1 and Scg2 Expression Levels\", \n",
    "       x = \"Expression Levels\", \n",
    "       y = \"Count\") +\n",
    "  theme_minimal()  # Use minimal theme\n"
   ]
  },
  {
   "cell_type": "code",
   "execution_count": 47,
   "id": "741711",
   "metadata": {
    "collapsed": false,
    "vscode": {
     "languageId": "r"
    }
   },
   "outputs": [
    {
     "ename": "ERROR",
     "evalue": "Error in parse(text = x, srcfile = src): <text>:1:4: unexpected symbol\n1: By setting\n       ^\n",
     "output_type": "error",
     "traceback": [
      "Error in parse(text = x, srcfile = src): <text>:1:4: unexpected symbol\n1: By setting\n       ^\nTraceback:\n"
     ]
    }
   ],
   "source": [
    "By setting alpha = 0.6, the bars become more transparent. This makes it easier to see where the histograms for Sub1 and Scg2 overlap, as both colors will blend slightly in areas where both distributions share similar expression values. The lower the alpha value, the more transparent the bars will be.\n",
    "\n",
    "The position = \"identity\" argument ensures that the two histograms are plotted directly on top of each other, instead of being stacked or dodged (which would place them side by side).\n"
   ]
  },
  {
   "cell_type": "markdown",
   "id": "3386eb",
   "metadata": {
    "collapsed": false
   },
   "source": [
    "The ggplot2 package is known for its great flexibility in generating publication-level figures. There are mutliple useful resources online for you to use the package, for example, the ggplot2 cheat sheet (https://rstudio.github.io/cheatsheets/html/data-visualization.html). Go to the website and download the cheatsheet, and answer the question below. \n",
    "\n",
    "**Q17.4.** You have conducted a set of experiments to determine the mouse weight in treatment and control group. In each group, you have five replicates. In reporting your results, you want to add error bars to the plot to show the variation within each group. Which ggplot function can help you plot errorbars in this setting?"
   ]
  },
  {
   "cell_type": "raw",
   "id": "2a5f39",
   "metadata": {
    "collapsed": false,
    "vscode": {
     "languageId": "raw"
    }
   },
   "source": [
    "\n",
    "To add error bars to your plot in ggplot2, you can use the geom_errorbar() function.\n",
    "\n",
    "The geom_errorbar() function is used to add vertical error bars, which are useful for displaying the variability or uncertainty in data, such as the standard error or confidence intervals around the mean."
   ]
  },
  {
   "cell_type": "markdown",
   "id": "af85fd",
   "metadata": {
    "collapsed": false
   },
   "source": [
    "### Section Four: Tidyverse"
   ]
  },
  {
   "cell_type": "markdown",
   "id": "fb27d9",
   "metadata": {
    "collapsed": false
   },
   "source": [
    "**Q18.1.** Load (read) data into R is a critical first step. The data may of different structure, thus requiring different function settings for loading the data. Please take a look at the file `Iditarod.txt`, which is The 2017 Iditarod Trail race data. Does it have a header (column names)? What is the separator? Given this knowledge, load the data into your notebook, and then, load the `tidyverse()` library. \n",
    "\n",
    "You may want to use `head()` or `tail()` on the dataframe to view the first/last few rows, to make sure the data structure loaded is desired."
   ]
  },
  {
   "cell_type": "code",
   "execution_count": 1,
   "id": "8f871e",
   "metadata": {
    "collapsed": false,
    "vscode": {
     "languageId": "r"
    }
   },
   "outputs": [
    {
     "data": {
      "text/html": [
       "<table class=\"dataframe\">\n",
       "<caption>A data.frame: 6 × 15</caption>\n",
       "<thead>\n",
       "\t<tr><th></th><th scope=col>Number</th><th scope=col>Name</th><th scope=col>Status</th><th scope=col>Country</th><th scope=col>Checkpoint</th><th scope=col>Latitude</th><th scope=col>Longitude</th><th scope=col>Distance</th><th scope=col>Time</th><th scope=col>Speed</th><th scope=col>Arrival.Dogs</th><th scope=col>Elapsed.Time</th><th scope=col>Departure.Dogs</th><th scope=col>Departure</th><th scope=col>Arrival</th></tr>\n",
       "\t<tr><th></th><th scope=col>&lt;int&gt;</th><th scope=col>&lt;chr&gt;</th><th scope=col>&lt;chr&gt;</th><th scope=col>&lt;chr&gt;</th><th scope=col>&lt;chr&gt;</th><th scope=col>&lt;dbl&gt;</th><th scope=col>&lt;dbl&gt;</th><th scope=col>&lt;int&gt;</th><th scope=col>&lt;dbl&gt;</th><th scope=col>&lt;dbl&gt;</th><th scope=col>&lt;int&gt;</th><th scope=col>&lt;dbl&gt;</th><th scope=col>&lt;int&gt;</th><th scope=col>&lt;chr&gt;</th><th scope=col>&lt;chr&gt;</th></tr>\n",
       "</thead>\n",
       "<tbody>\n",
       "\t<tr><th scope=row>1</th><td>2</td><td>Ryan Redington </td><td>Veteran</td><td>United States </td><td>Fairbanks</td><td>64.8321</td><td>-147.813</td><td>NA</td><td>0</td><td>NA</td><td>NA</td><td> 0</td><td>16</td><td>2017-03-06 11:00:00</td><td>NA</td></tr>\n",
       "\t<tr><th scope=row>2</th><td>3</td><td>Otto Balogh    </td><td>Rookie </td><td>Hungary       </td><td>Fairbanks</td><td>64.8321</td><td>-147.813</td><td>NA</td><td>0</td><td>NA</td><td>NA</td><td>NA</td><td>NA</td><td>NA                 </td><td>NA</td></tr>\n",
       "\t<tr><th scope=row>3</th><td>4</td><td>Misha Wiljes   </td><td>Rookie </td><td>Czech Republic</td><td>Fairbanks</td><td>64.8321</td><td>-147.813</td><td>NA</td><td>0</td><td>NA</td><td>NA</td><td> 0</td><td>15</td><td>2017-03-06 11:04:00</td><td>NA</td></tr>\n",
       "\t<tr><th scope=row>4</th><td>5</td><td>Cody Strathe   </td><td>Veteran</td><td>United States </td><td>Fairbanks</td><td>64.8321</td><td>-147.813</td><td>NA</td><td>0</td><td>NA</td><td>NA</td><td> 0</td><td>16</td><td>2017-03-06 11:06:00</td><td>NA</td></tr>\n",
       "\t<tr><th scope=row>5</th><td>6</td><td>Linwood Fiedler</td><td>Veteran</td><td>United States </td><td>Fairbanks</td><td>64.8321</td><td>-147.813</td><td>NA</td><td>0</td><td>NA</td><td>NA</td><td> 0</td><td>16</td><td>2017-03-06 11:08:00</td><td>NA</td></tr>\n",
       "\t<tr><th scope=row>6</th><td>7</td><td>Laura Neese    </td><td>Rookie </td><td>United States </td><td>Fairbanks</td><td>64.8321</td><td>-147.813</td><td>NA</td><td>0</td><td>NA</td><td>NA</td><td> 0</td><td>16</td><td>2017-03-06 11:10:00</td><td>NA</td></tr>\n",
       "</tbody>\n",
       "</table>\n"
      ],
      "text/latex": [
       "A data.frame: 6 × 15\n",
       "\\begin{tabular}{r|lllllllllllllll}\n",
       "  & Number & Name & Status & Country & Checkpoint & Latitude & Longitude & Distance & Time & Speed & Arrival.Dogs & Elapsed.Time & Departure.Dogs & Departure & Arrival\\\\\n",
       "  & <int> & <chr> & <chr> & <chr> & <chr> & <dbl> & <dbl> & <int> & <dbl> & <dbl> & <int> & <dbl> & <int> & <chr> & <chr>\\\\\n",
       "\\hline\n",
       "\t1 & 2 & Ryan Redington  & Veteran & United States  & Fairbanks & 64.8321 & -147.813 & NA & 0 & NA & NA &  0 & 16 & 2017-03-06 11:00:00 & NA\\\\\n",
       "\t2 & 3 & Otto Balogh     & Rookie  & Hungary        & Fairbanks & 64.8321 & -147.813 & NA & 0 & NA & NA & NA & NA & NA                  & NA\\\\\n",
       "\t3 & 4 & Misha Wiljes    & Rookie  & Czech Republic & Fairbanks & 64.8321 & -147.813 & NA & 0 & NA & NA &  0 & 15 & 2017-03-06 11:04:00 & NA\\\\\n",
       "\t4 & 5 & Cody Strathe    & Veteran & United States  & Fairbanks & 64.8321 & -147.813 & NA & 0 & NA & NA &  0 & 16 & 2017-03-06 11:06:00 & NA\\\\\n",
       "\t5 & 6 & Linwood Fiedler & Veteran & United States  & Fairbanks & 64.8321 & -147.813 & NA & 0 & NA & NA &  0 & 16 & 2017-03-06 11:08:00 & NA\\\\\n",
       "\t6 & 7 & Laura Neese     & Rookie  & United States  & Fairbanks & 64.8321 & -147.813 & NA & 0 & NA & NA &  0 & 16 & 2017-03-06 11:10:00 & NA\\\\\n",
       "\\end{tabular}\n"
      ],
      "text/markdown": [
       "\n",
       "A data.frame: 6 × 15\n",
       "\n",
       "| <!--/--> | Number &lt;int&gt; | Name &lt;chr&gt; | Status &lt;chr&gt; | Country &lt;chr&gt; | Checkpoint &lt;chr&gt; | Latitude &lt;dbl&gt; | Longitude &lt;dbl&gt; | Distance &lt;int&gt; | Time &lt;dbl&gt; | Speed &lt;dbl&gt; | Arrival.Dogs &lt;int&gt; | Elapsed.Time &lt;dbl&gt; | Departure.Dogs &lt;int&gt; | Departure &lt;chr&gt; | Arrival &lt;chr&gt; |\n",
       "|---|---|---|---|---|---|---|---|---|---|---|---|---|---|---|---|\n",
       "| 1 | 2 | Ryan Redington  | Veteran | United States  | Fairbanks | 64.8321 | -147.813 | NA | 0 | NA | NA |  0 | 16 | 2017-03-06 11:00:00 | NA |\n",
       "| 2 | 3 | Otto Balogh     | Rookie  | Hungary        | Fairbanks | 64.8321 | -147.813 | NA | 0 | NA | NA | NA | NA | NA                  | NA |\n",
       "| 3 | 4 | Misha Wiljes    | Rookie  | Czech Republic | Fairbanks | 64.8321 | -147.813 | NA | 0 | NA | NA |  0 | 15 | 2017-03-06 11:04:00 | NA |\n",
       "| 4 | 5 | Cody Strathe    | Veteran | United States  | Fairbanks | 64.8321 | -147.813 | NA | 0 | NA | NA |  0 | 16 | 2017-03-06 11:06:00 | NA |\n",
       "| 5 | 6 | Linwood Fiedler | Veteran | United States  | Fairbanks | 64.8321 | -147.813 | NA | 0 | NA | NA |  0 | 16 | 2017-03-06 11:08:00 | NA |\n",
       "| 6 | 7 | Laura Neese     | Rookie  | United States  | Fairbanks | 64.8321 | -147.813 | NA | 0 | NA | NA |  0 | 16 | 2017-03-06 11:10:00 | NA |\n",
       "\n"
      ],
      "text/plain": [
       "  Number Name            Status  Country        Checkpoint Latitude Longitude\n",
       "1 2      Ryan Redington  Veteran United States  Fairbanks  64.8321  -147.813 \n",
       "2 3      Otto Balogh     Rookie  Hungary        Fairbanks  64.8321  -147.813 \n",
       "3 4      Misha Wiljes    Rookie  Czech Republic Fairbanks  64.8321  -147.813 \n",
       "4 5      Cody Strathe    Veteran United States  Fairbanks  64.8321  -147.813 \n",
       "5 6      Linwood Fiedler Veteran United States  Fairbanks  64.8321  -147.813 \n",
       "6 7      Laura Neese     Rookie  United States  Fairbanks  64.8321  -147.813 \n",
       "  Distance Time Speed Arrival.Dogs Elapsed.Time Departure.Dogs\n",
       "1 NA       0    NA    NA            0           16            \n",
       "2 NA       0    NA    NA           NA           NA            \n",
       "3 NA       0    NA    NA            0           15            \n",
       "4 NA       0    NA    NA            0           16            \n",
       "5 NA       0    NA    NA            0           16            \n",
       "6 NA       0    NA    NA            0           16            \n",
       "  Departure           Arrival\n",
       "1 2017-03-06 11:00:00 NA     \n",
       "2 NA                  NA     \n",
       "3 2017-03-06 11:04:00 NA     \n",
       "4 2017-03-06 11:06:00 NA     \n",
       "5 2017-03-06 11:08:00 NA     \n",
       "6 2017-03-06 11:10:00 NA     "
      ]
     },
     "metadata": {},
     "output_type": "display_data"
    },
    {
     "name": "stderr",
     "output_type": "stream",
     "text": [
      "Installing package into 'C:/Users/Vidur/AppData/Local/R/win-library/4.4'\n",
      "(as 'lib' is unspecified)\n",
      "\n",
      "also installing the dependencies 'sys', 'bit', 'sass', 'cachem', 'rappdirs', 'rematch', 'askpass', 'bit64', 'prettyunits', 'bslib', 'fontawesome', 'jquerylib', 'tinytex', 'generics', 'memoise', 'blob', 'DBI', 'tidyselect', 'data.table', 'gargle', 'cellranger', 'curl', 'ids', 'rematch2', 'mime', 'openssl', 'timechange', 'systemfonts', 'textshaping', 'clipr', 'vroom', 'tzdb', 'progress', 'rmarkdown', 'selectr', 'broom', 'conflicted', 'dbplyr', 'dplyr', 'dtplyr', 'forcats', 'googledrive', 'googlesheets4', 'haven', 'hms', 'httr', 'lubridate', 'modelr', 'ragg', 'readr', 'readxl', 'reprex', 'rstudioapi', 'rvest', 'tidyr'\n",
      "\n",
      "\n"
     ]
    },
    {
     "name": "stdout",
     "output_type": "stream",
     "text": [
      "\n",
      "  There is a binary version available but the source version is later:\n",
      "     binary source needs_compilation\n",
      "ragg  1.3.2  1.3.3              TRUE\n",
      "\n",
      "  Binaries will be installed\n",
      "package 'sys' successfully unpacked and MD5 sums checked\n",
      "package 'bit' successfully unpacked and MD5 sums checked\n",
      "package 'sass' successfully unpacked and MD5 sums checked\n",
      "package 'cachem' successfully unpacked and MD5 sums checked\n",
      "package 'rappdirs' successfully unpacked and MD5 sums checked\n",
      "package 'rematch' successfully unpacked and MD5 sums checked\n",
      "package 'askpass' successfully unpacked and MD5 sums checked\n",
      "package 'bit64' successfully unpacked and MD5 sums checked\n",
      "package 'prettyunits' successfully unpacked and MD5 sums checked\n",
      "package 'bslib' successfully unpacked and MD5 sums checked\n",
      "package 'fontawesome' successfully unpacked and MD5 sums checked\n",
      "package 'jquerylib' successfully unpacked and MD5 sums checked\n",
      "package 'tinytex' successfully unpacked and MD5 sums checked\n",
      "package 'generics' successfully unpacked and MD5 sums checked\n",
      "package 'memoise' successfully unpacked and MD5 sums checked\n",
      "package 'blob' successfully unpacked and MD5 sums checked\n",
      "package 'DBI' successfully unpacked and MD5 sums checked\n",
      "package 'tidyselect' successfully unpacked and MD5 sums checked\n",
      "package 'data.table' successfully unpacked and MD5 sums checked\n",
      "package 'gargle' successfully unpacked and MD5 sums checked\n",
      "package 'cellranger' successfully unpacked and MD5 sums checked\n",
      "package 'curl' successfully unpacked and MD5 sums checked\n",
      "package 'ids' successfully unpacked and MD5 sums checked\n",
      "package 'rematch2' successfully unpacked and MD5 sums checked\n",
      "package 'mime' successfully unpacked and MD5 sums checked\n",
      "package 'openssl' successfully unpacked and MD5 sums checked\n",
      "package 'timechange' successfully unpacked and MD5 sums checked\n"
     ]
    },
    {
     "name": "stderr",
     "output_type": "stream",
     "text": [
      "Warning message:\n",
      "\"cannot remove prior installation of package 'timechange'\"\n",
      "Warning message in file.copy(savedcopy, lib, recursive = TRUE):\n",
      "\"problem copying C:\\Users\\Vidur\\AppData\\Local\\R\\win-library\\4.4\\00LOCK\\timechange\\libs\\x64\\timechange.dll to C:\\Users\\Vidur\\AppData\\Local\\R\\win-library\\4.4\\timechange\\libs\\x64\\timechange.dll: Permission denied\"\n",
      "Warning message:\n",
      "\"restored 'timechange'\"\n"
     ]
    },
    {
     "name": "stdout",
     "output_type": "stream",
     "text": [
      "package 'systemfonts' successfully unpacked and MD5 sums checked\n",
      "package 'textshaping' successfully unpacked and MD5 sums checked\n",
      "package 'clipr' successfully unpacked and MD5 sums checked\n",
      "package 'vroom' successfully unpacked and MD5 sums checked\n",
      "package 'tzdb' successfully unpacked and MD5 sums checked\n"
     ]
    },
    {
     "name": "stderr",
     "output_type": "stream",
     "text": [
      "Warning message:\n",
      "\"cannot remove prior installation of package 'tzdb'\"\n",
      "Warning message in file.copy(savedcopy, lib, recursive = TRUE):\n",
      "\"problem copying C:\\Users\\Vidur\\AppData\\Local\\R\\win-library\\4.4\\00LOCK\\tzdb\\libs\\x64\\tzdb.dll to C:\\Users\\Vidur\\AppData\\Local\\R\\win-library\\4.4\\tzdb\\libs\\x64\\tzdb.dll: Permission denied\"\n",
      "Warning message:\n",
      "\"restored 'tzdb'\"\n"
     ]
    },
    {
     "name": "stdout",
     "output_type": "stream",
     "text": [
      "package 'progress' successfully unpacked and MD5 sums checked\n",
      "package 'rmarkdown' successfully unpacked and MD5 sums checked\n",
      "package 'selectr' successfully unpacked and MD5 sums checked\n",
      "package 'broom' successfully unpacked and MD5 sums checked\n",
      "package 'conflicted' successfully unpacked and MD5 sums checked\n",
      "package 'dbplyr' successfully unpacked and MD5 sums checked\n",
      "package 'dplyr' successfully unpacked and MD5 sums checked\n"
     ]
    },
    {
     "name": "stderr",
     "output_type": "stream",
     "text": [
      "Warning message:\n",
      "\"cannot remove prior installation of package 'dplyr'\"\n",
      "Warning message in file.copy(savedcopy, lib, recursive = TRUE):\n",
      "\"problem copying C:\\Users\\Vidur\\AppData\\Local\\R\\win-library\\4.4\\00LOCK\\dplyr\\libs\\x64\\dplyr.dll to C:\\Users\\Vidur\\AppData\\Local\\R\\win-library\\4.4\\dplyr\\libs\\x64\\dplyr.dll: Permission denied\"\n",
      "Warning message:\n",
      "\"restored 'dplyr'\"\n"
     ]
    },
    {
     "name": "stdout",
     "output_type": "stream",
     "text": [
      "package 'dtplyr' successfully unpacked and MD5 sums checked\n",
      "package 'forcats' successfully unpacked and MD5 sums checked\n",
      "package 'googledrive' successfully unpacked and MD5 sums checked\n",
      "package 'googlesheets4' successfully unpacked and MD5 sums checked\n",
      "package 'haven' successfully unpacked and MD5 sums checked\n",
      "package 'hms' successfully unpacked and MD5 sums checked\n",
      "package 'httr' successfully unpacked and MD5 sums checked\n",
      "package 'lubridate' successfully unpacked and MD5 sums checked\n"
     ]
    },
    {
     "name": "stderr",
     "output_type": "stream",
     "text": [
      "Warning message:\n",
      "\"cannot remove prior installation of package 'lubridate'\"\n",
      "Warning message in file.copy(savedcopy, lib, recursive = TRUE):\n",
      "\"problem copying C:\\Users\\Vidur\\AppData\\Local\\R\\win-library\\4.4\\00LOCK\\lubridate\\libs\\x64\\lubridate.dll to C:\\Users\\Vidur\\AppData\\Local\\R\\win-library\\4.4\\lubridate\\libs\\x64\\lubridate.dll: Permission denied\"\n",
      "Warning message:\n",
      "\"restored 'lubridate'\"\n"
     ]
    },
    {
     "name": "stdout",
     "output_type": "stream",
     "text": [
      "package 'modelr' successfully unpacked and MD5 sums checked\n",
      "package 'ragg' successfully unpacked and MD5 sums checked\n",
      "package 'readr' successfully unpacked and MD5 sums checked\n"
     ]
    },
    {
     "name": "stderr",
     "output_type": "stream",
     "text": [
      "Warning message:\n",
      "\"cannot remove prior installation of package 'readr'\"\n",
      "Warning message in file.copy(savedcopy, lib, recursive = TRUE):\n",
      "\"problem copying C:\\Users\\Vidur\\AppData\\Local\\R\\win-library\\4.4\\00LOCK\\readr\\libs\\x64\\readr.dll to C:\\Users\\Vidur\\AppData\\Local\\R\\win-library\\4.4\\readr\\libs\\x64\\readr.dll: Permission denied\"\n",
      "Warning message:\n",
      "\"restored 'readr'\"\n"
     ]
    },
    {
     "name": "stdout",
     "output_type": "stream",
     "text": [
      "package 'readxl' successfully unpacked and MD5 sums checked\n",
      "package 'reprex' successfully unpacked and MD5 sums checked\n",
      "package 'rstudioapi' successfully unpacked and MD5 sums checked\n",
      "package 'rvest' successfully unpacked and MD5 sums checked\n",
      "package 'tidyr' successfully unpacked and MD5 sums checked\n"
     ]
    },
    {
     "name": "stderr",
     "output_type": "stream",
     "text": [
      "Warning message:\n",
      "\"cannot remove prior installation of package 'tidyr'\"\n",
      "Warning message in file.copy(savedcopy, lib, recursive = TRUE):\n",
      "\"problem copying C:\\Users\\Vidur\\AppData\\Local\\R\\win-library\\4.4\\00LOCK\\tidyr\\libs\\x64\\tidyr.dll to C:\\Users\\Vidur\\AppData\\Local\\R\\win-library\\4.4\\tidyr\\libs\\x64\\tidyr.dll: Permission denied\"\n",
      "Warning message:\n",
      "\"restored 'tidyr'\"\n"
     ]
    },
    {
     "name": "stdout",
     "output_type": "stream",
     "text": [
      "package 'tidyverse' successfully unpacked and MD5 sums checked\n",
      "\n",
      "The downloaded binary packages are in\n",
      "\tC:\\Users\\Vidur\\AppData\\Local\\Temp\\RtmpA5qOFQ\\downloaded_packages\n"
     ]
    },
    {
     "name": "stderr",
     "output_type": "stream",
     "text": [
      "── \u001b[1mAttaching core tidyverse packages\u001b[22m ──────────────────────── tidyverse 2.0.0 ──\n",
      "\u001b[32m✔\u001b[39m \u001b[34mdplyr    \u001b[39m 1.1.4     \u001b[32m✔\u001b[39m \u001b[34mreadr    \u001b[39m 2.1.5\n",
      "\u001b[32m✔\u001b[39m \u001b[34mforcats  \u001b[39m 1.0.0     \u001b[32m✔\u001b[39m \u001b[34mstringr  \u001b[39m 1.5.1\n",
      "\u001b[32m✔\u001b[39m \u001b[34mggplot2  \u001b[39m 3.5.1     \u001b[32m✔\u001b[39m \u001b[34mtibble   \u001b[39m 3.2.1\n",
      "\u001b[32m✔\u001b[39m \u001b[34mlubridate\u001b[39m 1.9.3     \u001b[32m✔\u001b[39m \u001b[34mtidyr    \u001b[39m 1.3.1\n",
      "\u001b[32m✔\u001b[39m \u001b[34mpurrr    \u001b[39m 1.0.2     \n",
      "── \u001b[1mConflicts\u001b[22m ────────────────────────────────────────── tidyverse_conflicts() ──\n",
      "\u001b[31m✖\u001b[39m \u001b[34mdplyr\u001b[39m::\u001b[32mfilter()\u001b[39m masks \u001b[34mstats\u001b[39m::filter()\n",
      "\u001b[31m✖\u001b[39m \u001b[34mdplyr\u001b[39m::\u001b[32mlag()\u001b[39m    masks \u001b[34mstats\u001b[39m::lag()\n",
      "\u001b[36mℹ\u001b[39m Use the conflicted package (\u001b[3m\u001b[34m<http://conflicted.r-lib.org/>\u001b[39m\u001b[23m) to force all conflicts to become errors\n"
     ]
    }
   ],
   "source": [
    "# Load the data from Iditarod.txt\n",
    "iditarod_data <- read.table(\"Iditarod.txt\", header = TRUE, sep = \"\\t\")  # Replace '\\t' with the appropriate separator if different\n",
    "\n",
    "# View the first few rows to check the structure\n",
    "head(iditarod_data)\n",
    "\n",
    "# Load the tidyverse package\n",
    "install.packages(\"tidyverse\")\n",
    "library(tidyverse)\n"
   ]
  },
  {
   "cell_type": "markdown",
   "id": "7d7bb6",
   "metadata": {
    "collapsed": false
   },
   "source": [
    "**Q18.2.** Use pipes (`%>%`) to print all dogs with speed > 11, and then use the `head()` function to print the first few instances."
   ]
  },
  {
   "cell_type": "code",
   "execution_count": 4,
   "id": "bc10d9",
   "metadata": {
    "collapsed": false,
    "vscode": {
     "languageId": "r"
    }
   },
   "outputs": [
    {
     "data": {
      "text/html": [
       "<table class=\"dataframe\">\n",
       "<caption>A data.frame: 6 × 15</caption>\n",
       "<thead>\n",
       "\t<tr><th></th><th scope=col>Number</th><th scope=col>Name</th><th scope=col>Status</th><th scope=col>Country</th><th scope=col>Checkpoint</th><th scope=col>Latitude</th><th scope=col>Longitude</th><th scope=col>Distance</th><th scope=col>Time</th><th scope=col>Speed</th><th scope=col>Arrival.Dogs</th><th scope=col>Elapsed.Time</th><th scope=col>Departure.Dogs</th><th scope=col>Departure</th><th scope=col>Arrival</th></tr>\n",
       "\t<tr><th></th><th scope=col>&lt;int&gt;</th><th scope=col>&lt;chr&gt;</th><th scope=col>&lt;chr&gt;</th><th scope=col>&lt;chr&gt;</th><th scope=col>&lt;chr&gt;</th><th scope=col>&lt;dbl&gt;</th><th scope=col>&lt;dbl&gt;</th><th scope=col>&lt;int&gt;</th><th scope=col>&lt;dbl&gt;</th><th scope=col>&lt;dbl&gt;</th><th scope=col>&lt;int&gt;</th><th scope=col>&lt;dbl&gt;</th><th scope=col>&lt;int&gt;</th><th scope=col>&lt;chr&gt;</th><th scope=col>&lt;chr&gt;</th></tr>\n",
       "</thead>\n",
       "<tbody>\n",
       "\t<tr><th scope=row>1</th><td> 6</td><td>Linwood Fiedler  </td><td>Veteran</td><td>United States </td><td>Nenana</td><td>64.5952</td><td>-149.0897</td><td>60</td><td>5.05</td><td>11.88</td><td>16</td><td>3.93</td><td>16</td><td>2017-03-06 20:07:00</td><td>2017-03-06 16:11:00</td></tr>\n",
       "\t<tr><th scope=row>2</th><td> 5</td><td>Cody Strathe     </td><td>Veteran</td><td>United States </td><td>Nenana</td><td>64.5952</td><td>-149.0897</td><td>60</td><td>5.22</td><td>11.50</td><td>16</td><td>0.12</td><td>16</td><td>2017-03-06 16:26:00</td><td>2017-03-06 16:19:00</td></tr>\n",
       "\t<tr><th scope=row>3</th><td> 4</td><td>Misha Wiljes     </td><td>Rookie </td><td>Czech Republic</td><td>Nenana</td><td>64.5952</td><td>-149.0897</td><td>60</td><td>5.25</td><td>11.43</td><td>15</td><td>5.93</td><td>15</td><td>2017-03-06 22:15:00</td><td>2017-03-06 16:19:00</td></tr>\n",
       "\t<tr><th scope=row>4</th><td> 9</td><td>Michelle Phillips</td><td>Veteran</td><td>Canada        </td><td>Nenana</td><td>64.5952</td><td>-149.0897</td><td>60</td><td>5.18</td><td>11.58</td><td>16</td><td>3.48</td><td>16</td><td>2017-03-06 19:54:00</td><td>2017-03-06 16:25:00</td></tr>\n",
       "\t<tr><th scope=row>5</th><td>15</td><td>Martin Buser     </td><td>Veteran</td><td>United States </td><td>Nenana</td><td>64.5952</td><td>-149.0897</td><td>60</td><td>5.02</td><td>11.96</td><td>16</td><td>0.23</td><td>16</td><td>2017-03-06 16:41:00</td><td>2017-03-06 16:27:00</td></tr>\n",
       "\t<tr><th scope=row>6</th><td>14</td><td>Ray Redington Jr.</td><td>Veteran</td><td>United States </td><td>Nenana</td><td>64.5952</td><td>-149.0897</td><td>60</td><td>5.33</td><td>11.25</td><td>16</td><td>3.15</td><td>16</td><td>2017-03-06 19:53:00</td><td>2017-03-06 16:44:00</td></tr>\n",
       "</tbody>\n",
       "</table>\n"
      ],
      "text/latex": [
       "A data.frame: 6 × 15\n",
       "\\begin{tabular}{r|lllllllllllllll}\n",
       "  & Number & Name & Status & Country & Checkpoint & Latitude & Longitude & Distance & Time & Speed & Arrival.Dogs & Elapsed.Time & Departure.Dogs & Departure & Arrival\\\\\n",
       "  & <int> & <chr> & <chr> & <chr> & <chr> & <dbl> & <dbl> & <int> & <dbl> & <dbl> & <int> & <dbl> & <int> & <chr> & <chr>\\\\\n",
       "\\hline\n",
       "\t1 &  6 & Linwood Fiedler   & Veteran & United States  & Nenana & 64.5952 & -149.0897 & 60 & 5.05 & 11.88 & 16 & 3.93 & 16 & 2017-03-06 20:07:00 & 2017-03-06 16:11:00\\\\\n",
       "\t2 &  5 & Cody Strathe      & Veteran & United States  & Nenana & 64.5952 & -149.0897 & 60 & 5.22 & 11.50 & 16 & 0.12 & 16 & 2017-03-06 16:26:00 & 2017-03-06 16:19:00\\\\\n",
       "\t3 &  4 & Misha Wiljes      & Rookie  & Czech Republic & Nenana & 64.5952 & -149.0897 & 60 & 5.25 & 11.43 & 15 & 5.93 & 15 & 2017-03-06 22:15:00 & 2017-03-06 16:19:00\\\\\n",
       "\t4 &  9 & Michelle Phillips & Veteran & Canada         & Nenana & 64.5952 & -149.0897 & 60 & 5.18 & 11.58 & 16 & 3.48 & 16 & 2017-03-06 19:54:00 & 2017-03-06 16:25:00\\\\\n",
       "\t5 & 15 & Martin Buser      & Veteran & United States  & Nenana & 64.5952 & -149.0897 & 60 & 5.02 & 11.96 & 16 & 0.23 & 16 & 2017-03-06 16:41:00 & 2017-03-06 16:27:00\\\\\n",
       "\t6 & 14 & Ray Redington Jr. & Veteran & United States  & Nenana & 64.5952 & -149.0897 & 60 & 5.33 & 11.25 & 16 & 3.15 & 16 & 2017-03-06 19:53:00 & 2017-03-06 16:44:00\\\\\n",
       "\\end{tabular}\n"
      ],
      "text/markdown": [
       "\n",
       "A data.frame: 6 × 15\n",
       "\n",
       "| <!--/--> | Number &lt;int&gt; | Name &lt;chr&gt; | Status &lt;chr&gt; | Country &lt;chr&gt; | Checkpoint &lt;chr&gt; | Latitude &lt;dbl&gt; | Longitude &lt;dbl&gt; | Distance &lt;int&gt; | Time &lt;dbl&gt; | Speed &lt;dbl&gt; | Arrival.Dogs &lt;int&gt; | Elapsed.Time &lt;dbl&gt; | Departure.Dogs &lt;int&gt; | Departure &lt;chr&gt; | Arrival &lt;chr&gt; |\n",
       "|---|---|---|---|---|---|---|---|---|---|---|---|---|---|---|---|\n",
       "| 1 |  6 | Linwood Fiedler   | Veteran | United States  | Nenana | 64.5952 | -149.0897 | 60 | 5.05 | 11.88 | 16 | 3.93 | 16 | 2017-03-06 20:07:00 | 2017-03-06 16:11:00 |\n",
       "| 2 |  5 | Cody Strathe      | Veteran | United States  | Nenana | 64.5952 | -149.0897 | 60 | 5.22 | 11.50 | 16 | 0.12 | 16 | 2017-03-06 16:26:00 | 2017-03-06 16:19:00 |\n",
       "| 3 |  4 | Misha Wiljes      | Rookie  | Czech Republic | Nenana | 64.5952 | -149.0897 | 60 | 5.25 | 11.43 | 15 | 5.93 | 15 | 2017-03-06 22:15:00 | 2017-03-06 16:19:00 |\n",
       "| 4 |  9 | Michelle Phillips | Veteran | Canada         | Nenana | 64.5952 | -149.0897 | 60 | 5.18 | 11.58 | 16 | 3.48 | 16 | 2017-03-06 19:54:00 | 2017-03-06 16:25:00 |\n",
       "| 5 | 15 | Martin Buser      | Veteran | United States  | Nenana | 64.5952 | -149.0897 | 60 | 5.02 | 11.96 | 16 | 0.23 | 16 | 2017-03-06 16:41:00 | 2017-03-06 16:27:00 |\n",
       "| 6 | 14 | Ray Redington Jr. | Veteran | United States  | Nenana | 64.5952 | -149.0897 | 60 | 5.33 | 11.25 | 16 | 3.15 | 16 | 2017-03-06 19:53:00 | 2017-03-06 16:44:00 |\n",
       "\n"
      ],
      "text/plain": [
       "  Number Name              Status  Country        Checkpoint Latitude Longitude\n",
       "1  6     Linwood Fiedler   Veteran United States  Nenana     64.5952  -149.0897\n",
       "2  5     Cody Strathe      Veteran United States  Nenana     64.5952  -149.0897\n",
       "3  4     Misha Wiljes      Rookie  Czech Republic Nenana     64.5952  -149.0897\n",
       "4  9     Michelle Phillips Veteran Canada         Nenana     64.5952  -149.0897\n",
       "5 15     Martin Buser      Veteran United States  Nenana     64.5952  -149.0897\n",
       "6 14     Ray Redington Jr. Veteran United States  Nenana     64.5952  -149.0897\n",
       "  Distance Time Speed Arrival.Dogs Elapsed.Time Departure.Dogs\n",
       "1 60       5.05 11.88 16           3.93         16            \n",
       "2 60       5.22 11.50 16           0.12         16            \n",
       "3 60       5.25 11.43 15           5.93         15            \n",
       "4 60       5.18 11.58 16           3.48         16            \n",
       "5 60       5.02 11.96 16           0.23         16            \n",
       "6 60       5.33 11.25 16           3.15         16            \n",
       "  Departure           Arrival            \n",
       "1 2017-03-06 20:07:00 2017-03-06 16:11:00\n",
       "2 2017-03-06 16:26:00 2017-03-06 16:19:00\n",
       "3 2017-03-06 22:15:00 2017-03-06 16:19:00\n",
       "4 2017-03-06 19:54:00 2017-03-06 16:25:00\n",
       "5 2017-03-06 16:41:00 2017-03-06 16:27:00\n",
       "6 2017-03-06 19:53:00 2017-03-06 16:44:00"
      ]
     },
     "metadata": {},
     "output_type": "display_data"
    }
   ],
   "source": [
    "# Load the tidyverse package\n",
    "library(tidyverse)\n",
    "\n",
    "# Filter dogs with speed > 11 and print the first few rows using pipes\n",
    "iditarod_data %>%\n",
    "  filter(Speed > 11) %>%\n",
    "  head()\n"
   ]
  },
  {
   "cell_type": "markdown",
   "id": "f484cc",
   "metadata": {
    "collapsed": false
   },
   "source": [
    "**Q18.3.** There are issues in this table. Some dogs with missing data resulted in a `Time` of zero. This may cause issues in our downstream results. Thus, we should clean up the data. Given this information, we should filter out the rows with `Time == 0` and `Speed` is `NA`. You will find the `is.na()` function useful. Please remember to save the filtered data back to the variable, or your change is not saved. "
   ]
  },
  {
   "cell_type": "code",
   "execution_count": 5,
   "id": "a75a44",
   "metadata": {
    "collapsed": false,
    "vscode": {
     "languageId": "r"
    }
   },
   "outputs": [
    {
     "data": {
      "text/html": [
       "<table class=\"dataframe\">\n",
       "<caption>A data.frame: 6 × 15</caption>\n",
       "<thead>\n",
       "\t<tr><th></th><th scope=col>Number</th><th scope=col>Name</th><th scope=col>Status</th><th scope=col>Country</th><th scope=col>Checkpoint</th><th scope=col>Latitude</th><th scope=col>Longitude</th><th scope=col>Distance</th><th scope=col>Time</th><th scope=col>Speed</th><th scope=col>Arrival.Dogs</th><th scope=col>Elapsed.Time</th><th scope=col>Departure.Dogs</th><th scope=col>Departure</th><th scope=col>Arrival</th></tr>\n",
       "\t<tr><th></th><th scope=col>&lt;int&gt;</th><th scope=col>&lt;chr&gt;</th><th scope=col>&lt;chr&gt;</th><th scope=col>&lt;chr&gt;</th><th scope=col>&lt;chr&gt;</th><th scope=col>&lt;dbl&gt;</th><th scope=col>&lt;dbl&gt;</th><th scope=col>&lt;int&gt;</th><th scope=col>&lt;dbl&gt;</th><th scope=col>&lt;dbl&gt;</th><th scope=col>&lt;int&gt;</th><th scope=col>&lt;dbl&gt;</th><th scope=col>&lt;int&gt;</th><th scope=col>&lt;chr&gt;</th><th scope=col>&lt;chr&gt;</th></tr>\n",
       "</thead>\n",
       "<tbody>\n",
       "\t<tr><th scope=row>1</th><td> 6</td><td>Linwood Fiedler  </td><td>Veteran</td><td>United States </td><td>Nenana</td><td>64.5952</td><td>-149.0897</td><td>60</td><td>5.05</td><td>11.88</td><td>16</td><td>3.93</td><td>16</td><td>2017-03-06 20:07:00</td><td>2017-03-06 16:11:00</td></tr>\n",
       "\t<tr><th scope=row>2</th><td> 5</td><td>Cody Strathe     </td><td>Veteran</td><td>United States </td><td>Nenana</td><td>64.5952</td><td>-149.0897</td><td>60</td><td>5.22</td><td>11.50</td><td>16</td><td>0.12</td><td>16</td><td>2017-03-06 16:26:00</td><td>2017-03-06 16:19:00</td></tr>\n",
       "\t<tr><th scope=row>3</th><td> 4</td><td>Misha Wiljes     </td><td>Rookie </td><td>Czech Republic</td><td>Nenana</td><td>64.5952</td><td>-149.0897</td><td>60</td><td>5.25</td><td>11.43</td><td>15</td><td>5.93</td><td>15</td><td>2017-03-06 22:15:00</td><td>2017-03-06 16:19:00</td></tr>\n",
       "\t<tr><th scope=row>4</th><td> 9</td><td>Michelle Phillips</td><td>Veteran</td><td>Canada        </td><td>Nenana</td><td>64.5952</td><td>-149.0897</td><td>60</td><td>5.18</td><td>11.58</td><td>16</td><td>3.48</td><td>16</td><td>2017-03-06 19:54:00</td><td>2017-03-06 16:25:00</td></tr>\n",
       "\t<tr><th scope=row>5</th><td>15</td><td>Martin Buser     </td><td>Veteran</td><td>United States </td><td>Nenana</td><td>64.5952</td><td>-149.0897</td><td>60</td><td>5.02</td><td>11.96</td><td>16</td><td>0.23</td><td>16</td><td>2017-03-06 16:41:00</td><td>2017-03-06 16:27:00</td></tr>\n",
       "\t<tr><th scope=row>6</th><td> 8</td><td>Ryan Anderson    </td><td>Rookie </td><td>United States </td><td>Nenana</td><td>64.5952</td><td>-149.0897</td><td>60</td><td>5.48</td><td>10.94</td><td>16</td><td>4.87</td><td>16</td><td>2017-03-06 21:33:00</td><td>2017-03-06 16:41:00</td></tr>\n",
       "</tbody>\n",
       "</table>\n"
      ],
      "text/latex": [
       "A data.frame: 6 × 15\n",
       "\\begin{tabular}{r|lllllllllllllll}\n",
       "  & Number & Name & Status & Country & Checkpoint & Latitude & Longitude & Distance & Time & Speed & Arrival.Dogs & Elapsed.Time & Departure.Dogs & Departure & Arrival\\\\\n",
       "  & <int> & <chr> & <chr> & <chr> & <chr> & <dbl> & <dbl> & <int> & <dbl> & <dbl> & <int> & <dbl> & <int> & <chr> & <chr>\\\\\n",
       "\\hline\n",
       "\t1 &  6 & Linwood Fiedler   & Veteran & United States  & Nenana & 64.5952 & -149.0897 & 60 & 5.05 & 11.88 & 16 & 3.93 & 16 & 2017-03-06 20:07:00 & 2017-03-06 16:11:00\\\\\n",
       "\t2 &  5 & Cody Strathe      & Veteran & United States  & Nenana & 64.5952 & -149.0897 & 60 & 5.22 & 11.50 & 16 & 0.12 & 16 & 2017-03-06 16:26:00 & 2017-03-06 16:19:00\\\\\n",
       "\t3 &  4 & Misha Wiljes      & Rookie  & Czech Republic & Nenana & 64.5952 & -149.0897 & 60 & 5.25 & 11.43 & 15 & 5.93 & 15 & 2017-03-06 22:15:00 & 2017-03-06 16:19:00\\\\\n",
       "\t4 &  9 & Michelle Phillips & Veteran & Canada         & Nenana & 64.5952 & -149.0897 & 60 & 5.18 & 11.58 & 16 & 3.48 & 16 & 2017-03-06 19:54:00 & 2017-03-06 16:25:00\\\\\n",
       "\t5 & 15 & Martin Buser      & Veteran & United States  & Nenana & 64.5952 & -149.0897 & 60 & 5.02 & 11.96 & 16 & 0.23 & 16 & 2017-03-06 16:41:00 & 2017-03-06 16:27:00\\\\\n",
       "\t6 &  8 & Ryan Anderson     & Rookie  & United States  & Nenana & 64.5952 & -149.0897 & 60 & 5.48 & 10.94 & 16 & 4.87 & 16 & 2017-03-06 21:33:00 & 2017-03-06 16:41:00\\\\\n",
       "\\end{tabular}\n"
      ],
      "text/markdown": [
       "\n",
       "A data.frame: 6 × 15\n",
       "\n",
       "| <!--/--> | Number &lt;int&gt; | Name &lt;chr&gt; | Status &lt;chr&gt; | Country &lt;chr&gt; | Checkpoint &lt;chr&gt; | Latitude &lt;dbl&gt; | Longitude &lt;dbl&gt; | Distance &lt;int&gt; | Time &lt;dbl&gt; | Speed &lt;dbl&gt; | Arrival.Dogs &lt;int&gt; | Elapsed.Time &lt;dbl&gt; | Departure.Dogs &lt;int&gt; | Departure &lt;chr&gt; | Arrival &lt;chr&gt; |\n",
       "|---|---|---|---|---|---|---|---|---|---|---|---|---|---|---|---|\n",
       "| 1 |  6 | Linwood Fiedler   | Veteran | United States  | Nenana | 64.5952 | -149.0897 | 60 | 5.05 | 11.88 | 16 | 3.93 | 16 | 2017-03-06 20:07:00 | 2017-03-06 16:11:00 |\n",
       "| 2 |  5 | Cody Strathe      | Veteran | United States  | Nenana | 64.5952 | -149.0897 | 60 | 5.22 | 11.50 | 16 | 0.12 | 16 | 2017-03-06 16:26:00 | 2017-03-06 16:19:00 |\n",
       "| 3 |  4 | Misha Wiljes      | Rookie  | Czech Republic | Nenana | 64.5952 | -149.0897 | 60 | 5.25 | 11.43 | 15 | 5.93 | 15 | 2017-03-06 22:15:00 | 2017-03-06 16:19:00 |\n",
       "| 4 |  9 | Michelle Phillips | Veteran | Canada         | Nenana | 64.5952 | -149.0897 | 60 | 5.18 | 11.58 | 16 | 3.48 | 16 | 2017-03-06 19:54:00 | 2017-03-06 16:25:00 |\n",
       "| 5 | 15 | Martin Buser      | Veteran | United States  | Nenana | 64.5952 | -149.0897 | 60 | 5.02 | 11.96 | 16 | 0.23 | 16 | 2017-03-06 16:41:00 | 2017-03-06 16:27:00 |\n",
       "| 6 |  8 | Ryan Anderson     | Rookie  | United States  | Nenana | 64.5952 | -149.0897 | 60 | 5.48 | 10.94 | 16 | 4.87 | 16 | 2017-03-06 21:33:00 | 2017-03-06 16:41:00 |\n",
       "\n"
      ],
      "text/plain": [
       "  Number Name              Status  Country        Checkpoint Latitude Longitude\n",
       "1  6     Linwood Fiedler   Veteran United States  Nenana     64.5952  -149.0897\n",
       "2  5     Cody Strathe      Veteran United States  Nenana     64.5952  -149.0897\n",
       "3  4     Misha Wiljes      Rookie  Czech Republic Nenana     64.5952  -149.0897\n",
       "4  9     Michelle Phillips Veteran Canada         Nenana     64.5952  -149.0897\n",
       "5 15     Martin Buser      Veteran United States  Nenana     64.5952  -149.0897\n",
       "6  8     Ryan Anderson     Rookie  United States  Nenana     64.5952  -149.0897\n",
       "  Distance Time Speed Arrival.Dogs Elapsed.Time Departure.Dogs\n",
       "1 60       5.05 11.88 16           3.93         16            \n",
       "2 60       5.22 11.50 16           0.12         16            \n",
       "3 60       5.25 11.43 15           5.93         15            \n",
       "4 60       5.18 11.58 16           3.48         16            \n",
       "5 60       5.02 11.96 16           0.23         16            \n",
       "6 60       5.48 10.94 16           4.87         16            \n",
       "  Departure           Arrival            \n",
       "1 2017-03-06 20:07:00 2017-03-06 16:11:00\n",
       "2 2017-03-06 16:26:00 2017-03-06 16:19:00\n",
       "3 2017-03-06 22:15:00 2017-03-06 16:19:00\n",
       "4 2017-03-06 19:54:00 2017-03-06 16:25:00\n",
       "5 2017-03-06 16:41:00 2017-03-06 16:27:00\n",
       "6 2017-03-06 21:33:00 2017-03-06 16:41:00"
      ]
     },
     "metadata": {},
     "output_type": "display_data"
    }
   ],
   "source": [
    "# Load tidyverse package\n",
    "library(tidyverse)\n",
    "\n",
    "# Filter out rows where Time == 0 or Speed is NA, and save the result back to the original variable\n",
    "iditarod_data <- iditarod_data %>%\n",
    "  filter(Time != 0 & !is.na(Speed))\n",
    "\n",
    "# View the first few rows of the cleaned data\n",
    "head(iditarod_data)\n"
   ]
  },
  {
   "cell_type": "markdown",
   "id": "15c06d",
   "metadata": {
    "collapsed": false
   },
   "source": [
    "**Q18.4.** Use pipes (`%>%`) to find the average value of `Time` for every country, and then sort the countries by average time (ascending or descending).\n",
    "\n",
    "[HINT: You'll need to use `mean()` with `na.rm = TRUE`, because some dogs have a time of `NA`. ]"
   ]
  },
  {
   "cell_type": "code",
   "execution_count": 7,
   "id": "ffe867",
   "metadata": {
    "collapsed": false,
    "vscode": {
     "languageId": "r"
    }
   },
   "outputs": [
    {
     "data": {
      "text/html": [
       "<table class=\"dataframe\">\n",
       "<caption>A tibble: 7 × 2</caption>\n",
       "<thead>\n",
       "\t<tr><th scope=col>Country</th><th scope=col>average_time</th></tr>\n",
       "\t<tr><th scope=col>&lt;chr&gt;</th><th scope=col>&lt;dbl&gt;</th></tr>\n",
       "</thead>\n",
       "<tbody>\n",
       "\t<tr><td>France        </td><td> 8.635000</td></tr>\n",
       "\t<tr><td>Canada        </td><td> 8.875312</td></tr>\n",
       "\t<tr><td>Sweden        </td><td> 9.201250</td></tr>\n",
       "\t<tr><td>Norway        </td><td> 9.250469</td></tr>\n",
       "\t<tr><td>United States </td><td> 9.274131</td></tr>\n",
       "\t<tr><td>Czech Republic</td><td>10.149375</td></tr>\n",
       "\t<tr><td>England       </td><td>14.297273</td></tr>\n",
       "</tbody>\n",
       "</table>\n"
      ],
      "text/latex": [
       "A tibble: 7 × 2\n",
       "\\begin{tabular}{ll}\n",
       " Country & average\\_time\\\\\n",
       " <chr> & <dbl>\\\\\n",
       "\\hline\n",
       "\t France         &  8.635000\\\\\n",
       "\t Canada         &  8.875312\\\\\n",
       "\t Sweden         &  9.201250\\\\\n",
       "\t Norway         &  9.250469\\\\\n",
       "\t United States  &  9.274131\\\\\n",
       "\t Czech Republic & 10.149375\\\\\n",
       "\t England        & 14.297273\\\\\n",
       "\\end{tabular}\n"
      ],
      "text/markdown": [
       "\n",
       "A tibble: 7 × 2\n",
       "\n",
       "| Country &lt;chr&gt; | average_time &lt;dbl&gt; |\n",
       "|---|---|\n",
       "| France         |  8.635000 |\n",
       "| Canada         |  8.875312 |\n",
       "| Sweden         |  9.201250 |\n",
       "| Norway         |  9.250469 |\n",
       "| United States  |  9.274131 |\n",
       "| Czech Republic | 10.149375 |\n",
       "| England        | 14.297273 |\n",
       "\n"
      ],
      "text/plain": [
       "  Country        average_time\n",
       "1 France          8.635000   \n",
       "2 Canada          8.875312   \n",
       "3 Sweden          9.201250   \n",
       "4 Norway          9.250469   \n",
       "5 United States   9.274131   \n",
       "6 Czech Republic 10.149375   \n",
       "7 England        14.297273   "
      ]
     },
     "metadata": {},
     "output_type": "display_data"
    }
   ],
   "source": [
    "# Load tidyverse package\n",
    "library(tidyverse)\n",
    "\n",
    "# Calculate the average Time for each country and sort by average time in ascending order\n",
    "iditarod_data %>%\n",
    "  group_by(Country) %>%  # Group by country\n",
    "  summarize(average_time = mean(Time, na.rm = TRUE)) %>%  # Calculate the average time, ignoring NAs\n",
    "  arrange(average_time)  # Sort by average time in ascending order"
   ]
  },
  {
   "cell_type": "markdown",
   "id": "3170f9",
   "metadata": {
    "collapsed": false
   },
   "source": [
    "**Q18.5.** Using these data, create a new plot which uses \n",
    "\n",
    "- Use at least two pipes (`%>%`) and two dplyr commands (`mutate()`, `group_by()`, `summarise()`, `filter()`, `arrange()`, ...) to manipulate the dataset.\n",
    "\n",
    "- Use a different plot type (`geom_line()`, `geom_point()`, `geom_boxplot()`, `geom_bar()`, or more! [This website](http://r-statistics.co/Top50-Ggplot2-Visualizations-MasterList-R-Code.html) describes a large spectrum of plotting types).\n",
    "\n",
    "- Use color, shape, or size as an aesthetic."
   ]
  },
  {
   "cell_type": "code",
   "execution_count": 10,
   "id": "1cf8e6",
   "metadata": {
    "collapsed": false,
    "vscode": {
     "languageId": "r"
    }
   },
   "outputs": [
    {
     "data": {
      "image/png": "[encoded data removed]",
      "text/plain": [
       "plot without title"
      ]
     },
     "metadata": {
      "image/png": {
       "height": 420,
       "width": 420
      }
     },
     "output_type": "display_data"
    }
   ],
   "source": [
    "# Load tidyverse package\n",
    "library(tidyverse)\n",
    "\n",
    "# Manipulate the dataset to calculate the average speed for each country and number of dogs\n",
    "iditarod_data %>%\n",
    "  filter(!is.na(Speed)) %>%  # Remove rows with missing Speed values\n",
    "  group_by(Country) %>%      # Group by Country\n",
    "  summarize(average_speed = mean(Speed, na.rm = TRUE),  # Calculate the average speed for each country\n",
    "            num_dogs = n()) %>%  # Count the number of dogs (entries) for each country\n",
    "  arrange(desc(average_speed)) %>%  # Sort by average speed in descending order\n",
    "  ggplot(aes(x = reorder(Country, average_speed), y = average_speed, fill = Country)) +\n",
    "  geom_bar(stat = \"identity\") +  # Create a bar plot\n",
    "  geom_text(aes(label = num_dogs), vjust = -0.5) +  # Add the number of dogs as labels on top of the bars\n",
    "  labs(title = \"Average Speed by Country\",\n",
    "       x = \"Country\",\n",
    "       y = \"Average Speed (mph)\") +\n",
    "  theme_minimal() +  # Use a clean theme\n",
    "  theme(axis.text.x = element_text(angle = 45, hjust = 1))  # Rotate x-axis labels for better readability\n"
   ]
  },
  {
   "cell_type": "markdown",
   "id": "3cce0e",
   "metadata": {
    "collapsed": false
   },
   "source": [
    "### Section Five: Concepts from RNA-seq  ###"
   ]
  },
  {
   "cell_type": "markdown",
   "id": "ce1e17",
   "metadata": {
    "collapsed": false
   },
   "source": [
    "**Q19.** What issue does PCR amplification prior to sequencing resolve in an RNA-seq experiment? What is the key-drawback of including a PCR-amplication step in an RNA-seq experiment? What types of transcripts suffer most from this shortcoming of PCR amplification?"
   ]
  },
  {
   "cell_type": "raw",
   "id": "261ff0",
   "metadata": {
    "collapsed": false,
    "vscode": {
     "languageId": "raw"
    }
   },
   "source": [
    "RNA-seq experiments often start with small quantities of RNA, especially when working with rare cell types or limited biological samples. PCR amplification increases the quantity of cDNA to a level that can be efficiently sequenced.\n",
    "PCR tends to preferentially amplify more abundant cDNA molecules. As a result, already abundant transcripts can become even more dominant in the sequencing data, potentially skewing the results.\n",
    " Transcripts that are initially present in low amounts are most affected because they may not amplify as efficiently as high-abundance transcripts. This can lead to an underrepresentation of rare transcripts in the final sequencing data.\n"
   ]
  },
  {
   "cell_type": "markdown",
   "id": "45b649",
   "metadata": {
    "collapsed": false
   },
   "source": [
    "**Q20.** What are the advantages of using poly-dT primers vs random primers during cDNA formation during RNA-seq? Which types of transcripts will each capture?"
   ]
  },
  {
   "cell_type": "raw",
   "id": "fa533a",
   "metadata": {
    "collapsed": false,
    "vscode": {
     "languageId": "raw"
    }
   },
   "source": [
    "Poly-dT Primers Advantages:\n",
    "Selective for mRNA: Poly-dT primers specifically bind to the poly-A tail present at the 3' end of mature eukaryotic mRNA molecules. This allows selective reverse transcription of mRNA, excluding ribosomal RNA (rRNA), transfer RNA (tRNA), and other non-polyadenylated RNAs.\n",
    "Simpler Protocol: Using poly-dT primers simplifies the process because it avoids contamination from non-mRNA species, making it easier to focus on protein-coding gene expression.\n",
    "Higher Specificity: Poly-dT primers are highly specific for mature mRNAs, reducing the sequencing of non-coding RNAs and other unwanted RNA types.\n",
    "\n",
    "poly-dT primers Types of Transcripts Captured:\n",
    "Mature mRNA with Poly-A Tails: Poly-dT primers primarily capture eukaryotic mRNA, which contains a poly-A tail at the 3' end.\n",
    "3' End Bias: Since poly-dT primers initiate transcription from the poly-A tail, the resulting cDNA tends to have a bias toward the 3' ends of the transcripts. This can limit the coverage of full-length transcripts, especially for very long mRNAs.\n",
    "\n",
    "randomn primers Types of Transcripts Captured:\n",
    "All RNA Types: Random primers can capture all RNA molecules, including mRNA, rRNA, tRNA, long non-coding RNA (lncRNA), and other non-polyadenylated RNAs.\n",
    "Full-Length mRNA: Because they bind throughout the RNA molecule, random primers can generate cDNA that represents the full length of transcripts, capturing both 5' and 3' ends."
   ]
  },
  {
   "cell_type": "markdown",
   "id": "22cc4a",
   "metadata": {
    "collapsed": false
   },
   "source": [
    "### Section Six: Multiple Hypothesis Testing"
   ]
  },
  {
   "cell_type": "markdown",
   "id": "3356ef",
   "metadata": {
    "collapsed": false
   },
   "source": [
    "**Q21.** What is the difference between Bonferroni correction and FDR correction?"
   ]
  },
  {
   "cell_type": "raw",
   "id": "99c2ff",
   "metadata": {
    "collapsed": false
   },
   "source": []
  },
  {
   "cell_type": "markdown",
   "id": "abeb36",
   "metadata": {
    "collapsed": false
   },
   "source": [
    "**Q22.** What is an example of an analysis where Bonferroni correction would be appropriate, but FDR correction is not? Why?"
   ]
  },
  {
   "cell_type": "raw",
   "id": "42aa0c",
   "metadata": {
    "collapsed": false
   },
   "source": []
  },
  {
   "cell_type": "markdown",
   "id": "fa3d36",
   "metadata": {
    "collapsed": false
   },
   "source": [
    "**Q23.** What is an example of an analysis where FDR correction would be appropriate, but Bonferroni correction might not be recommended? Why?"
   ]
  },
  {
   "cell_type": "raw",
   "id": "e98b46",
   "metadata": {
    "collapsed": false
   },
   "source": []
  },
  {
   "cell_type": "markdown",
   "id": "c32dfb",
   "metadata": {
    "collapsed": false
   },
   "source": [
    "**Q24.** Determine if the following statements are true or false. If a statement is false, correct it so that it is true.\n",
    "\n",
    "1. A p-value is the probability that a result is true under the assumption of random sampling.\n",
    "2. In an analysis where 1,000 tests are conducted, approximately 50 tests are expected to be significant at a significance level of 0.01, even if the null hypothesis is true.\n",
    "3. In order to reduce multiple testing correction, biologists should first visually examine data, but without testing, in order to decide which hypothesis tests are most likely to be significant."
   ]
  },
  {
   "cell_type": "code",
   "execution_count": null,
   "id": "563982",
   "metadata": {
    "collapsed": false,
    "vscode": {
     "languageId": "r"
    }
   },
   "outputs": [],
   "source": []
  }
 ],
 "metadata": {
  "kernelspec": {
   "display_name": "R",
   "language": "R",
   "name": "ir"
  },
  "language_info": {
   "codemirror_mode": "r",
   "file_extension": ".r",
   "mimetype": "text/x-r-source",
   "name": "R",
   "pygments_lexer": "r",
   "version": "4.4.1"
  },
  "name": "Online_database_in_class.ipynb"
 },
 "nbformat": 4,
 "nbformat_minor": 4
}
